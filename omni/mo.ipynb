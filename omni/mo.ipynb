{
 "cells": [
  {
   "cell_type": "markdown",
   "metadata": {},
   "source": [
    "### Initialize"
   ]
  },
  {
   "cell_type": "code",
   "execution_count": 1,
   "metadata": {},
   "outputs": [
    {
     "data": {
      "text/plain": [
       "/home/vf/om/models/omni"
      ]
     },
     "metadata": {},
     "output_type": "display_data"
    }
   ],
   "source": [
    "cd()"
   ]
  },
  {
   "cell_type": "code",
   "execution_count": 2,
   "metadata": {},
   "outputs": [
    {
     "data": {
      "text/plain": [
       "/home/vf/om/models/omni/tmp"
      ]
     },
     "metadata": {},
     "output_type": "display_data"
    }
   ],
   "source": [
    "cd(\"tmp\")"
   ]
  },
  {
   "cell_type": "code",
   "execution_count": 3,
   "metadata": {},
   "outputs": [
    {
     "data": {
      "text/plain": [
       "/usr/lib/omlibrary:/home/vf/.openmodelica/libraries/"
      ]
     },
     "metadata": {},
     "output_type": "display_data"
    }
   ],
   "source": [
    "getModelicaPath()"
   ]
  },
  {
   "cell_type": "code",
   "execution_count": 4,
   "metadata": {},
   "outputs": [
    {
     "data": {
      "text/plain": [
       "True"
      ]
     },
     "metadata": {},
     "output_type": "display_data"
    }
   ],
   "source": [
    "setModelicaPath(\"/usr/lib/omlibrary:/home/vf/.openmodelica/libraries:/home/vf/om/models/omni/thin/lib/\")"
   ]
  },
  {
   "cell_type": "code",
   "execution_count": 5,
   "metadata": {},
   "outputs": [
    {
     "data": {
      "text/plain": [
       "/usr/lib/omlibrary:/home/vf/.openmodelica/libraries:/home/vf/om/models/omni/thin/lib/"
      ]
     },
     "metadata": {},
     "output_type": "display_data"
    }
   ],
   "source": [
    "getModelicaPath()"
   ]
  },
  {
   "cell_type": "code",
   "execution_count": 6,
   "metadata": {},
   "outputs": [
    {
     "data": {
      "text/plain": [
       "True"
      ]
     },
     "metadata": {},
     "output_type": "display_data"
    }
   ],
   "source": [
    "loadModel(Modelica)"
   ]
  },
  {
   "cell_type": "markdown",
   "metadata": {},
   "source": [
    "### Load and run the experiment"
   ]
  },
  {
   "cell_type": "code",
   "execution_count": null,
   "metadata": {},
   "outputs": [],
   "source": [
    "loadModel(MBS)"
   ]
  },
  {
   "cell_type": "code",
   "execution_count": null,
   "metadata": {},
   "outputs": [],
   "source": [
    "loadModel(MBS.Examples.OmniVehicle.PointContact.AutonomousPatchContactOmniWheelSetTest)"
   ]
  },
  {
   "cell_type": "code",
   "execution_count": null,
   "metadata": {},
   "outputs": [],
   "source": [
    "instantiateModel(MBS.Examples.OmniVehicle.PointContact.AutonomousPatchContactOmniWheelSetGeneralTest);"
   ]
  },
  {
   "cell_type": "code",
   "execution_count": null,
   "metadata": {},
   "outputs": [],
   "source": [
    "simulate(MBS.Examples.OmniVehicle.PointContact.AutonomousPatchContactOmniWheelSetGeneralTest, outputFormat=\"csv\")"
   ]
  },
  {
   "cell_type": "code",
   "execution_count": null,
   "metadata": {},
   "outputs": [],
   "source": [
    "getErrorString()"
   ]
  },
  {
   "cell_type": "code",
   "execution_count": null,
   "metadata": {},
   "outputs": [],
   "source": [
    "getMessagesString()"
   ]
  },
  {
   "cell_type": "markdown",
   "metadata": {},
   "source": [
    "### Debugging"
   ]
  },
  {
   "cell_type": "code",
   "execution_count": null,
   "metadata": {},
   "outputs": [],
   "source": [
    "loadModel(MBS.Examples.OmniVehicle.PointContact.Debug)"
   ]
  },
  {
   "cell_type": "code",
   "execution_count": null,
   "metadata": {},
   "outputs": [],
   "source": [
    "checkModel(MBS.Examples.OmniVehicle.PointContact.Debug)"
   ]
  },
  {
   "cell_type": "code",
   "execution_count": null,
   "metadata": {},
   "outputs": [],
   "source": [
    "simulate(MBS.Examples.OmniVehicle.PointContact.Debug, outputFormat=\"csv\")"
   ]
  },
  {
   "cell_type": "code",
   "execution_count": null,
   "metadata": {
    "scrolled": true
   },
   "outputs": [],
   "source": [
    "getErrorString()"
   ]
  },
  {
   "cell_type": "code",
   "execution_count": null,
   "metadata": {},
   "outputs": [],
   "source": [
    "getMessagesString()"
   ]
  },
  {
   "cell_type": "code",
   "execution_count": null,
   "metadata": {},
   "outputs": [],
   "source": [
    "getInitialStates(MBS.Examples.OmniVehicle.PointContact.Debug)"
   ]
  },
  {
   "cell_type": "markdown",
   "metadata": {},
   "source": [
    "### Debugging Lite"
   ]
  },
  {
   "cell_type": "code",
   "execution_count": null,
   "metadata": {},
   "outputs": [],
   "source": [
    "loadModel(MbsLite)"
   ]
  },
  {
   "cell_type": "code",
   "execution_count": null,
   "metadata": {},
   "outputs": [],
   "source": [
    "loadModel(MbsLite.Examples.OmniVehicle.PointContact.Debug)"
   ]
  },
  {
   "cell_type": "code",
   "execution_count": null,
   "metadata": {},
   "outputs": [],
   "source": [
    "instantiateModel(MbsLite.Examples.OmniVehicle.PointContact.Debug);"
   ]
  },
  {
   "cell_type": "code",
   "execution_count": null,
   "metadata": {},
   "outputs": [],
   "source": [
    "checkModel(MbsLite.Examples.OmniVehicle.PointContact.Debug)"
   ]
  },
  {
   "cell_type": "code",
   "execution_count": null,
   "metadata": {
    "scrolled": true
   },
   "outputs": [],
   "source": [
    "simulate(MbsLite.Examples.OmniVehicle.PointContact.Debug, outputFormat = \"csv\")"
   ]
  },
  {
   "cell_type": "code",
   "execution_count": null,
   "metadata": {
    "scrolled": false
   },
   "outputs": [],
   "source": [
    "loadModel(MbsLite.Examples.OmniVehicle.PointContact.Debug)"
   ]
  },
  {
   "cell_type": "code",
   "execution_count": null,
   "metadata": {},
   "outputs": [],
   "source": [
    "checkModel(MbsLite.Examples.OmniVehicle.PointContact.Debug)"
   ]
  },
  {
   "cell_type": "code",
   "execution_count": null,
   "metadata": {
    "scrolled": true
   },
   "outputs": [],
   "source": [
    "getErrorString()"
   ]
  },
  {
   "cell_type": "code",
   "execution_count": null,
   "metadata": {},
   "outputs": [],
   "source": [
    "getMessagesString()"
   ]
  },
  {
   "cell_type": "markdown",
   "metadata": {},
   "source": [
    "### Sandbox"
   ]
  },
  {
   "cell_type": "code",
   "execution_count": null,
   "metadata": {},
   "outputs": [],
   "source": [
    "model Comp\n",
    "    Real x;\n",
    "    Real z;\n",
    "equation\n",
    "    der(x) = -x;\n",
    "    der(z) = -z + 3;\n",
    "end Comp;\n",
    "\n",
    "model Sys\n",
    "    parameter Integer N;\n",
    "    Comp[N] Comps(each x(start = 4));\n",
    "    Real[N] ts;\n",
    "    Real y;\n",
    "    Real delta;\n",
    "    Real[3] p;\n",
    "equation\n",
    "    y = sum(Comps.x - Comps.z * delta);\n",
    "    der(delta) = sin(delta);\n",
    "    p = { 2 for i in 1 : N } + Comps.x;\n",
    "end Sys;\n",
    "\n",
    "model Test\n",
    "    Sys sys(N = 3);\n",
    "    \n",
    "    parameter Real[2] things = { 17, 19 };\n",
    "    parameter Real[2, 3] matT = { { 2 * things[i], 0, 3 * things[i] } for i in 1 : 2 };\n",
    "    parameter Real[3, 2] mat = transpose(matT);\n",
    "end Test;"
   ]
  },
  {
   "cell_type": "code",
   "execution_count": null,
   "metadata": {},
   "outputs": [],
   "source": [
    "instantiateModel(Test)"
   ]
  },
  {
   "cell_type": "code",
   "execution_count": null,
   "metadata": {},
   "outputs": [],
   "source": [
    "checkModel(Test)"
   ]
  },
  {
   "cell_type": "code",
   "execution_count": null,
   "metadata": {},
   "outputs": [],
   "source": [
    "getErrorString()"
   ]
  },
  {
   "cell_type": "code",
   "execution_count": null,
   "metadata": {},
   "outputs": [],
   "source": [
    "getMessagesString()"
   ]
  },
  {
   "cell_type": "code",
   "execution_count": null,
   "metadata": {},
   "outputs": [],
   "source": [
    "model Item\n",
    "    Real[3] F;\n",
    "equation\n",
    "    F = { 4, 5, 6 };\n",
    "end Item;\n",
    "\n",
    "model VecSum\n",
    "    Real[3] F;\n",
    "    parameter Real[3] Gravity = { 1, 2, 3 };\n",
    "    Item[2] items;\n",
    "equation\n",
    "    F = Gravity + { sum(items.F[i]) for i in 1 : 3 };\n",
    "end VecSum;"
   ]
  },
  {
   "cell_type": "code",
   "execution_count": null,
   "metadata": {},
   "outputs": [],
   "source": [
    "instantiateModel(VecSum)"
   ]
  },
  {
   "cell_type": "code",
   "execution_count": null,
   "metadata": {},
   "outputs": [],
   "source": [
    "checkModel(VecSum)"
   ]
  },
  {
   "cell_type": "code",
   "execution_count": null,
   "metadata": {},
   "outputs": [],
   "source": [
    "getErrorString()"
   ]
  },
  {
   "cell_type": "markdown",
   "metadata": {},
   "source": [
    "### Quaternions"
   ]
  },
  {
   "cell_type": "code",
   "execution_count": null,
   "metadata": {},
   "outputs": [],
   "source": [
    "MbsLite.Quaternions.QMult(\n",
    "    MbsLite.Quaternions.QMult(\n",
    "        { 1, 0, 0, 0 },\n",
    "        { cos((2 * 3.14 / 3 * (3 - 1) + 3.14 / 2) / 2), 0, sin((2 * 3.14 / 3 * (3 - 1) + 3.14 / 2) / 2), 0 }\n",
    "    ),\n",
    "    { cos((2 * 3.14 / 4 * (1 - 1)) / 2), 0, sin((2 * 3.14 / 4 * (1 - 1)) / 2), 0 }\n",
    ")"
   ]
  },
  {
   "cell_type": "code",
   "execution_count": null,
   "metadata": {},
   "outputs": [],
   "source": [
    "    MbsLite.Quaternions.QMult(\n",
    "        { 1, 0, 0, 0 },\n",
    "        { cos((2 * 3.14 / 3 * (3 - 1) + 3.14 / 2) / 2), 0, sin((2 * 3.14 / 3 * (3 - 1) + 3.14 / 2) / 2), 0 }\n",
    "    )"
   ]
  },
  {
   "cell_type": "code",
   "execution_count": null,
   "metadata": {},
   "outputs": [],
   "source": [
    "    MbsLite.Quaternions.QMult(\n",
    "        { 1, 0, 0, 0 },\n",
    "        { cos(- 3.14 / 12), 0, sin(- 3.14 / 12), 0 }\n",
    "    )"
   ]
  },
  {
   "cell_type": "code",
   "execution_count": null,
   "metadata": {},
   "outputs": [],
   "source": [
    "(2 * 3.14 / 3 * (3 - 1) + 3.14 / 2) / 2"
   ]
  },
  {
   "cell_type": "code",
   "execution_count": null,
   "metadata": {},
   "outputs": [],
   "source": [
    "3.14 / 12"
   ]
  },
  {
   "cell_type": "code",
   "execution_count": null,
   "metadata": {},
   "outputs": [],
   "source": [
    "cos(-3.14/12)"
   ]
  },
  {
   "cell_type": "code",
   "execution_count": null,
   "metadata": {},
   "outputs": [],
   "source": [
    "cos(11*3.14/12)"
   ]
  },
  {
   "cell_type": "code",
   "execution_count": null,
   "metadata": {},
   "outputs": [],
   "source": [
    "function QTest\n",
    "    output Real[4] q;\n",
    "    output Real[3, 3] T;\n",
    "    output Real[3] xRotated;\n",
    "    output Real[3] minusYRotated;\n",
    "algorithm\n",
    "    q := MbsLite.Quaternions.QRot(Modelica.Constants.pi / 6, { 0, 0, 1 });\n",
    "    T := MbsLite.Quaternions.QToT(q);\n",
    "    xRotated := T * { 1, 0, 0 };\n",
    "    minusYRotated := T * { 0, -1, 0 };\n",
    "end QTest;"
   ]
  },
  {
   "cell_type": "code",
   "execution_count": null,
   "metadata": {},
   "outputs": [],
   "source": [
    "QTest()"
   ]
  },
  {
   "cell_type": "code",
   "execution_count": null,
   "metadata": {},
   "outputs": [],
   "source": [
    "getErrorString()"
   ]
  },
  {
   "cell_type": "markdown",
   "metadata": {},
   "source": [
    "# MbsLite Tests"
   ]
  },
  {
   "cell_type": "markdown",
   "metadata": {},
   "source": [
    "### Body at rest"
   ]
  },
  {
   "cell_type": "code",
   "execution_count": 7,
   "metadata": {
    "scrolled": true
   },
   "outputs": [
    {
     "data": {
      "text/plain": [
       "true\n",
       "true\n",
       "\"function MbsLite.AssertInitialized\n",
       "  input String modelName;\n",
       "  input Real[:] value;\n",
       "  input String parameterName;\n",
       "algorithm\n",
       "  assert(max(value) < 9.999999999999999e+59, modelName + \\\": \\\" + parameterName + \\\" is not initialized\\\");\n",
       "end MbsLite.AssertInitialized;\n",
       "\n",
       "function MbsLite.AssertInitializedI\n",
       "  input String modelName;\n",
       "  input Integer value;\n",
       "  input String parameterName;\n",
       "algorithm\n",
       "  assert(value > -4611686018427387903, modelName + \\\": \\\" + parameterName + \\\" is not initialized\\\");\n",
       "end MbsLite.AssertInitializedI;\n",
       "\n",
       "function MbsLite.AssertInitializedS\n",
       "  input String modelName;\n",
       "  input String value;\n",
       "  input String parameterName;\n",
       "algorithm\n",
       "  assert(value <> \\\"NOT INITIALIZED\\\", modelName + \\\": \\\" + parameterName + \\\" is not initialized\\\");\n",
       "end MbsLite.AssertInitializedS;\n",
       "\n",
       "function MbsLite.CompareReal\n",
       "  input Real a;\n",
       "  input Real b;\n",
       "  input Real absTol = 1e-10 \\\"Absolute tolerance.\\\";\n",
       "  input Real relTol = 1e-05 \\\"Relative tolerance.\\\";\n",
       "  output Boolean equal;\n",
       "  protected Real diff;\n",
       "algorithm\n",
       "  diff := abs(a - b);\n",
       "  equal := diff < absTol or diff <= max(abs(b), abs(a)) * relTol;\n",
       "end MbsLite.CompareReal;\n",
       "\n",
       "function MbsLite.Quaternions.QMult\n",
       "  input Real[4] q1;\n",
       "  input Real[4] q2;\n",
       "  output Real[4] q3;\n",
       "  protected Real a1;\n",
       "  protected Real a2;\n",
       "  protected Real[3] A1;\n",
       "  protected Real[3] A2;\n",
       "  protected Real[3] A3;\n",
       "algorithm\n",
       "  a1 := q1[1];\n",
       "  a2 := q2[1];\n",
       "  A1 := {q1[2], q1[3], q1[4]};\n",
       "  A2 := {q2[2], q2[3], q2[4]};\n",
       "  A3 := {A2[1] * a1 + A1[1] * a2 + A1[2] * A2[3] - A1[3] * A2[2], A2[2] * a1 + A1[2] * a2 + A1[3] * A2[1] - A1[1] * A2[3], A2[3] * a1 + A1[3] * a2 + A1[1] * A2[2] - A1[2] * A2[1]};\n",
       "  q3 := {a1 * a2 + (-A1[2]) * A2[2] - A1[3] * A2[3] - A1[1] * A2[1], A3[1], A3[2], A3[3]};\n",
       "end MbsLite.Quaternions.QMult;\n",
       "\n",
       "function MbsLite.Quaternions.QToT \\\"Inline before index reduction\\\" \\\"Converts quaternion to Rotation matrix.\\\"\n",
       "  input Real[4] q;\n",
       "  output Real[3, 3] T;\n",
       "algorithm\n",
       "  T := {{(q[1] ^ 2.0 + q[2] ^ 2.0 + (-q[3] ^ 2.0) - q[4] ^ 2.0) / (q[1] ^ 2.0 + q[2] ^ 2.0 + q[3] ^ 2.0 + q[4] ^ 2.0), 2.0 * (q[2] * q[3] - q[1] * q[4]) / (q[1] ^ 2.0 + q[2] ^ 2.0 + q[3] ^ 2.0 + q[4] ^ 2.0), 2.0 * (q[2] * q[4] + q[1] * q[3]) / (q[1] ^ 2.0 + q[2] ^ 2.0 + q[3] ^ 2.0 + q[4] ^ 2.0)}, {2.0 * (q[1] * q[4] + q[2] * q[3]) / (q[1] ^ 2.0 + q[2] ^ 2.0 + q[3] ^ 2.0 + q[4] ^ 2.0), (q[1] ^ 2.0 + q[3] ^ 2.0 + (-q[2] ^ 2.0) - q[4] ^ 2.0) / (q[1] ^ 2.0 + q[2] ^ 2.0 + q[3] ^ 2.0 + q[4] ^ 2.0), 2.0 * (q[3] * q[4] - q[1] * q[2]) / (q[1] ^ 2.0 + q[2] ^ 2.0 + q[3] ^ 2.0 + q[4] ^ 2.0)}, {2.0 * (q[2] * q[4] - q[1] * q[3]) / (q[1] ^ 2.0 + q[2] ^ 2.0 + q[3] ^ 2.0 + q[4] ^ 2.0), 2.0 * (q[1] * q[2] + q[3] * q[4]) / (q[1] ^ 2.0 + q[2] ^ 2.0 + q[3] ^ 2.0 + q[4] ^ 2.0), (q[1] ^ 2.0 + q[4] ^ 2.0 - q[3] ^ 2.0 - q[2] ^ 2.0) / (q[1] ^ 2.0 + q[2] ^ 2.0 + q[3] ^ 2.0 + q[4] ^ 2.0)}};\n",
       "end MbsLite.Quaternions.QToT;\n",
       "\n",
       "function MbsLite.StringA\n",
       "  input Real[:] array;\n",
       "  input String delim = \\\", \\\";\n",
       "  output String render;\n",
       "  protected String accumulator = \\\"\\\";\n",
       "  protected Integer counter = 0;\n",
       "algorithm\n",
       "  for item in array loop\n",
       "    accumulator := accumulator + String(item, 0, true, 6);\n",
       "    counter := 1 + counter;\n",
       "    if counter < size(array, 1) then\n",
       "      accumulator := accumulator + delim;\n",
       "    end if;\n",
       "  end for;\n",
       "  render := \\\"{ \\\" + accumulator + \\\" }\\\";\n",
       "end MbsLite.StringA;\n",
       "\n",
       "class MbsLite.Test.SingleBodyAtRestTest\n",
       "  Real b.OutPort.r[1](quantity = \\\"Length\\\", unit = \\\"m\\\") \\\"Radius vector of masscenter\\\";\n",
       "  Real b.OutPort.r[2](quantity = \\\"Length\\\", unit = \\\"m\\\") \\\"Radius vector of masscenter\\\";\n",
       "  Real b.OutPort.r[3](quantity = \\\"Length\\\", unit = \\\"m\\\") \\\"Radius vector of masscenter\\\";\n",
       "  Real b.OutPort.v[1](quantity = \\\"Velocity\\\", unit = \\\"m/s\\\") \\\"Velocity vector of masscenter\\\";\n",
       "  Real b.OutPort.v[2](quantity = \\\"Velocity\\\", unit = \\\"m/s\\\") \\\"Velocity vector of masscenter\\\";\n",
       "  Real b.OutPort.v[3](quantity = \\\"Velocity\\\", unit = \\\"m/s\\\") \\\"Velocity vector of masscenter\\\";\n",
       "  Real b.OutPort.a[1](quantity = \\\"Acceleration\\\", unit = \\\"m/s2\\\") \\\"Acceleration vector of masscenter\\\";\n",
       "  Real b.OutPort.a[2](quantity = \\\"Acceleration\\\", unit = \\\"m/s2\\\") \\\"Acceleration vector of masscenter\\\";\n",
       "  Real b.OutPort.a[3](quantity = \\\"Acceleration\\\", unit = \\\"m/s2\\\") \\\"Acceleration vector of masscenter\\\";\n",
       "  Real b.OutPort.T[1,1] \\\"Matrix of rotation\\\";\n",
       "  Real b.OutPort.T[1,2] \\\"Matrix of rotation\\\";\n",
       "  Real b.OutPort.T[1,3] \\\"Matrix of rotation\\\";\n",
       "  Real b.OutPort.T[2,1] \\\"Matrix of rotation\\\";\n",
       "  Real b.OutPort.T[2,2] \\\"Matrix of rotation\\\";\n",
       "  Real b.OutPort.T[2,3] \\\"Matrix of rotation\\\";\n",
       "  Real b.OutPort.T[3,1] \\\"Matrix of rotation\\\";\n",
       "  Real b.OutPort.T[3,2] \\\"Matrix of rotation\\\";\n",
       "  Real b.OutPort.T[3,3] \\\"Matrix of rotation\\\";\n",
       "  Real b.OutPort.omega[1](quantity = \\\"AngularVelocity\\\", unit = \\\"rad/s\\\") \\\"Vector of angular rate\\\";\n",
       "  Real b.OutPort.omega[2](quantity = \\\"AngularVelocity\\\", unit = \\\"rad/s\\\") \\\"Vector of angular rate\\\";\n",
       "  Real b.OutPort.omega[3](quantity = \\\"AngularVelocity\\\", unit = \\\"rad/s\\\") \\\"Vector of angular rate\\\";\n",
       "  Real b.OutPort.epsilon[1](quantity = \\\"AngularAcceleration\\\", unit = \\\"rad/s2\\\") \\\"Vector of angular acceleration\\\";\n",
       "  Real b.OutPort.epsilon[2](quantity = \\\"AngularAcceleration\\\", unit = \\\"rad/s2\\\") \\\"Vector of angular acceleration\\\";\n",
       "  Real b.OutPort.epsilon[3](quantity = \\\"AngularAcceleration\\\", unit = \\\"rad/s2\\\") \\\"Vector of angular acceleration\\\";\n",
       "  parameter String b.name = \\\"body\\\";\n",
       "  parameter Real b.m(quantity = \\\"Mass\\\", unit = \\\"kg\\\", min = 0.0, start = 9.999999999999999e+59) = 1.0 \\\"Mass of the body\\\";\n",
       "  parameter Real b.I[1,1](quantity = \\\"MomentOfInertia\\\", unit = \\\"kg.m2\\\", start = 9.999999999999999e+59) = 1.0 \\\"Central tensor of inertia of the body\\\";\n",
       "  parameter Real b.I[1,2](quantity = \\\"MomentOfInertia\\\", unit = \\\"kg.m2\\\", start = 9.999999999999999e+59) = 0.0 \\\"Central tensor of inertia of the body\\\";\n",
       "  parameter Real b.I[1,3](quantity = \\\"MomentOfInertia\\\", unit = \\\"kg.m2\\\", start = 9.999999999999999e+59) = 0.0 \\\"Central tensor of inertia of the body\\\";\n",
       "  parameter Real b.I[2,1](quantity = \\\"MomentOfInertia\\\", unit = \\\"kg.m2\\\", start = 9.999999999999999e+59) = 0.0 \\\"Central tensor of inertia of the body\\\";\n",
       "  parameter Real b.I[2,2](quantity = \\\"MomentOfInertia\\\", unit = \\\"kg.m2\\\", start = 9.999999999999999e+59) = 1.0 \\\"Central tensor of inertia of the body\\\";\n",
       "  parameter Real b.I[2,3](quantity = \\\"MomentOfInertia\\\", unit = \\\"kg.m2\\\", start = 9.999999999999999e+59) = 0.0 \\\"Central tensor of inertia of the body\\\";\n",
       "  parameter Real b.I[3,1](quantity = \\\"MomentOfInertia\\\", unit = \\\"kg.m2\\\", start = 9.999999999999999e+59) = 0.0 \\\"Central tensor of inertia of the body\\\";\n",
       "  parameter Real b.I[3,2](quantity = \\\"MomentOfInertia\\\", unit = \\\"kg.m2\\\", start = 9.999999999999999e+59) = 0.0 \\\"Central tensor of inertia of the body\\\";\n",
       "  parameter Real b.I[3,3](quantity = \\\"MomentOfInertia\\\", unit = \\\"kg.m2\\\", start = 9.999999999999999e+59) = 1.0 \\\"Central tensor of inertia of the body\\\";\n",
       "  Real b.r[1](quantity = \\\"Length\\\", unit = \\\"m\\\", start = 0.0) \\\"Radius vector of masscenter in global coords\\\";\n",
       "  Real b.r[2](quantity = \\\"Length\\\", unit = \\\"m\\\", start = 0.0) \\\"Radius vector of masscenter in global coords\\\";\n",
       "  Real b.r[3](quantity = \\\"Length\\\", unit = \\\"m\\\", start = 0.0) \\\"Radius vector of masscenter in global coords\\\";\n",
       "  Real b.v[1](quantity = \\\"Velocity\\\", unit = \\\"m/s\\\", start = 0.0) \\\"Velocity vector of masscenter\\\";\n",
       "  Real b.v[2](quantity = \\\"Velocity\\\", unit = \\\"m/s\\\", start = 0.0) \\\"Velocity vector of masscenter\\\";\n",
       "  Real b.v[3](quantity = \\\"Velocity\\\", unit = \\\"m/s\\\", start = 0.0) \\\"Velocity vector of masscenter\\\";\n",
       "  Real b.a[1](quantity = \\\"Acceleration\\\", unit = \\\"m/s2\\\") \\\"Acceleration vector of masscenter\\\";\n",
       "  Real b.a[2](quantity = \\\"Acceleration\\\", unit = \\\"m/s2\\\") \\\"Acceleration vector of masscenter\\\";\n",
       "  Real b.a[3](quantity = \\\"Acceleration\\\", unit = \\\"m/s2\\\") \\\"Acceleration vector of masscenter\\\";\n",
       "  Real b.q[1](start = 1.0) \\\"Quaternion of body orientation.\n",
       "     QToT(q) * local = global.\n",
       "     QRot(pi/6, { 0, 0, 1 }) => this body is rotated clockwise along the third axis (normal to the screen) by pi/6\\\";\n",
       "  Real b.q[2](start = 0.0) \\\"Quaternion of body orientation.\n",
       "     QToT(q) * local = global.\n",
       "     QRot(pi/6, { 0, 0, 1 }) => this body is rotated clockwise along the third axis (normal to the screen) by pi/6\\\";\n",
       "  Real b.q[3](start = 0.0) \\\"Quaternion of body orientation.\n",
       "     QToT(q) * local = global.\n",
       "     QRot(pi/6, { 0, 0, 1 }) => this body is rotated clockwise along the third axis (normal to the screen) by pi/6\\\";\n",
       "  Real b.q[4](start = 0.0) \\\"Quaternion of body orientation.\n",
       "     QToT(q) * local = global.\n",
       "     QRot(pi/6, { 0, 0, 1 }) => this body is rotated clockwise along the third axis (normal to the screen) by pi/6\\\";\n",
       "  Real b.omega[1](quantity = \\\"AngularVelocity\\\", unit = \\\"rad/s\\\", start = 0.0) \\\"Vector of angular rate in local coords\\\";\n",
       "  Real b.omega[2](quantity = \\\"AngularVelocity\\\", unit = \\\"rad/s\\\", start = 0.0) \\\"Vector of angular rate in local coords\\\";\n",
       "  Real b.omega[3](quantity = \\\"AngularVelocity\\\", unit = \\\"rad/s\\\", start = 0.0) \\\"Vector of angular rate in local coords\\\";\n",
       "  Real b.epsilon[1](quantity = \\\"AngularAcceleration\\\", unit = \\\"rad/s2\\\") \\\"Vector of angular acceleration\\\";\n",
       "  Real b.epsilon[2](quantity = \\\"AngularAcceleration\\\", unit = \\\"rad/s2\\\") \\\"Vector of angular acceleration\\\";\n",
       "  Real b.epsilon[3](quantity = \\\"AngularAcceleration\\\", unit = \\\"rad/s2\\\") \\\"Vector of angular acceleration\\\";\n",
       "  Real b.F[1](quantity = \\\"Force\\\", unit = \\\"N\\\", start = 9.999999999999999e+59) \\\"Sum of all forces applied\\\";\n",
       "  Real b.F[2](quantity = \\\"Force\\\", unit = \\\"N\\\", start = 9.999999999999999e+59) \\\"Sum of all forces applied\\\";\n",
       "  Real b.F[3](quantity = \\\"Force\\\", unit = \\\"N\\\", start = 9.999999999999999e+59) \\\"Sum of all forces applied\\\";\n",
       "  Real b.M[1](quantity = \\\"Torque\\\", unit = \\\"N.m\\\", start = 9.999999999999999e+59) \\\"Sum of all torques applied\\\";\n",
       "  Real b.M[2](quantity = \\\"Torque\\\", unit = \\\"N.m\\\", start = 9.999999999999999e+59) \\\"Sum of all torques applied\\\";\n",
       "  Real b.M[3](quantity = \\\"Torque\\\", unit = \\\"N.m\\\", start = 9.999999999999999e+59) \\\"Sum of all torques applied\\\";\n",
       "  Real b.T[1,1] \\\"Matrix of rotation. T * local = global, cols = coords of local base in global\\\";\n",
       "  Real b.T[1,2] \\\"Matrix of rotation. T * local = global, cols = coords of local base in global\\\";\n",
       "  Real b.T[1,3] \\\"Matrix of rotation. T * local = global, cols = coords of local base in global\\\";\n",
       "  Real b.T[2,1] \\\"Matrix of rotation. T * local = global, cols = coords of local base in global\\\";\n",
       "  Real b.T[2,2] \\\"Matrix of rotation. T * local = global, cols = coords of local base in global\\\";\n",
       "  Real b.T[2,3] \\\"Matrix of rotation. T * local = global, cols = coords of local base in global\\\";\n",
       "  Real b.T[3,1] \\\"Matrix of rotation. T * local = global, cols = coords of local base in global\\\";\n",
       "  Real b.T[3,2] \\\"Matrix of rotation. T * local = global, cols = coords of local base in global\\\";\n",
       "  Real b.T[3,3] \\\"Matrix of rotation. T * local = global, cols = coords of local base in global\\\";\n",
       "  Real b.Active(start = 1.0) \\\"Flag of active dynamics\\\";\n",
       "  parameter Integer b.N = 0;\n",
       "  parameter Real b.Gravity[1](quantity = \\\"Acceleration\\\", unit = \\\"m/s2\\\") = 0.0;\n",
       "  parameter Real b.Gravity[2](quantity = \\\"Acceleration\\\", unit = \\\"m/s2\\\") = 0.0;\n",
       "  parameter Real b.Gravity[3](quantity = \\\"Acceleration\\\", unit = \\\"m/s2\\\") = 0.0;\n",
       "initial algorithm\n",
       "  MbsLite.AssertInitializedI(b.name, b.N, \\\"N\\\");\n",
       "  MbsLite.AssertInitialized(b.name, {b.Gravity[1], b.Gravity[2], b.Gravity[3]}, \\\"Gravity\\\");\n",
       "initial algorithm\n",
       "  assert(MbsLite.CompareReal(b.q[1] ^ 2.0 + b.q[2] ^ 2.0 + b.q[3] ^ 2.0 + b.q[4] ^ 2.0, 1.0, 1e-10, 1e-05), \\\"Quaternion of body orientation should have norm 1, was: \\\" + String(b.q[1] ^ 2.0 + b.q[2] ^ 2.0 + b.q[3] ^ 2.0 + b.q[4] ^ 2.0, 0, true, 6) + \\\", q = \\\" + MbsLite.StringA({b.q[1], b.q[2], b.q[3], b.q[4]}, \\\", \\\") + \\\". Are the initial conditions specified?\\\");\n",
       "  MbsLite.AssertInitializedS(b.name, b.name, \\\"name\\\");\n",
       "  MbsLite.AssertInitialized(b.name, {b.m}, \\\"m\\\");\n",
       "  MbsLite.AssertInitialized(b.name, {b.I[1,1], b.I[1,2], b.I[1,3]}, \\\"I[1, :]\\\");\n",
       "  MbsLite.AssertInitialized(b.name, {b.I[2,1], b.I[2,2], b.I[2,3]}, \\\"I[2, :]\\\");\n",
       "  MbsLite.AssertInitialized(b.name, {b.I[3,1], b.I[3,2], b.I[3,3]}, \\\"I[3, :]\\\");\n",
       "  MbsLite.AssertInitialized(b.name, {b.r[1], b.r[2], b.r[3]}, \\\"r\\\");\n",
       "  MbsLite.AssertInitialized(b.name, {b.v[1], b.v[2], b.v[3]}, \\\"v\\\");\n",
       "  MbsLite.AssertInitialized(b.name, {b.q[1], b.q[2], b.q[3], b.q[4]}, \\\"q\\\");\n",
       "  MbsLite.AssertInitialized(b.name, {b.omega[1], b.omega[2], b.omega[3]}, \\\"omega\\\");\n",
       "  MbsLite.AssertInitialized(b.name, {b.F[1], b.F[2], b.F[3]}, \\\"F\\\");\n",
       "  MbsLite.AssertInitialized(b.name, {b.M[1], b.M[2], b.M[3]}, \\\"M\\\");\n",
       "equation\n",
       "  b.F[1] = b.Gravity[1] * b.m;\n",
       "  b.F[2] = b.Gravity[2] * b.m;\n",
       "  b.F[3] = b.Gravity[3] * b.m;\n",
       "  b.M[1] = 0.0;\n",
       "  b.M[2] = 0.0;\n",
       "  b.M[3] = 0.0;\n",
       "  der(b.Active) = 0.0;\n",
       "  der(b.r[1]) = b.v[1] * b.Active;\n",
       "  der(b.r[2]) = b.v[2] * b.Active;\n",
       "  der(b.r[3]) = b.v[3] * b.Active;\n",
       "  der(b.v[1]) = b.a[1] * b.Active;\n",
       "  der(b.v[2]) = b.a[2] * b.Active;\n",
       "  der(b.v[3]) = b.a[3] * b.Active;\n",
       "  b.a[1] * b.m = b.F[1];\n",
       "  b.a[2] * b.m = b.F[2];\n",
       "  b.a[3] * b.m = b.F[3];\n",
       "  {der(b.q[1]), der(b.q[2]), der(b.q[3]), der(b.q[4])} = MbsLite.Quaternions.QMult({b.q[1], b.q[2], b.q[3], b.q[4]}, {0.0, b.omega[1], b.omega[2], b.omega[3]}) * 0.5 * b.Active;\n",
       "  der(b.omega[1]) = b.epsilon[1] * b.Active;\n",
       "  der(b.omega[2]) = b.epsilon[2] * b.Active;\n",
       "  der(b.omega[3]) = b.epsilon[3] * b.Active;\n",
       "  b.T = MbsLite.Quaternions.QToT({b.q[1], b.q[2], b.q[3], b.q[4]});\n",
       "  b.I[1,1] * b.epsilon[1] + b.I[1,2] * b.epsilon[2] + b.I[1,3] * b.epsilon[3] + b.omega[2] * (b.I[3,1] * b.omega[1] + b.I[3,2] * b.omega[2] + b.I[3,3] * b.omega[3]) - b.omega[3] * (b.I[2,1] * b.omega[1] + b.I[2,2] * b.omega[2] + b.I[2,3] * b.omega[3]) = b.T[1,1] * b.M[1] + b.T[2,1] * b.M[2] + b.T[3,1] * b.M[3];\n",
       "  b.I[2,1] * b.epsilon[1] + b.I[2,2] * b.epsilon[2] + b.I[2,3] * b.epsilon[3] + b.omega[3] * (b.I[1,1] * b.omega[1] + b.I[1,2] * b.omega[2] + b.I[1,3] * b.omega[3]) - b.omega[1] * (b.I[3,1] * b.omega[1] + b.I[3,2] * b.omega[2] + b.I[3,3] * b.omega[3]) = b.T[1,2] * b.M[1] + b.T[2,2] * b.M[2] + b.T[3,2] * b.M[3];\n",
       "  b.I[3,1] * b.epsilon[1] + b.I[3,2] * b.epsilon[2] + b.I[3,3] * b.epsilon[3] + b.omega[1] * (b.I[2,1] * b.omega[1] + b.I[2,2] * b.omega[2] + b.I[2,3] * b.omega[3]) - b.omega[2] * (b.I[1,1] * b.omega[1] + b.I[1,2] * b.omega[2] + b.I[1,3] * b.omega[3]) = b.T[1,3] * b.M[1] + b.T[2,3] * b.M[2] + b.T[3,3] * b.M[3];\n",
       "  b.OutPort.r[1] = b.r[1];\n",
       "  b.OutPort.r[2] = b.r[2];\n",
       "  b.OutPort.r[3] = b.r[3];\n",
       "  b.OutPort.v[1] = b.v[1];\n",
       "  b.OutPort.v[2] = b.v[2];\n",
       "  b.OutPort.v[3] = b.v[3];\n",
       "  b.OutPort.a[1] = b.a[1];\n",
       "  b.OutPort.a[2] = b.a[2];\n",
       "  b.OutPort.a[3] = b.a[3];\n",
       "  b.OutPort.T[1,1] = b.T[1,1];\n",
       "  b.OutPort.T[1,2] = b.T[1,2];\n",
       "  b.OutPort.T[1,3] = b.T[1,3];\n",
       "  b.OutPort.T[2,1] = b.T[2,1];\n",
       "  b.OutPort.T[2,2] = b.T[2,2];\n",
       "  b.OutPort.T[2,3] = b.T[2,3];\n",
       "  b.OutPort.T[3,1] = b.T[3,1];\n",
       "  b.OutPort.T[3,2] = b.T[3,2];\n",
       "  b.OutPort.T[3,3] = b.T[3,3];\n",
       "  b.OutPort.omega[1] = b.T[1,1] * b.omega[1] + b.T[1,2] * b.omega[2] + b.T[1,3] * b.omega[3];\n",
       "  b.OutPort.omega[2] = b.T[2,1] * b.omega[1] + b.T[2,2] * b.omega[2] + b.T[2,3] * b.omega[3];\n",
       "  b.OutPort.omega[3] = b.T[3,1] * b.omega[1] + b.T[3,2] * b.omega[2] + b.T[3,3] * b.omega[3];\n",
       "  b.OutPort.epsilon[1] = b.T[1,1] * b.epsilon[1] + b.T[1,2] * b.epsilon[2] + b.T[1,3] * b.epsilon[3];\n",
       "  b.OutPort.epsilon[2] = b.T[2,1] * b.epsilon[1] + b.T[2,2] * b.epsilon[2] + b.T[2,3] * b.epsilon[3];\n",
       "  b.OutPort.epsilon[3] = b.T[3,1] * b.epsilon[1] + b.T[3,2] * b.epsilon[2] + b.T[3,3] * b.epsilon[3];\n",
       "  when time > 0.01 then\n",
       "    assert(MbsLite.CompareReal(b.r[1] ^ 2.0 + b.r[2] ^ 2.0 + b.r[3] ^ 2.0, 0.0, 1e-10, 1e-05), \\\"b.r should be zero, was: \\\" + MbsLite.StringA({b.r[1], b.r[2], b.r[3]}, \\\", \\\"));\n",
       "  end when;\n",
       "end MbsLite.Test.SingleBodyAtRestTest;\n",
       "\"\n",
       "\"Check of MbsLite.Test.SingleBodyAtRestTest completed successfully.\n",
       "Class MbsLite.Test.SingleBodyAtRestTest has 59 equation(s) and 59 variable(s).\n",
       "25 of these are trivial equation(s).\"\n",
       "record SimulationResult\n",
       "    resultFile = \"/home/vf/om/models/omni/tmp/MbsLite.Test.SingleBodyAtRestTest_res.csv\",\n",
       "    simulationOptions = \"startTime = 0.0, stopTime = 10.0, numberOfIntervals = 100, tolerance = 1e-09, method = 'dassl', fileNamePrefix = 'MbsLite.Test.SingleBodyAtRestTest', options = '', outputFormat = 'csv', variableFilter = '.*', cflags = '', simflags = ''\",\n",
       "    messages = \"stdout            | info    | The initialization finished successfully without homotopy method.\n",
       "stdout            | info    | The simulation finished successfully.\n",
       "\",\n",
       "    timeFrontend = 1.377230781,\n",
       "    timeBackend = 0.112626621,\n",
       "    timeSimCode = 0.040415093,\n",
       "    timeTemplates = 0.06534356100000001,\n",
       "    timeCompile = 8.478944169,\n",
       "    timeSimulation = 0.053858994,\n",
       "    timeTotal = 10.128800244\n",
       "end SimulationResult;\n"
      ]
     },
     "metadata": {},
     "output_type": "display_data"
    }
   ],
   "source": [
    "loadModel(MbsLite);\n",
    "loadModel(MbsLite.Test.SingleBodyAtRestTest);\n",
    "instantiateModel(MbsLite.Test.SingleBodyAtRestTest);\n",
    "checkModel(MbsLite.Test.SingleBodyAtRestTest);\n",
    "simulate\n",
    "    ( MbsLite.Test.SingleBodyAtRestTest\n",
    "    , outputFormat = \"csv\"\n",
    "    , stopTime = 10\n",
    "    )"
   ]
  },
  {
   "cell_type": "code",
   "execution_count": 8,
   "metadata": {},
   "outputs": [
    {
     "data": {
      "text/plain": []
     },
     "metadata": {},
     "output_type": "display_data"
    }
   ],
   "source": [
    "res := strtok(readFile(\"MbsLite.Test.SingleBodyAtRestTest_res.csv\"), \"\\n\");\n",
    "// res[1]"
   ]
  },
  {
   "cell_type": "code",
   "execution_count": 9,
   "metadata": {
    "scrolled": true
   },
   "outputs": [
    {
     "data": {
      "text/plain": [
       "\"\"\n"
      ]
     },
     "metadata": {},
     "output_type": "display_data"
    }
   ],
   "source": [
    "getErrorString()"
   ]
  },
  {
   "cell_type": "markdown",
   "metadata": {},
   "source": [
    "### Body falling"
   ]
  },
  {
   "cell_type": "code",
   "execution_count": 10,
   "metadata": {
    "scrolled": true
   },
   "outputs": [
    {
     "data": {
      "text/plain": [
       "true\n",
       "true\n",
       "\"function MbsLite.AssertInitialized\n",
       "  input String modelName;\n",
       "  input Real[:] value;\n",
       "  input String parameterName;\n",
       "algorithm\n",
       "  assert(max(value) < 9.999999999999999e+59, modelName + \\\": \\\" + parameterName + \\\" is not initialized\\\");\n",
       "end MbsLite.AssertInitialized;\n",
       "\n",
       "function MbsLite.AssertInitializedI\n",
       "  input String modelName;\n",
       "  input Integer value;\n",
       "  input String parameterName;\n",
       "algorithm\n",
       "  assert(value > -4611686018427387903, modelName + \\\": \\\" + parameterName + \\\" is not initialized\\\");\n",
       "end MbsLite.AssertInitializedI;\n",
       "\n",
       "function MbsLite.AssertInitializedS\n",
       "  input String modelName;\n",
       "  input String value;\n",
       "  input String parameterName;\n",
       "algorithm\n",
       "  assert(value <> \\\"NOT INITIALIZED\\\", modelName + \\\": \\\" + parameterName + \\\" is not initialized\\\");\n",
       "end MbsLite.AssertInitializedS;\n",
       "\n",
       "function MbsLite.CompareReal\n",
       "  input Real a;\n",
       "  input Real b;\n",
       "  input Real absTol = 1e-10 \\\"Absolute tolerance.\\\";\n",
       "  input Real relTol = 1e-05 \\\"Relative tolerance.\\\";\n",
       "  output Boolean equal;\n",
       "  protected Real diff;\n",
       "algorithm\n",
       "  diff := abs(a - b);\n",
       "  equal := diff < absTol or diff <= max(abs(b), abs(a)) * relTol;\n",
       "end MbsLite.CompareReal;\n",
       "\n",
       "function MbsLite.Quaternions.QMult\n",
       "  input Real[4] q1;\n",
       "  input Real[4] q2;\n",
       "  output Real[4] q3;\n",
       "  protected Real a1;\n",
       "  protected Real a2;\n",
       "  protected Real[3] A1;\n",
       "  protected Real[3] A2;\n",
       "  protected Real[3] A3;\n",
       "algorithm\n",
       "  a1 := q1[1];\n",
       "  a2 := q2[1];\n",
       "  A1 := {q1[2], q1[3], q1[4]};\n",
       "  A2 := {q2[2], q2[3], q2[4]};\n",
       "  A3 := {A2[1] * a1 + A1[1] * a2 + A1[2] * A2[3] - A1[3] * A2[2], A2[2] * a1 + A1[2] * a2 + A1[3] * A2[1] - A1[1] * A2[3], A2[3] * a1 + A1[3] * a2 + A1[1] * A2[2] - A1[2] * A2[1]};\n",
       "  q3 := {a1 * a2 + (-A1[2]) * A2[2] - A1[3] * A2[3] - A1[1] * A2[1], A3[1], A3[2], A3[3]};\n",
       "end MbsLite.Quaternions.QMult;\n",
       "\n",
       "function MbsLite.Quaternions.QToT \\\"Inline before index reduction\\\" \\\"Converts quaternion to Rotation matrix.\\\"\n",
       "  input Real[4] q;\n",
       "  output Real[3, 3] T;\n",
       "algorithm\n",
       "  T := {{(q[1] ^ 2.0 + q[2] ^ 2.0 + (-q[3] ^ 2.0) - q[4] ^ 2.0) / (q[1] ^ 2.0 + q[2] ^ 2.0 + q[3] ^ 2.0 + q[4] ^ 2.0), 2.0 * (q[2] * q[3] - q[1] * q[4]) / (q[1] ^ 2.0 + q[2] ^ 2.0 + q[3] ^ 2.0 + q[4] ^ 2.0), 2.0 * (q[2] * q[4] + q[1] * q[3]) / (q[1] ^ 2.0 + q[2] ^ 2.0 + q[3] ^ 2.0 + q[4] ^ 2.0)}, {2.0 * (q[1] * q[4] + q[2] * q[3]) / (q[1] ^ 2.0 + q[2] ^ 2.0 + q[3] ^ 2.0 + q[4] ^ 2.0), (q[1] ^ 2.0 + q[3] ^ 2.0 + (-q[2] ^ 2.0) - q[4] ^ 2.0) / (q[1] ^ 2.0 + q[2] ^ 2.0 + q[3] ^ 2.0 + q[4] ^ 2.0), 2.0 * (q[3] * q[4] - q[1] * q[2]) / (q[1] ^ 2.0 + q[2] ^ 2.0 + q[3] ^ 2.0 + q[4] ^ 2.0)}, {2.0 * (q[2] * q[4] - q[1] * q[3]) / (q[1] ^ 2.0 + q[2] ^ 2.0 + q[3] ^ 2.0 + q[4] ^ 2.0), 2.0 * (q[1] * q[2] + q[3] * q[4]) / (q[1] ^ 2.0 + q[2] ^ 2.0 + q[3] ^ 2.0 + q[4] ^ 2.0), (q[1] ^ 2.0 + q[4] ^ 2.0 - q[3] ^ 2.0 - q[2] ^ 2.0) / (q[1] ^ 2.0 + q[2] ^ 2.0 + q[3] ^ 2.0 + q[4] ^ 2.0)}};\n",
       "end MbsLite.Quaternions.QToT;\n",
       "\n",
       "function MbsLite.StringA\n",
       "  input Real[:] array;\n",
       "  input String delim = \\\", \\\";\n",
       "  output String render;\n",
       "  protected String accumulator = \\\"\\\";\n",
       "  protected Integer counter = 0;\n",
       "algorithm\n",
       "  for item in array loop\n",
       "    accumulator := accumulator + String(item, 0, true, 6);\n",
       "    counter := 1 + counter;\n",
       "    if counter < size(array, 1) then\n",
       "      accumulator := accumulator + delim;\n",
       "    end if;\n",
       "  end for;\n",
       "  render := \\\"{ \\\" + accumulator + \\\" }\\\";\n",
       "end MbsLite.StringA;\n",
       "\n",
       "class MbsLite.Test.SingleBodyFallingTest\n",
       "  Real b.OutPort.r[1](quantity = \\\"Length\\\", unit = \\\"m\\\") \\\"Radius vector of masscenter\\\";\n",
       "  Real b.OutPort.r[2](quantity = \\\"Length\\\", unit = \\\"m\\\") \\\"Radius vector of masscenter\\\";\n",
       "  Real b.OutPort.r[3](quantity = \\\"Length\\\", unit = \\\"m\\\") \\\"Radius vector of masscenter\\\";\n",
       "  Real b.OutPort.v[1](quantity = \\\"Velocity\\\", unit = \\\"m/s\\\") \\\"Velocity vector of masscenter\\\";\n",
       "  Real b.OutPort.v[2](quantity = \\\"Velocity\\\", unit = \\\"m/s\\\") \\\"Velocity vector of masscenter\\\";\n",
       "  Real b.OutPort.v[3](quantity = \\\"Velocity\\\", unit = \\\"m/s\\\") \\\"Velocity vector of masscenter\\\";\n",
       "  Real b.OutPort.a[1](quantity = \\\"Acceleration\\\", unit = \\\"m/s2\\\") \\\"Acceleration vector of masscenter\\\";\n",
       "  Real b.OutPort.a[2](quantity = \\\"Acceleration\\\", unit = \\\"m/s2\\\") \\\"Acceleration vector of masscenter\\\";\n",
       "  Real b.OutPort.a[3](quantity = \\\"Acceleration\\\", unit = \\\"m/s2\\\") \\\"Acceleration vector of masscenter\\\";\n",
       "  Real b.OutPort.T[1,1] \\\"Matrix of rotation\\\";\n",
       "  Real b.OutPort.T[1,2] \\\"Matrix of rotation\\\";\n",
       "  Real b.OutPort.T[1,3] \\\"Matrix of rotation\\\";\n",
       "  Real b.OutPort.T[2,1] \\\"Matrix of rotation\\\";\n",
       "  Real b.OutPort.T[2,2] \\\"Matrix of rotation\\\";\n",
       "  Real b.OutPort.T[2,3] \\\"Matrix of rotation\\\";\n",
       "  Real b.OutPort.T[3,1] \\\"Matrix of rotation\\\";\n",
       "  Real b.OutPort.T[3,2] \\\"Matrix of rotation\\\";\n",
       "  Real b.OutPort.T[3,3] \\\"Matrix of rotation\\\";\n",
       "  Real b.OutPort.omega[1](quantity = \\\"AngularVelocity\\\", unit = \\\"rad/s\\\") \\\"Vector of angular rate\\\";\n",
       "  Real b.OutPort.omega[2](quantity = \\\"AngularVelocity\\\", unit = \\\"rad/s\\\") \\\"Vector of angular rate\\\";\n",
       "  Real b.OutPort.omega[3](quantity = \\\"AngularVelocity\\\", unit = \\\"rad/s\\\") \\\"Vector of angular rate\\\";\n",
       "  Real b.OutPort.epsilon[1](quantity = \\\"AngularAcceleration\\\", unit = \\\"rad/s2\\\") \\\"Vector of angular acceleration\\\";\n",
       "  Real b.OutPort.epsilon[2](quantity = \\\"AngularAcceleration\\\", unit = \\\"rad/s2\\\") \\\"Vector of angular acceleration\\\";\n",
       "  Real b.OutPort.epsilon[3](quantity = \\\"AngularAcceleration\\\", unit = \\\"rad/s2\\\") \\\"Vector of angular acceleration\\\";\n",
       "  parameter String b.name = \\\"body\\\";\n",
       "  parameter Real b.m(quantity = \\\"Mass\\\", unit = \\\"kg\\\", min = 0.0, start = 9.999999999999999e+59) = 1.0 \\\"Mass of the body\\\";\n",
       "  parameter Real b.I[1,1](quantity = \\\"MomentOfInertia\\\", unit = \\\"kg.m2\\\", start = 9.999999999999999e+59) = 1.0 \\\"Central tensor of inertia of the body\\\";\n",
       "  parameter Real b.I[1,2](quantity = \\\"MomentOfInertia\\\", unit = \\\"kg.m2\\\", start = 9.999999999999999e+59) = 0.0 \\\"Central tensor of inertia of the body\\\";\n",
       "  parameter Real b.I[1,3](quantity = \\\"MomentOfInertia\\\", unit = \\\"kg.m2\\\", start = 9.999999999999999e+59) = 0.0 \\\"Central tensor of inertia of the body\\\";\n",
       "  parameter Real b.I[2,1](quantity = \\\"MomentOfInertia\\\", unit = \\\"kg.m2\\\", start = 9.999999999999999e+59) = 0.0 \\\"Central tensor of inertia of the body\\\";\n",
       "  parameter Real b.I[2,2](quantity = \\\"MomentOfInertia\\\", unit = \\\"kg.m2\\\", start = 9.999999999999999e+59) = 1.0 \\\"Central tensor of inertia of the body\\\";\n",
       "  parameter Real b.I[2,3](quantity = \\\"MomentOfInertia\\\", unit = \\\"kg.m2\\\", start = 9.999999999999999e+59) = 0.0 \\\"Central tensor of inertia of the body\\\";\n",
       "  parameter Real b.I[3,1](quantity = \\\"MomentOfInertia\\\", unit = \\\"kg.m2\\\", start = 9.999999999999999e+59) = 0.0 \\\"Central tensor of inertia of the body\\\";\n",
       "  parameter Real b.I[3,2](quantity = \\\"MomentOfInertia\\\", unit = \\\"kg.m2\\\", start = 9.999999999999999e+59) = 0.0 \\\"Central tensor of inertia of the body\\\";\n",
       "  parameter Real b.I[3,3](quantity = \\\"MomentOfInertia\\\", unit = \\\"kg.m2\\\", start = 9.999999999999999e+59) = 1.0 \\\"Central tensor of inertia of the body\\\";\n",
       "  Real b.r[1](quantity = \\\"Length\\\", unit = \\\"m\\\", start = 0.0) \\\"Radius vector of masscenter in global coords\\\";\n",
       "  Real b.r[2](quantity = \\\"Length\\\", unit = \\\"m\\\", start = 0.0) \\\"Radius vector of masscenter in global coords\\\";\n",
       "  Real b.r[3](quantity = \\\"Length\\\", unit = \\\"m\\\", start = 0.0) \\\"Radius vector of masscenter in global coords\\\";\n",
       "  Real b.v[1](quantity = \\\"Velocity\\\", unit = \\\"m/s\\\", start = 0.0) \\\"Velocity vector of masscenter\\\";\n",
       "  Real b.v[2](quantity = \\\"Velocity\\\", unit = \\\"m/s\\\", start = 0.0) \\\"Velocity vector of masscenter\\\";\n",
       "  Real b.v[3](quantity = \\\"Velocity\\\", unit = \\\"m/s\\\", start = 0.0) \\\"Velocity vector of masscenter\\\";\n",
       "  Real b.a[1](quantity = \\\"Acceleration\\\", unit = \\\"m/s2\\\") \\\"Acceleration vector of masscenter\\\";\n",
       "  Real b.a[2](quantity = \\\"Acceleration\\\", unit = \\\"m/s2\\\") \\\"Acceleration vector of masscenter\\\";\n",
       "  Real b.a[3](quantity = \\\"Acceleration\\\", unit = \\\"m/s2\\\") \\\"Acceleration vector of masscenter\\\";\n",
       "  Real b.q[1](start = 1.0) \\\"Quaternion of body orientation.\n",
       "     QToT(q) * local = global.\n",
       "     QRot(pi/6, { 0, 0, 1 }) => this body is rotated clockwise along the third axis (normal to the screen) by pi/6\\\";\n",
       "  Real b.q[2](start = 0.0) \\\"Quaternion of body orientation.\n",
       "     QToT(q) * local = global.\n",
       "     QRot(pi/6, { 0, 0, 1 }) => this body is rotated clockwise along the third axis (normal to the screen) by pi/6\\\";\n",
       "  Real b.q[3](start = 0.0) \\\"Quaternion of body orientation.\n",
       "     QToT(q) * local = global.\n",
       "     QRot(pi/6, { 0, 0, 1 }) => this body is rotated clockwise along the third axis (normal to the screen) by pi/6\\\";\n",
       "  Real b.q[4](start = 0.0) \\\"Quaternion of body orientation.\n",
       "     QToT(q) * local = global.\n",
       "     QRot(pi/6, { 0, 0, 1 }) => this body is rotated clockwise along the third axis (normal to the screen) by pi/6\\\";\n",
       "  Real b.omega[1](quantity = \\\"AngularVelocity\\\", unit = \\\"rad/s\\\", start = 0.0) \\\"Vector of angular rate in local coords\\\";\n",
       "  Real b.omega[2](quantity = \\\"AngularVelocity\\\", unit = \\\"rad/s\\\", start = 0.0) \\\"Vector of angular rate in local coords\\\";\n",
       "  Real b.omega[3](quantity = \\\"AngularVelocity\\\", unit = \\\"rad/s\\\", start = 0.0) \\\"Vector of angular rate in local coords\\\";\n",
       "  Real b.epsilon[1](quantity = \\\"AngularAcceleration\\\", unit = \\\"rad/s2\\\") \\\"Vector of angular acceleration\\\";\n",
       "  Real b.epsilon[2](quantity = \\\"AngularAcceleration\\\", unit = \\\"rad/s2\\\") \\\"Vector of angular acceleration\\\";\n",
       "  Real b.epsilon[3](quantity = \\\"AngularAcceleration\\\", unit = \\\"rad/s2\\\") \\\"Vector of angular acceleration\\\";\n",
       "  Real b.F[1](quantity = \\\"Force\\\", unit = \\\"N\\\", start = 9.999999999999999e+59) \\\"Sum of all forces applied\\\";\n",
       "  Real b.F[2](quantity = \\\"Force\\\", unit = \\\"N\\\", start = 9.999999999999999e+59) \\\"Sum of all forces applied\\\";\n",
       "  Real b.F[3](quantity = \\\"Force\\\", unit = \\\"N\\\", start = 9.999999999999999e+59) \\\"Sum of all forces applied\\\";\n",
       "  Real b.M[1](quantity = \\\"Torque\\\", unit = \\\"N.m\\\", start = 9.999999999999999e+59) \\\"Sum of all torques applied\\\";\n",
       "  Real b.M[2](quantity = \\\"Torque\\\", unit = \\\"N.m\\\", start = 9.999999999999999e+59) \\\"Sum of all torques applied\\\";\n",
       "  Real b.M[3](quantity = \\\"Torque\\\", unit = \\\"N.m\\\", start = 9.999999999999999e+59) \\\"Sum of all torques applied\\\";\n",
       "  Real b.T[1,1] \\\"Matrix of rotation. T * local = global, cols = coords of local base in global\\\";\n",
       "  Real b.T[1,2] \\\"Matrix of rotation. T * local = global, cols = coords of local base in global\\\";\n",
       "  Real b.T[1,3] \\\"Matrix of rotation. T * local = global, cols = coords of local base in global\\\";\n",
       "  Real b.T[2,1] \\\"Matrix of rotation. T * local = global, cols = coords of local base in global\\\";\n",
       "  Real b.T[2,2] \\\"Matrix of rotation. T * local = global, cols = coords of local base in global\\\";\n",
       "  Real b.T[2,3] \\\"Matrix of rotation. T * local = global, cols = coords of local base in global\\\";\n",
       "  Real b.T[3,1] \\\"Matrix of rotation. T * local = global, cols = coords of local base in global\\\";\n",
       "  Real b.T[3,2] \\\"Matrix of rotation. T * local = global, cols = coords of local base in global\\\";\n",
       "  Real b.T[3,3] \\\"Matrix of rotation. T * local = global, cols = coords of local base in global\\\";\n",
       "  Real b.Active(start = 1.0) \\\"Flag of active dynamics\\\";\n",
       "  parameter Integer b.N = 0;\n",
       "  parameter Real b.Gravity[1](quantity = \\\"Acceleration\\\", unit = \\\"m/s2\\\") = 0.0;\n",
       "  parameter Real b.Gravity[2](quantity = \\\"Acceleration\\\", unit = \\\"m/s2\\\") = -1.0;\n",
       "  parameter Real b.Gravity[3](quantity = \\\"Acceleration\\\", unit = \\\"m/s2\\\") = 0.0;\n",
       "initial algorithm\n",
       "  MbsLite.AssertInitializedI(b.name, b.N, \\\"N\\\");\n",
       "  MbsLite.AssertInitialized(b.name, {b.Gravity[1], b.Gravity[2], b.Gravity[3]}, \\\"Gravity\\\");\n",
       "initial algorithm\n",
       "  assert(MbsLite.CompareReal(b.q[1] ^ 2.0 + b.q[2] ^ 2.0 + b.q[3] ^ 2.0 + b.q[4] ^ 2.0, 1.0, 1e-10, 1e-05), \\\"Quaternion of body orientation should have norm 1, was: \\\" + String(b.q[1] ^ 2.0 + b.q[2] ^ 2.0 + b.q[3] ^ 2.0 + b.q[4] ^ 2.0, 0, true, 6) + \\\", q = \\\" + MbsLite.StringA({b.q[1], b.q[2], b.q[3], b.q[4]}, \\\", \\\") + \\\". Are the initial conditions specified?\\\");\n",
       "  MbsLite.AssertInitializedS(b.name, b.name, \\\"name\\\");\n",
       "  MbsLite.AssertInitialized(b.name, {b.m}, \\\"m\\\");\n",
       "  MbsLite.AssertInitialized(b.name, {b.I[1,1], b.I[1,2], b.I[1,3]}, \\\"I[1, :]\\\");\n",
       "  MbsLite.AssertInitialized(b.name, {b.I[2,1], b.I[2,2], b.I[2,3]}, \\\"I[2, :]\\\");\n",
       "  MbsLite.AssertInitialized(b.name, {b.I[3,1], b.I[3,2], b.I[3,3]}, \\\"I[3, :]\\\");\n",
       "  MbsLite.AssertInitialized(b.name, {b.r[1], b.r[2], b.r[3]}, \\\"r\\\");\n",
       "  MbsLite.AssertInitialized(b.name, {b.v[1], b.v[2], b.v[3]}, \\\"v\\\");\n",
       "  MbsLite.AssertInitialized(b.name, {b.q[1], b.q[2], b.q[3], b.q[4]}, \\\"q\\\");\n",
       "  MbsLite.AssertInitialized(b.name, {b.omega[1], b.omega[2], b.omega[3]}, \\\"omega\\\");\n",
       "  MbsLite.AssertInitialized(b.name, {b.F[1], b.F[2], b.F[3]}, \\\"F\\\");\n",
       "  MbsLite.AssertInitialized(b.name, {b.M[1], b.M[2], b.M[3]}, \\\"M\\\");\n",
       "equation\n",
       "  b.F[1] = b.Gravity[1] * b.m;\n",
       "  b.F[2] = b.Gravity[2] * b.m;\n",
       "  b.F[3] = b.Gravity[3] * b.m;\n",
       "  b.M[1] = 0.0;\n",
       "  b.M[2] = 0.0;\n",
       "  b.M[3] = 0.0;\n",
       "  der(b.Active) = 0.0;\n",
       "  der(b.r[1]) = b.v[1] * b.Active;\n",
       "  der(b.r[2]) = b.v[2] * b.Active;\n",
       "  der(b.r[3]) = b.v[3] * b.Active;\n",
       "  der(b.v[1]) = b.a[1] * b.Active;\n",
       "  der(b.v[2]) = b.a[2] * b.Active;\n",
       "  der(b.v[3]) = b.a[3] * b.Active;\n",
       "  b.a[1] * b.m = b.F[1];\n",
       "  b.a[2] * b.m = b.F[2];\n",
       "  b.a[3] * b.m = b.F[3];\n",
       "  {der(b.q[1]), der(b.q[2]), der(b.q[3]), der(b.q[4])} = MbsLite.Quaternions.QMult({b.q[1], b.q[2], b.q[3], b.q[4]}, {0.0, b.omega[1], b.omega[2], b.omega[3]}) * 0.5 * b.Active;\n",
       "  der(b.omega[1]) = b.epsilon[1] * b.Active;\n",
       "  der(b.omega[2]) = b.epsilon[2] * b.Active;\n",
       "  der(b.omega[3]) = b.epsilon[3] * b.Active;\n",
       "  b.T = MbsLite.Quaternions.QToT({b.q[1], b.q[2], b.q[3], b.q[4]});\n",
       "  b.I[1,1] * b.epsilon[1] + b.I[1,2] * b.epsilon[2] + b.I[1,3] * b.epsilon[3] + b.omega[2] * (b.I[3,1] * b.omega[1] + b.I[3,2] * b.omega[2] + b.I[3,3] * b.omega[3]) - b.omega[3] * (b.I[2,1] * b.omega[1] + b.I[2,2] * b.omega[2] + b.I[2,3] * b.omega[3]) = b.T[1,1] * b.M[1] + b.T[2,1] * b.M[2] + b.T[3,1] * b.M[3];\n",
       "  b.I[2,1] * b.epsilon[1] + b.I[2,2] * b.epsilon[2] + b.I[2,3] * b.epsilon[3] + b.omega[3] * (b.I[1,1] * b.omega[1] + b.I[1,2] * b.omega[2] + b.I[1,3] * b.omega[3]) - b.omega[1] * (b.I[3,1] * b.omega[1] + b.I[3,2] * b.omega[2] + b.I[3,3] * b.omega[3]) = b.T[1,2] * b.M[1] + b.T[2,2] * b.M[2] + b.T[3,2] * b.M[3];\n",
       "  b.I[3,1] * b.epsilon[1] + b.I[3,2] * b.epsilon[2] + b.I[3,3] * b.epsilon[3] + b.omega[1] * (b.I[2,1] * b.omega[1] + b.I[2,2] * b.omega[2] + b.I[2,3] * b.omega[3]) - b.omega[2] * (b.I[1,1] * b.omega[1] + b.I[1,2] * b.omega[2] + b.I[1,3] * b.omega[3]) = b.T[1,3] * b.M[1] + b.T[2,3] * b.M[2] + b.T[3,3] * b.M[3];\n",
       "  b.OutPort.r[1] = b.r[1];\n",
       "  b.OutPort.r[2] = b.r[2];\n",
       "  b.OutPort.r[3] = b.r[3];\n",
       "  b.OutPort.v[1] = b.v[1];\n",
       "  b.OutPort.v[2] = b.v[2];\n",
       "  b.OutPort.v[3] = b.v[3];\n",
       "  b.OutPort.a[1] = b.a[1];\n",
       "  b.OutPort.a[2] = b.a[2];\n",
       "  b.OutPort.a[3] = b.a[3];\n",
       "  b.OutPort.T[1,1] = b.T[1,1];\n",
       "  b.OutPort.T[1,2] = b.T[1,2];\n",
       "  b.OutPort.T[1,3] = b.T[1,3];\n",
       "  b.OutPort.T[2,1] = b.T[2,1];\n",
       "  b.OutPort.T[2,2] = b.T[2,2];\n",
       "  b.OutPort.T[2,3] = b.T[2,3];\n",
       "  b.OutPort.T[3,1] = b.T[3,1];\n",
       "  b.OutPort.T[3,2] = b.T[3,2];\n",
       "  b.OutPort.T[3,3] = b.T[3,3];\n",
       "  b.OutPort.omega[1] = b.T[1,1] * b.omega[1] + b.T[1,2] * b.omega[2] + b.T[1,3] * b.omega[3];\n",
       "  b.OutPort.omega[2] = b.T[2,1] * b.omega[1] + b.T[2,2] * b.omega[2] + b.T[2,3] * b.omega[3];\n",
       "  b.OutPort.omega[3] = b.T[3,1] * b.omega[1] + b.T[3,2] * b.omega[2] + b.T[3,3] * b.omega[3];\n",
       "  b.OutPort.epsilon[1] = b.T[1,1] * b.epsilon[1] + b.T[1,2] * b.epsilon[2] + b.T[1,3] * b.epsilon[3];\n",
       "  b.OutPort.epsilon[2] = b.T[2,1] * b.epsilon[1] + b.T[2,2] * b.epsilon[2] + b.T[2,3] * b.epsilon[3];\n",
       "  b.OutPort.epsilon[3] = b.T[3,1] * b.epsilon[1] + b.T[3,2] * b.epsilon[2] + b.T[3,3] * b.epsilon[3];\n",
       "  when time > 0.01 then\n",
       "    assert(MbsLite.CompareReal(b.r[1], 0.0, 1e-10, 1e-05), \\\"b.r[1] should be zero, was: \\\" + String(b.r[1], 0, true, 6));\n",
       "    assert(MbsLite.CompareReal(b.r[2], -5e-05, 1e-10, 1e-05), \\\"b.r[2] should be -5e-5, was: \\\" + String(b.r[2], 0, true, 6));\n",
       "    assert(MbsLite.CompareReal(b.r[3], 0.0, 1e-10, 1e-05), \\\"b.r[3] should be zero, was: \\\" + String(b.r[3], 0, true, 6));\n",
       "  end when;\n",
       "end MbsLite.Test.SingleBodyFallingTest;\n",
       "\"\n",
       "\"Check of MbsLite.Test.SingleBodyFallingTest completed successfully.\n",
       "Class MbsLite.Test.SingleBodyFallingTest has 59 equation(s) and 59 variable(s).\n",
       "25 of these are trivial equation(s).\"\n",
       "record SimulationResult\n",
       "    resultFile = \"/home/vf/om/models/omni/tmp/MbsLite.Test.SingleBodyFallingTest_res.csv\",\n",
       "    simulationOptions = \"startTime = 0.0, stopTime = 10.0, numberOfIntervals = 100, tolerance = 1e-09, method = 'dassl', fileNamePrefix = 'MbsLite.Test.SingleBodyFallingTest', options = '', outputFormat = 'csv', variableFilter = '.*', cflags = '', simflags = ''\",\n",
       "    messages = \"stdout            | info    | The initialization finished successfully without homotopy method.\n",
       "stdout            | info    | The simulation finished successfully.\n",
       "\",\n",
       "    timeFrontend = 1.130073264,\n",
       "    timeBackend = 0.115052651,\n",
       "    timeSimCode = 0.04243375200000001,\n",
       "    timeTemplates = 0.063111469,\n",
       "    timeCompile = 9.237302143999999,\n",
       "    timeSimulation = 0.058972538,\n",
       "    timeTotal = 10.64724062\n",
       "end SimulationResult;\n"
      ]
     },
     "metadata": {},
     "output_type": "display_data"
    }
   ],
   "source": [
    "loadModel(MbsLite);\n",
    "loadModel(MbsLite.Test.SingleBodyFallingTest);\n",
    "instantiateModel(MbsLite.Test.SingleBodyFallingTest);\n",
    "checkModel(MbsLite.Test.SingleBodyFallingTest);\n",
    "simulate\n",
    "    ( MbsLite.Test.SingleBodyFallingTest\n",
    "    , outputFormat = \"csv\"\n",
    "    , stopTime = 10\n",
    "    )"
   ]
  },
  {
   "cell_type": "code",
   "execution_count": 11,
   "metadata": {},
   "outputs": [
    {
     "data": {
      "text/plain": []
     },
     "metadata": {},
     "output_type": "display_data"
    }
   ],
   "source": [
    "res := strtok(readFile(\"MbsLite.Test.SingleBodyFallingTest_res.csv\"), \"\\n\");\n",
    "// res[1]"
   ]
  },
  {
   "cell_type": "code",
   "execution_count": 12,
   "metadata": {
    "scrolled": true
   },
   "outputs": [
    {
     "data": {
      "text/plain": [
       "\"\"\n"
      ]
     },
     "metadata": {},
     "output_type": "display_data"
    }
   ],
   "source": [
    "getErrorString()"
   ]
  },
  {
   "cell_type": "markdown",
   "metadata": {},
   "source": [
    "### Pendulum"
   ]
  },
  {
   "cell_type": "code",
   "execution_count": 13,
   "metadata": {
    "scrolled": true
   },
   "outputs": [
    {
     "data": {
      "text/plain": [
       "true\n",
       "true\n",
       "\"function MbsLite.AssertInitialized\n",
       "  input String modelName;\n",
       "  input Real[:] value;\n",
       "  input String parameterName;\n",
       "algorithm\n",
       "  assert(max(value) < 9.999999999999999e+59, modelName + \\\": \\\" + parameterName + \\\" is not initialized\\\");\n",
       "end MbsLite.AssertInitialized;\n",
       "\n",
       "function MbsLite.AssertInitializedI\n",
       "  input String modelName;\n",
       "  input Integer value;\n",
       "  input String parameterName;\n",
       "algorithm\n",
       "  assert(value > -4611686018427387903, modelName + \\\": \\\" + parameterName + \\\" is not initialized\\\");\n",
       "end MbsLite.AssertInitializedI;\n",
       "\n",
       "function MbsLite.AssertInitializedS\n",
       "  input String modelName;\n",
       "  input String value;\n",
       "  input String parameterName;\n",
       "algorithm\n",
       "  assert(value <> \\\"NOT INITIALIZED\\\", modelName + \\\": \\\" + parameterName + \\\" is not initialized\\\");\n",
       "end MbsLite.AssertInitializedS;\n",
       "\n",
       "function MbsLite.CompareReal\n",
       "  input Real a;\n",
       "  input Real b;\n",
       "  input Real absTol = 1e-10 \\\"Absolute tolerance.\\\";\n",
       "  input Real relTol = 1e-05 \\\"Relative tolerance.\\\";\n",
       "  output Boolean equal;\n",
       "  protected Real diff;\n",
       "algorithm\n",
       "  diff := abs(a - b);\n",
       "  equal := diff < absTol or diff <= max(abs(b), abs(a)) * relTol;\n",
       "end MbsLite.CompareReal;\n",
       "\n",
       "function MbsLite.Quaternions.QMult\n",
       "  input Real[4] q1;\n",
       "  input Real[4] q2;\n",
       "  output Real[4] q3;\n",
       "  protected Real a1;\n",
       "  protected Real a2;\n",
       "  protected Real[3] A1;\n",
       "  protected Real[3] A2;\n",
       "  protected Real[3] A3;\n",
       "algorithm\n",
       "  a1 := q1[1];\n",
       "  a2 := q2[1];\n",
       "  A1 := {q1[2], q1[3], q1[4]};\n",
       "  A2 := {q2[2], q2[3], q2[4]};\n",
       "  A3 := {A2[1] * a1 + A1[1] * a2 + A1[2] * A2[3] - A1[3] * A2[2], A2[2] * a1 + A1[2] * a2 + A1[3] * A2[1] - A1[1] * A2[3], A2[3] * a1 + A1[3] * a2 + A1[1] * A2[2] - A1[2] * A2[1]};\n",
       "  q3 := {a1 * a2 + (-A1[2]) * A2[2] - A1[3] * A2[3] - A1[1] * A2[1], A3[1], A3[2], A3[3]};\n",
       "end MbsLite.Quaternions.QMult;\n",
       "\n",
       "function MbsLite.Quaternions.QRot\n",
       "  input Real angle;\n",
       "  input Real[3] axis;\n",
       "  output Real[4] q;\n",
       "  protected Real s;\n",
       "algorithm\n",
       "  s := sin(0.5 * angle);\n",
       "  q := {cos(0.5 * angle), s * axis[1], s * axis[2], s * axis[3]};\n",
       "end MbsLite.Quaternions.QRot;\n",
       "\n",
       "function MbsLite.Quaternions.QToT \\\"Inline before index reduction\\\" \\\"Converts quaternion to Rotation matrix.\\\"\n",
       "  input Real[4] q;\n",
       "  output Real[3, 3] T;\n",
       "algorithm\n",
       "  T := {{(q[1] ^ 2.0 + q[2] ^ 2.0 + (-q[3] ^ 2.0) - q[4] ^ 2.0) / (q[1] ^ 2.0 + q[2] ^ 2.0 + q[3] ^ 2.0 + q[4] ^ 2.0), 2.0 * (q[2] * q[3] - q[1] * q[4]) / (q[1] ^ 2.0 + q[2] ^ 2.0 + q[3] ^ 2.0 + q[4] ^ 2.0), 2.0 * (q[2] * q[4] + q[1] * q[3]) / (q[1] ^ 2.0 + q[2] ^ 2.0 + q[3] ^ 2.0 + q[4] ^ 2.0)}, {2.0 * (q[1] * q[4] + q[2] * q[3]) / (q[1] ^ 2.0 + q[2] ^ 2.0 + q[3] ^ 2.0 + q[4] ^ 2.0), (q[1] ^ 2.0 + q[3] ^ 2.0 + (-q[2] ^ 2.0) - q[4] ^ 2.0) / (q[1] ^ 2.0 + q[2] ^ 2.0 + q[3] ^ 2.0 + q[4] ^ 2.0), 2.0 * (q[3] * q[4] - q[1] * q[2]) / (q[1] ^ 2.0 + q[2] ^ 2.0 + q[3] ^ 2.0 + q[4] ^ 2.0)}, {2.0 * (q[2] * q[4] - q[1] * q[3]) / (q[1] ^ 2.0 + q[2] ^ 2.0 + q[3] ^ 2.0 + q[4] ^ 2.0), 2.0 * (q[1] * q[2] + q[3] * q[4]) / (q[1] ^ 2.0 + q[2] ^ 2.0 + q[3] ^ 2.0 + q[4] ^ 2.0), (q[1] ^ 2.0 + q[4] ^ 2.0 - q[3] ^ 2.0 - q[2] ^ 2.0) / (q[1] ^ 2.0 + q[2] ^ 2.0 + q[3] ^ 2.0 + q[4] ^ 2.0)}};\n",
       "end MbsLite.Quaternions.QToT;\n",
       "\n",
       "function MbsLite.StringA\n",
       "  input Real[:] array;\n",
       "  input String delim = \\\", \\\";\n",
       "  output String render;\n",
       "  protected String accumulator = \\\"\\\";\n",
       "  protected Integer counter = 0;\n",
       "algorithm\n",
       "  for item in array loop\n",
       "    accumulator := accumulator + String(item, 0, true, 6);\n",
       "    counter := 1 + counter;\n",
       "    if counter < size(array, 1) then\n",
       "      accumulator := accumulator + delim;\n",
       "    end if;\n",
       "  end for;\n",
       "  render := \\\"{ \\\" + accumulator + \\\" }\\\";\n",
       "end MbsLite.StringA;\n",
       "\n",
       "function Modelica.Math.Vectors.norm \\\"Return the p-norm of a vector\\\"\n",
       "  input Real[:] v \\\"Real vector\\\";\n",
       "  input Real p(min = 1.0) = 2.0 \\\"Type of p-norm (often used: 1, 2, or Modelica.Constants.inf)\\\";\n",
       "  output Real result = 0.0 \\\"p-norm of vector v\\\";\n",
       "  protected Real eps = 1e-14;\n",
       "algorithm\n",
       "  if size(v, 1) > 0 then\n",
       "    if p >= 2.0 - eps and p <= 2.0 + eps then\n",
       "      result := sqrt(v * v);\n",
       "    elseif p >= 9.999999999999999e+59 then\n",
       "      result := max(array(abs($tmpVar114) for $tmpVar114 in v));\n",
       "    elseif p >= 1.0 - eps and p <= 1.0 + eps then\n",
       "      result := sum(array(abs($tmpVar117) for $tmpVar117 in v));\n",
       "    elseif p >= 1.0 then\n",
       "      result := sum(abs(v[i]) ^ p for i in 1:size(v, 1)) ^ (1.0 / p);\n",
       "    else\n",
       "      assert(false, \\\"Optional argument \\\\\\\"p\\\\\\\" (= \\\" + String(p, 0, true, 6) + \\\") of function \\\\\\\"norm\\\\\\\" >= 1 required\\\");\n",
       "    end if;\n",
       "  end if;\n",
       "end Modelica.Math.Vectors.norm;\n",
       "\n",
       "class MbsLite.Test.PendulumTest\n",
       "  parameter Real expectedAngle = -0.11127;\n",
       "  parameter String p.name = \\\"Pendulum\\\";\n",
       "  parameter Real p.m = 1.0;\n",
       "  parameter Real p.I[1,1] = 1.0;\n",
       "  parameter Real p.I[1,2] = 0.0;\n",
       "  parameter Real p.I[1,3] = 0.0;\n",
       "  parameter Real p.I[2,1] = 0.0;\n",
       "  parameter Real p.I[2,2] = 1.0;\n",
       "  parameter Real p.I[2,3] = 0.0;\n",
       "  parameter Real p.I[3,1] = 0.0;\n",
       "  parameter Real p.I[3,2] = 0.0;\n",
       "  parameter Real p.I[3,3] = 1.0;\n",
       "  parameter Real p.l = 1.0;\n",
       "  parameter Real p.angle0 = 0.5235987755982988;\n",
       "  parameter Real p.q0[1] = MbsLite.Quaternions.QRot(p.angle0, {0.0, 0.0, 1.0})[1];\n",
       "  parameter Real p.q0[2] = MbsLite.Quaternions.QRot(p.angle0, {0.0, 0.0, 1.0})[2];\n",
       "  parameter Real p.q0[3] = MbsLite.Quaternions.QRot(p.angle0, {0.0, 0.0, 1.0})[3];\n",
       "  parameter Real p.q0[4] = MbsLite.Quaternions.QRot(p.angle0, {0.0, 0.0, 1.0})[4];\n",
       "  parameter Real p.bodyAxisPositionLocal[1] = 0.0;\n",
       "  parameter Real p.bodyAxisPositionLocal[2] = p.l;\n",
       "  parameter Real p.bodyAxisPositionLocal[3] = 0.0;\n",
       "  parameter Real p.bodyMassCenterGlobal[1] = (MbsLite.Quaternions.QToT({p.q0[1], p.q0[2], p.q0[3], p.q0[4]}) * {-p.bodyAxisPositionLocal[1], -p.bodyAxisPositionLocal[2], -p.bodyAxisPositionLocal[3]})[1];\n",
       "  parameter Real p.bodyMassCenterGlobal[2] = (MbsLite.Quaternions.QToT({p.q0[1], p.q0[2], p.q0[3], p.q0[4]}) * {-p.bodyAxisPositionLocal[1], -p.bodyAxisPositionLocal[2], -p.bodyAxisPositionLocal[3]})[2];\n",
       "  parameter Real p.bodyMassCenterGlobal[3] = (MbsLite.Quaternions.QToT({p.q0[1], p.q0[2], p.q0[3], p.q0[4]}) * {-p.bodyAxisPositionLocal[1], -p.bodyAxisPositionLocal[2], -p.bodyAxisPositionLocal[3]})[3];\n",
       "  parameter Real p.userwardNormalToTheScreen[1] = 0.0;\n",
       "  parameter Real p.userwardNormalToTheScreen[2] = 0.0;\n",
       "  parameter Real p.userwardNormalToTheScreen[3] = 1.0;\n",
       "  Real p.base.OutPort.r[1](quantity = \\\"Length\\\", unit = \\\"m\\\") \\\"Radius vector of masscenter\\\";\n",
       "  Real p.base.OutPort.r[2](quantity = \\\"Length\\\", unit = \\\"m\\\") \\\"Radius vector of masscenter\\\";\n",
       "  Real p.base.OutPort.r[3](quantity = \\\"Length\\\", unit = \\\"m\\\") \\\"Radius vector of masscenter\\\";\n",
       "  Real p.base.OutPort.v[1](quantity = \\\"Velocity\\\", unit = \\\"m/s\\\") \\\"Velocity vector of masscenter\\\";\n",
       "  Real p.base.OutPort.v[2](quantity = \\\"Velocity\\\", unit = \\\"m/s\\\") \\\"Velocity vector of masscenter\\\";\n",
       "  Real p.base.OutPort.v[3](quantity = \\\"Velocity\\\", unit = \\\"m/s\\\") \\\"Velocity vector of masscenter\\\";\n",
       "  Real p.base.OutPort.a[1](quantity = \\\"Acceleration\\\", unit = \\\"m/s2\\\") \\\"Acceleration vector of masscenter\\\";\n",
       "  Real p.base.OutPort.a[2](quantity = \\\"Acceleration\\\", unit = \\\"m/s2\\\") \\\"Acceleration vector of masscenter\\\";\n",
       "  Real p.base.OutPort.a[3](quantity = \\\"Acceleration\\\", unit = \\\"m/s2\\\") \\\"Acceleration vector of masscenter\\\";\n",
       "  Real p.base.OutPort.T[1,1] \\\"Matrix of rotation\\\";\n",
       "  Real p.base.OutPort.T[1,2] \\\"Matrix of rotation\\\";\n",
       "  Real p.base.OutPort.T[1,3] \\\"Matrix of rotation\\\";\n",
       "  Real p.base.OutPort.T[2,1] \\\"Matrix of rotation\\\";\n",
       "  Real p.base.OutPort.T[2,2] \\\"Matrix of rotation\\\";\n",
       "  Real p.base.OutPort.T[2,3] \\\"Matrix of rotation\\\";\n",
       "  Real p.base.OutPort.T[3,1] \\\"Matrix of rotation\\\";\n",
       "  Real p.base.OutPort.T[3,2] \\\"Matrix of rotation\\\";\n",
       "  Real p.base.OutPort.T[3,3] \\\"Matrix of rotation\\\";\n",
       "  Real p.base.OutPort.omega[1](quantity = \\\"AngularVelocity\\\", unit = \\\"rad/s\\\") \\\"Vector of angular rate\\\";\n",
       "  Real p.base.OutPort.omega[2](quantity = \\\"AngularVelocity\\\", unit = \\\"rad/s\\\") \\\"Vector of angular rate\\\";\n",
       "  Real p.base.OutPort.omega[3](quantity = \\\"AngularVelocity\\\", unit = \\\"rad/s\\\") \\\"Vector of angular rate\\\";\n",
       "  Real p.base.OutPort.epsilon[1](quantity = \\\"AngularAcceleration\\\", unit = \\\"rad/s2\\\") \\\"Vector of angular acceleration\\\";\n",
       "  Real p.base.OutPort.epsilon[2](quantity = \\\"AngularAcceleration\\\", unit = \\\"rad/s2\\\") \\\"Vector of angular acceleration\\\";\n",
       "  Real p.base.OutPort.epsilon[3](quantity = \\\"AngularAcceleration\\\", unit = \\\"rad/s2\\\") \\\"Vector of angular acceleration\\\";\n",
       "  Real p.body.OutPort.r[1](quantity = \\\"Length\\\", unit = \\\"m\\\") \\\"Radius vector of masscenter\\\";\n",
       "  Real p.body.OutPort.r[2](quantity = \\\"Length\\\", unit = \\\"m\\\") \\\"Radius vector of masscenter\\\";\n",
       "  Real p.body.OutPort.r[3](quantity = \\\"Length\\\", unit = \\\"m\\\") \\\"Radius vector of masscenter\\\";\n",
       "  Real p.body.OutPort.v[1](quantity = \\\"Velocity\\\", unit = \\\"m/s\\\") \\\"Velocity vector of masscenter\\\";\n",
       "  Real p.body.OutPort.v[2](quantity = \\\"Velocity\\\", unit = \\\"m/s\\\") \\\"Velocity vector of masscenter\\\";\n",
       "  Real p.body.OutPort.v[3](quantity = \\\"Velocity\\\", unit = \\\"m/s\\\") \\\"Velocity vector of masscenter\\\";\n",
       "  Real p.body.OutPort.a[1](quantity = \\\"Acceleration\\\", unit = \\\"m/s2\\\") \\\"Acceleration vector of masscenter\\\";\n",
       "  Real p.body.OutPort.a[2](quantity = \\\"Acceleration\\\", unit = \\\"m/s2\\\") \\\"Acceleration vector of masscenter\\\";\n",
       "  Real p.body.OutPort.a[3](quantity = \\\"Acceleration\\\", unit = \\\"m/s2\\\") \\\"Acceleration vector of masscenter\\\";\n",
       "  Real p.body.OutPort.T[1,1] \\\"Matrix of rotation\\\";\n",
       "  Real p.body.OutPort.T[1,2] \\\"Matrix of rotation\\\";\n",
       "  Real p.body.OutPort.T[1,3] \\\"Matrix of rotation\\\";\n",
       "  Real p.body.OutPort.T[2,1] \\\"Matrix of rotation\\\";\n",
       "  Real p.body.OutPort.T[2,2] \\\"Matrix of rotation\\\";\n",
       "  Real p.body.OutPort.T[2,3] \\\"Matrix of rotation\\\";\n",
       "  Real p.body.OutPort.T[3,1] \\\"Matrix of rotation\\\";\n",
       "  Real p.body.OutPort.T[3,2] \\\"Matrix of rotation\\\";\n",
       "  Real p.body.OutPort.T[3,3] \\\"Matrix of rotation\\\";\n",
       "  Real p.body.OutPort.omega[1](quantity = \\\"AngularVelocity\\\", unit = \\\"rad/s\\\") \\\"Vector of angular rate\\\";\n",
       "  Real p.body.OutPort.omega[2](quantity = \\\"AngularVelocity\\\", unit = \\\"rad/s\\\") \\\"Vector of angular rate\\\";\n",
       "  Real p.body.OutPort.omega[3](quantity = \\\"AngularVelocity\\\", unit = \\\"rad/s\\\") \\\"Vector of angular rate\\\";\n",
       "  Real p.body.OutPort.epsilon[1](quantity = \\\"AngularAcceleration\\\", unit = \\\"rad/s2\\\") \\\"Vector of angular acceleration\\\";\n",
       "  Real p.body.OutPort.epsilon[2](quantity = \\\"AngularAcceleration\\\", unit = \\\"rad/s2\\\") \\\"Vector of angular acceleration\\\";\n",
       "  Real p.body.OutPort.epsilon[3](quantity = \\\"AngularAcceleration\\\", unit = \\\"rad/s2\\\") \\\"Vector of angular acceleration\\\";\n",
       "  parameter String p.body.name = p.name + \\\".body\\\";\n",
       "  parameter Real p.body.m(quantity = \\\"Mass\\\", unit = \\\"kg\\\", min = 0.0, start = 9.999999999999999e+59) = p.m \\\"Mass of the body\\\";\n",
       "  parameter Real p.body.I[1,1](quantity = \\\"MomentOfInertia\\\", unit = \\\"kg.m2\\\", start = 9.999999999999999e+59) = p.I[1,1] \\\"Central tensor of inertia of the body\\\";\n",
       "  parameter Real p.body.I[1,2](quantity = \\\"MomentOfInertia\\\", unit = \\\"kg.m2\\\", start = 9.999999999999999e+59) = p.I[1,2] \\\"Central tensor of inertia of the body\\\";\n",
       "  parameter Real p.body.I[1,3](quantity = \\\"MomentOfInertia\\\", unit = \\\"kg.m2\\\", start = 9.999999999999999e+59) = p.I[1,3] \\\"Central tensor of inertia of the body\\\";\n",
       "  parameter Real p.body.I[2,1](quantity = \\\"MomentOfInertia\\\", unit = \\\"kg.m2\\\", start = 9.999999999999999e+59) = p.I[2,1] \\\"Central tensor of inertia of the body\\\";\n",
       "  parameter Real p.body.I[2,2](quantity = \\\"MomentOfInertia\\\", unit = \\\"kg.m2\\\", start = 9.999999999999999e+59) = p.I[2,2] \\\"Central tensor of inertia of the body\\\";\n",
       "  parameter Real p.body.I[2,3](quantity = \\\"MomentOfInertia\\\", unit = \\\"kg.m2\\\", start = 9.999999999999999e+59) = p.I[2,3] \\\"Central tensor of inertia of the body\\\";\n",
       "  parameter Real p.body.I[3,1](quantity = \\\"MomentOfInertia\\\", unit = \\\"kg.m2\\\", start = 9.999999999999999e+59) = p.I[3,1] \\\"Central tensor of inertia of the body\\\";\n",
       "  parameter Real p.body.I[3,2](quantity = \\\"MomentOfInertia\\\", unit = \\\"kg.m2\\\", start = 9.999999999999999e+59) = p.I[3,2] \\\"Central tensor of inertia of the body\\\";\n",
       "  parameter Real p.body.I[3,3](quantity = \\\"MomentOfInertia\\\", unit = \\\"kg.m2\\\", start = 9.999999999999999e+59) = p.I[3,3] \\\"Central tensor of inertia of the body\\\";\n",
       "  Real p.body.r[1](quantity = \\\"Length\\\", unit = \\\"m\\\", start = p.bodyMassCenterGlobal[1]) \\\"Radius vector of masscenter in global coords\\\";\n",
       "  Real p.body.r[2](quantity = \\\"Length\\\", unit = \\\"m\\\", start = p.bodyMassCenterGlobal[2]) \\\"Radius vector of masscenter in global coords\\\";\n",
       "  Real p.body.r[3](quantity = \\\"Length\\\", unit = \\\"m\\\", start = p.bodyMassCenterGlobal[3]) \\\"Radius vector of masscenter in global coords\\\";\n",
       "  Real p.body.v[1](quantity = \\\"Velocity\\\", unit = \\\"m/s\\\", start = 0.0) \\\"Velocity vector of masscenter\\\";\n",
       "  Real p.body.v[2](quantity = \\\"Velocity\\\", unit = \\\"m/s\\\", start = 0.0) \\\"Velocity vector of masscenter\\\";\n",
       "  Real p.body.v[3](quantity = \\\"Velocity\\\", unit = \\\"m/s\\\", start = 0.0) \\\"Velocity vector of masscenter\\\";\n",
       "  Real p.body.a[1](quantity = \\\"Acceleration\\\", unit = \\\"m/s2\\\") \\\"Acceleration vector of masscenter\\\";\n",
       "  Real p.body.a[2](quantity = \\\"Acceleration\\\", unit = \\\"m/s2\\\") \\\"Acceleration vector of masscenter\\\";\n",
       "  Real p.body.a[3](quantity = \\\"Acceleration\\\", unit = \\\"m/s2\\\") \\\"Acceleration vector of masscenter\\\";\n",
       "  Real p.body.q[1](start = p.q0[1]) \\\"Quaternion of body orientation.\n",
       "     QToT(q) * local = global.\n",
       "     QRot(pi/6, { 0, 0, 1 }) => this body is rotated clockwise along the third axis (normal to the screen) by pi/6\\\";\n",
       "  Real p.body.q[2](start = p.q0[2]) \\\"Quaternion of body orientation.\n",
       "     QToT(q) * local = global.\n",
       "     QRot(pi/6, { 0, 0, 1 }) => this body is rotated clockwise along the third axis (normal to the screen) by pi/6\\\";\n",
       "  Real p.body.q[3](start = p.q0[3]) \\\"Quaternion of body orientation.\n",
       "     QToT(q) * local = global.\n",
       "     QRot(pi/6, { 0, 0, 1 }) => this body is rotated clockwise along the third axis (normal to the screen) by pi/6\\\";\n",
       "  Real p.body.q[4](start = p.q0[4]) \\\"Quaternion of body orientation.\n",
       "     QToT(q) * local = global.\n",
       "     QRot(pi/6, { 0, 0, 1 }) => this body is rotated clockwise along the third axis (normal to the screen) by pi/6\\\";\n",
       "  Real p.body.omega[1](quantity = \\\"AngularVelocity\\\", unit = \\\"rad/s\\\", start = 0.0) \\\"Vector of angular rate in local coords\\\";\n",
       "  Real p.body.omega[2](quantity = \\\"AngularVelocity\\\", unit = \\\"rad/s\\\", start = 0.0) \\\"Vector of angular rate in local coords\\\";\n",
       "  Real p.body.omega[3](quantity = \\\"AngularVelocity\\\", unit = \\\"rad/s\\\", start = 0.0) \\\"Vector of angular rate in local coords\\\";\n",
       "  Real p.body.epsilon[1](quantity = \\\"AngularAcceleration\\\", unit = \\\"rad/s2\\\") \\\"Vector of angular acceleration\\\";\n",
       "  Real p.body.epsilon[2](quantity = \\\"AngularAcceleration\\\", unit = \\\"rad/s2\\\") \\\"Vector of angular acceleration\\\";\n",
       "  Real p.body.epsilon[3](quantity = \\\"AngularAcceleration\\\", unit = \\\"rad/s2\\\") \\\"Vector of angular acceleration\\\";\n",
       "  Real p.body.F[1](quantity = \\\"Force\\\", unit = \\\"N\\\", start = 9.999999999999999e+59) \\\"Sum of all forces applied\\\";\n",
       "  Real p.body.F[2](quantity = \\\"Force\\\", unit = \\\"N\\\", start = 9.999999999999999e+59) \\\"Sum of all forces applied\\\";\n",
       "  Real p.body.F[3](quantity = \\\"Force\\\", unit = \\\"N\\\", start = 9.999999999999999e+59) \\\"Sum of all forces applied\\\";\n",
       "  Real p.body.M[1](quantity = \\\"Torque\\\", unit = \\\"N.m\\\", start = 9.999999999999999e+59) \\\"Sum of all torques applied\\\";\n",
       "  Real p.body.M[2](quantity = \\\"Torque\\\", unit = \\\"N.m\\\", start = 9.999999999999999e+59) \\\"Sum of all torques applied\\\";\n",
       "  Real p.body.M[3](quantity = \\\"Torque\\\", unit = \\\"N.m\\\", start = 9.999999999999999e+59) \\\"Sum of all torques applied\\\";\n",
       "  Real p.body.T[1,1] \\\"Matrix of rotation. T * local = global, cols = coords of local base in global\\\";\n",
       "  Real p.body.T[1,2] \\\"Matrix of rotation. T * local = global, cols = coords of local base in global\\\";\n",
       "  Real p.body.T[1,3] \\\"Matrix of rotation. T * local = global, cols = coords of local base in global\\\";\n",
       "  Real p.body.T[2,1] \\\"Matrix of rotation. T * local = global, cols = coords of local base in global\\\";\n",
       "  Real p.body.T[2,2] \\\"Matrix of rotation. T * local = global, cols = coords of local base in global\\\";\n",
       "  Real p.body.T[2,3] \\\"Matrix of rotation. T * local = global, cols = coords of local base in global\\\";\n",
       "  Real p.body.T[3,1] \\\"Matrix of rotation. T * local = global, cols = coords of local base in global\\\";\n",
       "  Real p.body.T[3,2] \\\"Matrix of rotation. T * local = global, cols = coords of local base in global\\\";\n",
       "  Real p.body.T[3,3] \\\"Matrix of rotation. T * local = global, cols = coords of local base in global\\\";\n",
       "  Real p.body.Active(start = 1.0) \\\"Flag of active dynamics\\\";\n",
       "  parameter Integer p.body.N = 1;\n",
       "  parameter Real p.body.Gravity[1](quantity = \\\"Acceleration\\\", unit = \\\"m/s2\\\") = 0.0;\n",
       "  parameter Real p.body.Gravity[2](quantity = \\\"Acceleration\\\", unit = \\\"m/s2\\\") = -1.0;\n",
       "  parameter Real p.body.Gravity[3](quantity = \\\"Acceleration\\\", unit = \\\"m/s2\\\") = 0.0;\n",
       "  Real p.body.InPorts[1].P[1](quantity = \\\"Length\\\", unit = \\\"m\\\");\n",
       "  Real p.body.InPorts[1].P[2](quantity = \\\"Length\\\", unit = \\\"m\\\");\n",
       "  Real p.body.InPorts[1].P[3](quantity = \\\"Length\\\", unit = \\\"m\\\");\n",
       "  Real p.body.InPorts[1].F[1](quantity = \\\"Force\\\", unit = \\\"N\\\");\n",
       "  Real p.body.InPorts[1].F[2](quantity = \\\"Force\\\", unit = \\\"N\\\");\n",
       "  Real p.body.InPorts[1].F[3](quantity = \\\"Force\\\", unit = \\\"N\\\");\n",
       "  Real p.body.InPorts[1].M[1](quantity = \\\"Torque\\\", unit = \\\"N.m\\\");\n",
       "  Real p.body.InPorts[1].M[2](quantity = \\\"Torque\\\", unit = \\\"N.m\\\");\n",
       "  Real p.body.InPorts[1].M[3](quantity = \\\"Torque\\\", unit = \\\"N.m\\\");\n",
       "  protected Real p.body.crosses[1,1];\n",
       "  protected Real p.body.crosses[1,2];\n",
       "  protected Real p.body.crosses[1,3];\n",
       "  parameter Integer p.joint.ConstraintNo = 1;\n",
       "  Real p.joint.InPortA.r[1](quantity = \\\"Length\\\", unit = \\\"m\\\") \\\"Radius vector of masscenter\\\";\n",
       "  Real p.joint.InPortA.r[2](quantity = \\\"Length\\\", unit = \\\"m\\\") \\\"Radius vector of masscenter\\\";\n",
       "  Real p.joint.InPortA.r[3](quantity = \\\"Length\\\", unit = \\\"m\\\") \\\"Radius vector of masscenter\\\";\n",
       "  Real p.joint.InPortA.v[1](quantity = \\\"Velocity\\\", unit = \\\"m/s\\\") \\\"Velocity vector of masscenter\\\";\n",
       "  Real p.joint.InPortA.v[2](quantity = \\\"Velocity\\\", unit = \\\"m/s\\\") \\\"Velocity vector of masscenter\\\";\n",
       "  Real p.joint.InPortA.v[3](quantity = \\\"Velocity\\\", unit = \\\"m/s\\\") \\\"Velocity vector of masscenter\\\";\n",
       "  Real p.joint.InPortA.a[1](quantity = \\\"Acceleration\\\", unit = \\\"m/s2\\\") \\\"Acceleration vector of masscenter\\\";\n",
       "  Real p.joint.InPortA.a[2](quantity = \\\"Acceleration\\\", unit = \\\"m/s2\\\") \\\"Acceleration vector of masscenter\\\";\n",
       "  Real p.joint.InPortA.a[3](quantity = \\\"Acceleration\\\", unit = \\\"m/s2\\\") \\\"Acceleration vector of masscenter\\\";\n",
       "  Real p.joint.InPortA.T[1,1] \\\"Matrix of rotation\\\";\n",
       "  Real p.joint.InPortA.T[1,2] \\\"Matrix of rotation\\\";\n",
       "  Real p.joint.InPortA.T[1,3] \\\"Matrix of rotation\\\";\n",
       "  Real p.joint.InPortA.T[2,1] \\\"Matrix of rotation\\\";\n",
       "  Real p.joint.InPortA.T[2,2] \\\"Matrix of rotation\\\";\n",
       "  Real p.joint.InPortA.T[2,3] \\\"Matrix of rotation\\\";\n",
       "  Real p.joint.InPortA.T[3,1] \\\"Matrix of rotation\\\";\n",
       "  Real p.joint.InPortA.T[3,2] \\\"Matrix of rotation\\\";\n",
       "  Real p.joint.InPortA.T[3,3] \\\"Matrix of rotation\\\";\n",
       "  Real p.joint.InPortA.omega[1](quantity = \\\"AngularVelocity\\\", unit = \\\"rad/s\\\") \\\"Vector of angular rate\\\";\n",
       "  Real p.joint.InPortA.omega[2](quantity = \\\"AngularVelocity\\\", unit = \\\"rad/s\\\") \\\"Vector of angular rate\\\";\n",
       "  Real p.joint.InPortA.omega[3](quantity = \\\"AngularVelocity\\\", unit = \\\"rad/s\\\") \\\"Vector of angular rate\\\";\n",
       "  Real p.joint.InPortA.epsilon[1](quantity = \\\"AngularAcceleration\\\", unit = \\\"rad/s2\\\") \\\"Vector of angular acceleration\\\";\n",
       "  Real p.joint.InPortA.epsilon[2](quantity = \\\"AngularAcceleration\\\", unit = \\\"rad/s2\\\") \\\"Vector of angular acceleration\\\";\n",
       "  Real p.joint.InPortA.epsilon[3](quantity = \\\"AngularAcceleration\\\", unit = \\\"rad/s2\\\") \\\"Vector of angular acceleration\\\";\n",
       "  Real p.joint.OutPortA.P[1](quantity = \\\"Length\\\", unit = \\\"m\\\");\n",
       "  Real p.joint.OutPortA.P[2](quantity = \\\"Length\\\", unit = \\\"m\\\");\n",
       "  Real p.joint.OutPortA.P[3](quantity = \\\"Length\\\", unit = \\\"m\\\");\n",
       "  Real p.joint.OutPortA.F[1](quantity = \\\"Force\\\", unit = \\\"N\\\");\n",
       "  Real p.joint.OutPortA.F[2](quantity = \\\"Force\\\", unit = \\\"N\\\");\n",
       "  Real p.joint.OutPortA.F[3](quantity = \\\"Force\\\", unit = \\\"N\\\");\n",
       "  Real p.joint.OutPortA.M[1](quantity = \\\"Torque\\\", unit = \\\"N.m\\\");\n",
       "  Real p.joint.OutPortA.M[2](quantity = \\\"Torque\\\", unit = \\\"N.m\\\");\n",
       "  Real p.joint.OutPortA.M[3](quantity = \\\"Torque\\\", unit = \\\"N.m\\\");\n",
       "  Real p.joint.InPortB.r[1](quantity = \\\"Length\\\", unit = \\\"m\\\") \\\"Radius vector of masscenter\\\";\n",
       "  Real p.joint.InPortB.r[2](quantity = \\\"Length\\\", unit = \\\"m\\\") \\\"Radius vector of masscenter\\\";\n",
       "  Real p.joint.InPortB.r[3](quantity = \\\"Length\\\", unit = \\\"m\\\") \\\"Radius vector of masscenter\\\";\n",
       "  Real p.joint.InPortB.v[1](quantity = \\\"Velocity\\\", unit = \\\"m/s\\\") \\\"Velocity vector of masscenter\\\";\n",
       "  Real p.joint.InPortB.v[2](quantity = \\\"Velocity\\\", unit = \\\"m/s\\\") \\\"Velocity vector of masscenter\\\";\n",
       "  Real p.joint.InPortB.v[3](quantity = \\\"Velocity\\\", unit = \\\"m/s\\\") \\\"Velocity vector of masscenter\\\";\n",
       "  Real p.joint.InPortB.a[1](quantity = \\\"Acceleration\\\", unit = \\\"m/s2\\\") \\\"Acceleration vector of masscenter\\\";\n",
       "  Real p.joint.InPortB.a[2](quantity = \\\"Acceleration\\\", unit = \\\"m/s2\\\") \\\"Acceleration vector of masscenter\\\";\n",
       "  Real p.joint.InPortB.a[3](quantity = \\\"Acceleration\\\", unit = \\\"m/s2\\\") \\\"Acceleration vector of masscenter\\\";\n",
       "  Real p.joint.InPortB.T[1,1] \\\"Matrix of rotation\\\";\n",
       "  Real p.joint.InPortB.T[1,2] \\\"Matrix of rotation\\\";\n",
       "  Real p.joint.InPortB.T[1,3] \\\"Matrix of rotation\\\";\n",
       "  Real p.joint.InPortB.T[2,1] \\\"Matrix of rotation\\\";\n",
       "  Real p.joint.InPortB.T[2,2] \\\"Matrix of rotation\\\";\n",
       "  Real p.joint.InPortB.T[2,3] \\\"Matrix of rotation\\\";\n",
       "  Real p.joint.InPortB.T[3,1] \\\"Matrix of rotation\\\";\n",
       "  Real p.joint.InPortB.T[3,2] \\\"Matrix of rotation\\\";\n",
       "  Real p.joint.InPortB.T[3,3] \\\"Matrix of rotation\\\";\n",
       "  Real p.joint.InPortB.omega[1](quantity = \\\"AngularVelocity\\\", unit = \\\"rad/s\\\") \\\"Vector of angular rate\\\";\n",
       "  Real p.joint.InPortB.omega[2](quantity = \\\"AngularVelocity\\\", unit = \\\"rad/s\\\") \\\"Vector of angular rate\\\";\n",
       "  Real p.joint.InPortB.omega[3](quantity = \\\"AngularVelocity\\\", unit = \\\"rad/s\\\") \\\"Vector of angular rate\\\";\n",
       "  Real p.joint.InPortB.epsilon[1](quantity = \\\"AngularAcceleration\\\", unit = \\\"rad/s2\\\") \\\"Vector of angular acceleration\\\";\n",
       "  Real p.joint.InPortB.epsilon[2](quantity = \\\"AngularAcceleration\\\", unit = \\\"rad/s2\\\") \\\"Vector of angular acceleration\\\";\n",
       "  Real p.joint.InPortB.epsilon[3](quantity = \\\"AngularAcceleration\\\", unit = \\\"rad/s2\\\") \\\"Vector of angular acceleration\\\";\n",
       "  Real p.joint.OutPortB.P[1](quantity = \\\"Length\\\", unit = \\\"m\\\");\n",
       "  Real p.joint.OutPortB.P[2](quantity = \\\"Length\\\", unit = \\\"m\\\");\n",
       "  Real p.joint.OutPortB.P[3](quantity = \\\"Length\\\", unit = \\\"m\\\");\n",
       "  Real p.joint.OutPortB.F[1](quantity = \\\"Force\\\", unit = \\\"N\\\");\n",
       "  Real p.joint.OutPortB.F[2](quantity = \\\"Force\\\", unit = \\\"N\\\");\n",
       "  Real p.joint.OutPortB.F[3](quantity = \\\"Force\\\", unit = \\\"N\\\");\n",
       "  Real p.joint.OutPortB.M[1](quantity = \\\"Torque\\\", unit = \\\"N.m\\\");\n",
       "  Real p.joint.OutPortB.M[2](quantity = \\\"Torque\\\", unit = \\\"N.m\\\");\n",
       "  Real p.joint.OutPortB.M[3](quantity = \\\"Torque\\\", unit = \\\"N.m\\\");\n",
       "  parameter Real p.joint.nA[1] = p.userwardNormalToTheScreen[1] \\\"Axis in body A local\\\";\n",
       "  parameter Real p.joint.nA[2] = p.userwardNormalToTheScreen[2] \\\"Axis in body A local\\\";\n",
       "  parameter Real p.joint.nA[3] = p.userwardNormalToTheScreen[3] \\\"Axis in body A local\\\";\n",
       "  parameter Real p.joint.nB[1] = p.userwardNormalToTheScreen[1] \\\"Axis in body B local\\\";\n",
       "  parameter Real p.joint.nB[2] = p.userwardNormalToTheScreen[2] \\\"Axis in body B local\\\";\n",
       "  parameter Real p.joint.nB[3] = p.userwardNormalToTheScreen[3] \\\"Axis in body B local\\\";\n",
       "  parameter Real p.joint.rA[1](quantity = \\\"Length\\\", unit = \\\"m\\\") = 0.0 \\\"Axis position in body A local\\\";\n",
       "  parameter Real p.joint.rA[2](quantity = \\\"Length\\\", unit = \\\"m\\\") = 0.0 \\\"Axis position in body A local\\\";\n",
       "  parameter Real p.joint.rA[3](quantity = \\\"Length\\\", unit = \\\"m\\\") = 0.0 \\\"Axis position in body A local\\\";\n",
       "  parameter Real p.joint.rB[1](quantity = \\\"Length\\\", unit = \\\"m\\\") = p.bodyAxisPositionLocal[1] \\\"Axis position in body B local\\\";\n",
       "  parameter Real p.joint.rB[2](quantity = \\\"Length\\\", unit = \\\"m\\\") = p.bodyAxisPositionLocal[2] \\\"Axis position in body B local\\\";\n",
       "  parameter Real p.joint.rB[3](quantity = \\\"Length\\\", unit = \\\"m\\\") = p.bodyAxisPositionLocal[3] \\\"Axis position in body B local\\\";\n",
       "  Real p.joint.RA[1](quantity = \\\"Length\\\", unit = \\\"m\\\");\n",
       "  Real p.joint.RA[2](quantity = \\\"Length\\\", unit = \\\"m\\\");\n",
       "  Real p.joint.RA[3](quantity = \\\"Length\\\", unit = \\\"m\\\");\n",
       "  Real p.joint.RB[1](quantity = \\\"Length\\\", unit = \\\"m\\\");\n",
       "  Real p.joint.RB[2](quantity = \\\"Length\\\", unit = \\\"m\\\");\n",
       "  Real p.joint.RB[3](quantity = \\\"Length\\\", unit = \\\"m\\\");\n",
       "  Real p.joint.vA[1](quantity = \\\"Velocity\\\", unit = \\\"m/s\\\");\n",
       "  Real p.joint.vA[2](quantity = \\\"Velocity\\\", unit = \\\"m/s\\\");\n",
       "  Real p.joint.vA[3](quantity = \\\"Velocity\\\", unit = \\\"m/s\\\");\n",
       "  Real p.joint.vB[1](quantity = \\\"Velocity\\\", unit = \\\"m/s\\\");\n",
       "  Real p.joint.vB[2](quantity = \\\"Velocity\\\", unit = \\\"m/s\\\");\n",
       "  Real p.joint.vB[3](quantity = \\\"Velocity\\\", unit = \\\"m/s\\\");\n",
       "  Real p.joint.lambda(quantity = \\\"AngularAcceleration\\\", unit = \\\"rad/s2\\\") \\\"Relative angular acceleration along the axis\\\";\n",
       "  Real p.joint.mu(quantity = \\\"AngularVelocity\\\", unit = \\\"rad/s\\\") \\\"Relative angular velocity along the axis\\\";\n",
       "  Real p.joint.angle(quantity = \\\"AngularVelocity\\\", unit = \\\"rad/s\\\") \\\"Relative angle. Beware numeric error accumulation!\\\";\n",
       "  Real p.joint.omegar[1](quantity = \\\"AngularVelocity\\\", unit = \\\"rad/s\\\") \\\"Relative angular velocity\\\";\n",
       "  Real p.joint.omegar[2](quantity = \\\"AngularVelocity\\\", unit = \\\"rad/s\\\") \\\"Relative angular velocity\\\";\n",
       "  Real p.joint.omegar[3](quantity = \\\"AngularVelocity\\\", unit = \\\"rad/s\\\") \\\"Relative angular velocity\\\";\n",
       "  Real p.joint.epsilonr[1](quantity = \\\"AngularAcceleration\\\", unit = \\\"rad/s2\\\") \\\"Relative angular acceleration\\\";\n",
       "  Real p.joint.epsilonr[2](quantity = \\\"AngularAcceleration\\\", unit = \\\"rad/s2\\\") \\\"Relative angular acceleration\\\";\n",
       "  Real p.joint.epsilonr[3](quantity = \\\"AngularAcceleration\\\", unit = \\\"rad/s2\\\") \\\"Relative angular acceleration\\\";\n",
       "  Real p.joint.nAi[1] \\\"Unit vector of joint axis w. r. t. inertial frame\\\";\n",
       "  Real p.joint.nAi[2] \\\"Unit vector of joint axis w. r. t. inertial frame\\\";\n",
       "  Real p.joint.nAi[3] \\\"Unit vector of joint axis w. r. t. inertial frame\\\";\n",
       "  Real p.joint.M(quantity = \\\"Torque\\\", unit = \\\"N.m\\\") \\\"Torque about joint axis\\\";\n",
       "initial algorithm\n",
       "  MbsLite.AssertInitializedI(p.body.name, p.body.N, \\\"N\\\");\n",
       "  MbsLite.AssertInitialized(p.body.name, {p.body.Gravity[1], p.body.Gravity[2], p.body.Gravity[3]}, \\\"Gravity\\\");\n",
       "initial algorithm\n",
       "  assert(MbsLite.CompareReal(p.body.q[1] ^ 2.0 + p.body.q[2] ^ 2.0 + p.body.q[3] ^ 2.0 + p.body.q[4] ^ 2.0, 1.0, 1e-10, 1e-05), \\\"Quaternion of body orientation should have norm 1, was: \\\" + String(p.body.q[1] ^ 2.0 + p.body.q[2] ^ 2.0 + p.body.q[3] ^ 2.0 + p.body.q[4] ^ 2.0, 0, true, 6) + \\\", q = \\\" + MbsLite.StringA({p.body.q[1], p.body.q[2], p.body.q[3], p.body.q[4]}, \\\", \\\") + \\\". Are the initial conditions specified?\\\");\n",
       "  MbsLite.AssertInitializedS(p.body.name, p.body.name, \\\"name\\\");\n",
       "  MbsLite.AssertInitialized(p.body.name, {p.body.m}, \\\"m\\\");\n",
       "  MbsLite.AssertInitialized(p.body.name, {p.body.I[1,1], p.body.I[1,2], p.body.I[1,3]}, \\\"I[1, :]\\\");\n",
       "  MbsLite.AssertInitialized(p.body.name, {p.body.I[2,1], p.body.I[2,2], p.body.I[2,3]}, \\\"I[2, :]\\\");\n",
       "  MbsLite.AssertInitialized(p.body.name, {p.body.I[3,1], p.body.I[3,2], p.body.I[3,3]}, \\\"I[3, :]\\\");\n",
       "  MbsLite.AssertInitialized(p.body.name, {p.body.r[1], p.body.r[2], p.body.r[3]}, \\\"r\\\");\n",
       "  MbsLite.AssertInitialized(p.body.name, {p.body.v[1], p.body.v[2], p.body.v[3]}, \\\"v\\\");\n",
       "  MbsLite.AssertInitialized(p.body.name, {p.body.q[1], p.body.q[2], p.body.q[3], p.body.q[4]}, \\\"q\\\");\n",
       "  MbsLite.AssertInitialized(p.body.name, {p.body.omega[1], p.body.omega[2], p.body.omega[3]}, \\\"omega\\\");\n",
       "  MbsLite.AssertInitialized(p.body.name, {p.body.F[1], p.body.F[2], p.body.F[3]}, \\\"F\\\");\n",
       "  MbsLite.AssertInitialized(p.body.name, {p.body.M[1], p.body.M[2], p.body.M[3]}, \\\"M\\\");\n",
       "initial algorithm\n",
       "  MbsLite.AssertInitializedS(p.name, p.name, \\\"name\\\");\n",
       "  MbsLite.AssertInitialized(p.name, {p.m}, \\\"m\\\");\n",
       "  MbsLite.AssertInitialized(p.name, {p.I[1,1], p.I[1,2], p.I[1,3]}, \\\"I[1, :]\\\");\n",
       "  MbsLite.AssertInitialized(p.name, {p.I[2,1], p.I[2,2], p.I[2,3]}, \\\"I[2, :]\\\");\n",
       "  MbsLite.AssertInitialized(p.name, {p.I[3,1], p.I[3,2], p.I[3,3]}, \\\"I[3, :]\\\");\n",
       "  MbsLite.AssertInitialized(p.name, {p.l}, \\\"l\\\");\n",
       "  MbsLite.AssertInitialized(p.name, {p.angle0}, \\\"angle0\\\");\n",
       "equation\n",
       "  p.base.OutPort.r[1] = 0.0;\n",
       "  p.base.OutPort.r[2] = 0.0;\n",
       "  p.base.OutPort.r[3] = 0.0;\n",
       "  p.base.OutPort.v[1] = 0.0;\n",
       "  p.base.OutPort.v[2] = 0.0;\n",
       "  p.base.OutPort.v[3] = 0.0;\n",
       "  p.base.OutPort.a[1] = 0.0;\n",
       "  p.base.OutPort.a[2] = 0.0;\n",
       "  p.base.OutPort.a[3] = 0.0;\n",
       "  p.base.OutPort.T[1,1] = 1.0;\n",
       "  p.base.OutPort.T[1,2] = 0.0;\n",
       "  p.base.OutPort.T[1,3] = 0.0;\n",
       "  p.base.OutPort.T[2,1] = 0.0;\n",
       "  p.base.OutPort.T[2,2] = 1.0;\n",
       "  p.base.OutPort.T[2,3] = 0.0;\n",
       "  p.base.OutPort.T[3,1] = 0.0;\n",
       "  p.base.OutPort.T[3,2] = 0.0;\n",
       "  p.base.OutPort.T[3,3] = 1.0;\n",
       "  p.base.OutPort.omega[1] = 0.0;\n",
       "  p.base.OutPort.omega[2] = 0.0;\n",
       "  p.base.OutPort.omega[3] = 0.0;\n",
       "  p.base.OutPort.epsilon[1] = 0.0;\n",
       "  p.base.OutPort.epsilon[2] = 0.0;\n",
       "  p.base.OutPort.epsilon[3] = 0.0;\n",
       "  p.body.crosses[1,1] = (p.body.InPorts[1].P[2] - p.body.r[2]) * p.body.InPorts[1].F[3] - (p.body.InPorts[1].P[3] - p.body.r[3]) * p.body.InPorts[1].F[2];\n",
       "  p.body.crosses[1,2] = (p.body.InPorts[1].P[3] - p.body.r[3]) * p.body.InPorts[1].F[1] - (p.body.InPorts[1].P[1] - p.body.r[1]) * p.body.InPorts[1].F[3];\n",
       "  p.body.crosses[1,3] = (p.body.InPorts[1].P[1] - p.body.r[1]) * p.body.InPorts[1].F[2] - (p.body.InPorts[1].P[2] - p.body.r[2]) * p.body.InPorts[1].F[1];\n",
       "  p.body.F[1] = p.body.Gravity[1] * p.body.m + p.body.InPorts[1].F[1];\n",
       "  p.body.F[2] = p.body.Gravity[2] * p.body.m + p.body.InPorts[1].F[2];\n",
       "  p.body.F[3] = p.body.Gravity[3] * p.body.m + p.body.InPorts[1].F[3];\n",
       "  p.body.M[1] = p.body.InPorts[1].M[1] + p.body.crosses[1,1];\n",
       "  p.body.M[2] = p.body.InPorts[1].M[2] + p.body.crosses[1,2];\n",
       "  p.body.M[3] = p.body.InPorts[1].M[3] + p.body.crosses[1,3];\n",
       "  der(p.body.Active) = 0.0;\n",
       "  der(p.body.r[1]) = p.body.v[1] * p.body.Active;\n",
       "  der(p.body.r[2]) = p.body.v[2] * p.body.Active;\n",
       "  der(p.body.r[3]) = p.body.v[3] * p.body.Active;\n",
       "  der(p.body.v[1]) = p.body.a[1] * p.body.Active;\n",
       "  der(p.body.v[2]) = p.body.a[2] * p.body.Active;\n",
       "  der(p.body.v[3]) = p.body.a[3] * p.body.Active;\n",
       "  p.body.a[1] * p.body.m = p.body.F[1];\n",
       "  p.body.a[2] * p.body.m = p.body.F[2];\n",
       "  p.body.a[3] * p.body.m = p.body.F[3];\n",
       "  {der(p.body.q[1]), der(p.body.q[2]), der(p.body.q[3]), der(p.body.q[4])} = MbsLite.Quaternions.QMult({p.body.q[1], p.body.q[2], p.body.q[3], p.body.q[4]}, {0.0, p.body.omega[1], p.body.omega[2], p.body.omega[3]}) * 0.5 * p.body.Active;\n",
       "  der(p.body.omega[1]) = p.body.epsilon[1] * p.body.Active;\n",
       "  der(p.body.omega[2]) = p.body.epsilon[2] * p.body.Active;\n",
       "  der(p.body.omega[3]) = p.body.epsilon[3] * p.body.Active;\n",
       "  p.body.T = MbsLite.Quaternions.QToT({p.body.q[1], p.body.q[2], p.body.q[3], p.body.q[4]});\n",
       "  p.body.I[1,1] * p.body.epsilon[1] + p.body.I[1,2] * p.body.epsilon[2] + p.body.I[1,3] * p.body.epsilon[3] + p.body.omega[2] * (p.body.I[3,1] * p.body.omega[1] + p.body.I[3,2] * p.body.omega[2] + p.body.I[3,3] * p.body.omega[3]) - p.body.omega[3] * (p.body.I[2,1] * p.body.omega[1] + p.body.I[2,2] * p.body.omega[2] + p.body.I[2,3] * p.body.omega[3]) = p.body.T[1,1] * p.body.M[1] + p.body.T[2,1] * p.body.M[2] + p.body.T[3,1] * p.body.M[3];\n",
       "  p.body.I[2,1] * p.body.epsilon[1] + p.body.I[2,2] * p.body.epsilon[2] + p.body.I[2,3] * p.body.epsilon[3] + p.body.omega[3] * (p.body.I[1,1] * p.body.omega[1] + p.body.I[1,2] * p.body.omega[2] + p.body.I[1,3] * p.body.omega[3]) - p.body.omega[1] * (p.body.I[3,1] * p.body.omega[1] + p.body.I[3,2] * p.body.omega[2] + p.body.I[3,3] * p.body.omega[3]) = p.body.T[1,2] * p.body.M[1] + p.body.T[2,2] * p.body.M[2] + p.body.T[3,2] * p.body.M[3];\n",
       "  p.body.I[3,1] * p.body.epsilon[1] + p.body.I[3,2] * p.body.epsilon[2] + p.body.I[3,3] * p.body.epsilon[3] + p.body.omega[1] * (p.body.I[2,1] * p.body.omega[1] + p.body.I[2,2] * p.body.omega[2] + p.body.I[2,3] * p.body.omega[3]) - p.body.omega[2] * (p.body.I[1,1] * p.body.omega[1] + p.body.I[1,2] * p.body.omega[2] + p.body.I[1,3] * p.body.omega[3]) = p.body.T[1,3] * p.body.M[1] + p.body.T[2,3] * p.body.M[2] + p.body.T[3,3] * p.body.M[3];\n",
       "  p.body.OutPort.r[1] = p.body.r[1];\n",
       "  p.body.OutPort.r[2] = p.body.r[2];\n",
       "  p.body.OutPort.r[3] = p.body.r[3];\n",
       "  p.body.OutPort.v[1] = p.body.v[1];\n",
       "  p.body.OutPort.v[2] = p.body.v[2];\n",
       "  p.body.OutPort.v[3] = p.body.v[3];\n",
       "  p.body.OutPort.a[1] = p.body.a[1];\n",
       "  p.body.OutPort.a[2] = p.body.a[2];\n",
       "  p.body.OutPort.a[3] = p.body.a[3];\n",
       "  p.body.OutPort.T[1,1] = p.body.T[1,1];\n",
       "  p.body.OutPort.T[1,2] = p.body.T[1,2];\n",
       "  p.body.OutPort.T[1,3] = p.body.T[1,3];\n",
       "  p.body.OutPort.T[2,1] = p.body.T[2,1];\n",
       "  p.body.OutPort.T[2,2] = p.body.T[2,2];\n",
       "  p.body.OutPort.T[2,3] = p.body.T[2,3];\n",
       "  p.body.OutPort.T[3,1] = p.body.T[3,1];\n",
       "  p.body.OutPort.T[3,2] = p.body.T[3,2];\n",
       "  p.body.OutPort.T[3,3] = p.body.T[3,3];\n",
       "  p.body.OutPort.omega[1] = p.body.T[1,1] * p.body.omega[1] + p.body.T[1,2] * p.body.omega[2] + p.body.T[1,3] * p.body.omega[3];\n",
       "  p.body.OutPort.omega[2] = p.body.T[2,1] * p.body.omega[1] + p.body.T[2,2] * p.body.omega[2] + p.body.T[2,3] * p.body.omega[3];\n",
       "  p.body.OutPort.omega[3] = p.body.T[3,1] * p.body.omega[1] + p.body.T[3,2] * p.body.omega[2] + p.body.T[3,3] * p.body.omega[3];\n",
       "  p.body.OutPort.epsilon[1] = p.body.T[1,1] * p.body.epsilon[1] + p.body.T[1,2] * p.body.epsilon[2] + p.body.T[1,3] * p.body.epsilon[3];\n",
       "  p.body.OutPort.epsilon[2] = p.body.T[2,1] * p.body.epsilon[1] + p.body.T[2,2] * p.body.epsilon[2] + p.body.T[2,3] * p.body.epsilon[3];\n",
       "  p.body.OutPort.epsilon[3] = p.body.T[3,1] * p.body.epsilon[1] + p.body.T[3,2] * p.body.epsilon[2] + p.body.T[3,3] * p.body.epsilon[3];\n",
       "  p.joint.RA[1] = p.joint.InPortA.r[1] + p.joint.InPortA.T[1,1] * p.joint.rA[1] + p.joint.InPortA.T[1,2] * p.joint.rA[2] + p.joint.InPortA.T[1,3] * p.joint.rA[3];\n",
       "  p.joint.RA[2] = p.joint.InPortA.r[2] + p.joint.InPortA.T[2,1] * p.joint.rA[1] + p.joint.InPortA.T[2,2] * p.joint.rA[2] + p.joint.InPortA.T[2,3] * p.joint.rA[3];\n",
       "  p.joint.RA[3] = p.joint.InPortA.r[3] + p.joint.InPortA.T[3,1] * p.joint.rA[1] + p.joint.InPortA.T[3,2] * p.joint.rA[2] + p.joint.InPortA.T[3,3] * p.joint.rA[3];\n",
       "  p.joint.RB[1] = p.joint.InPortB.r[1] + p.joint.InPortB.T[1,1] * p.joint.rB[1] + p.joint.InPortB.T[1,2] * p.joint.rB[2] + p.joint.InPortB.T[1,3] * p.joint.rB[3];\n",
       "  p.joint.RB[2] = p.joint.InPortB.r[2] + p.joint.InPortB.T[2,1] * p.joint.rB[1] + p.joint.InPortB.T[2,2] * p.joint.rB[2] + p.joint.InPortB.T[2,3] * p.joint.rB[3];\n",
       "  p.joint.RB[3] = p.joint.InPortB.r[3] + p.joint.InPortB.T[3,1] * p.joint.rB[1] + p.joint.InPortB.T[3,2] * p.joint.rB[2] + p.joint.InPortB.T[3,3] * p.joint.rB[3];\n",
       "  p.joint.vA[1] = p.joint.InPortA.v[1] + p.joint.InPortA.omega[2] * (p.joint.InPortA.T[3,1] * p.joint.rA[1] + p.joint.InPortA.T[3,2] * p.joint.rA[2] + p.joint.InPortA.T[3,3] * p.joint.rA[3]) - p.joint.InPortA.omega[3] * (p.joint.InPortA.T[2,1] * p.joint.rA[1] + p.joint.InPortA.T[2,2] * p.joint.rA[2] + p.joint.InPortA.T[2,3] * p.joint.rA[3]);\n",
       "  p.joint.vA[2] = p.joint.InPortA.v[2] + p.joint.InPortA.omega[3] * (p.joint.InPortA.T[1,1] * p.joint.rA[1] + p.joint.InPortA.T[1,2] * p.joint.rA[2] + p.joint.InPortA.T[1,3] * p.joint.rA[3]) - p.joint.InPortA.omega[1] * (p.joint.InPortA.T[3,1] * p.joint.rA[1] + p.joint.InPortA.T[3,2] * p.joint.rA[2] + p.joint.InPortA.T[3,3] * p.joint.rA[3]);\n",
       "  p.joint.vA[3] = p.joint.InPortA.v[3] + p.joint.InPortA.omega[1] * (p.joint.InPortA.T[2,1] * p.joint.rA[1] + p.joint.InPortA.T[2,2] * p.joint.rA[2] + p.joint.InPortA.T[2,3] * p.joint.rA[3]) - p.joint.InPortA.omega[2] * (p.joint.InPortA.T[1,1] * p.joint.rA[1] + p.joint.InPortA.T[1,2] * p.joint.rA[2] + p.joint.InPortA.T[1,3] * p.joint.rA[3]);\n",
       "  p.joint.vB[1] = p.joint.InPortB.v[1] + p.joint.InPortB.omega[2] * (p.joint.InPortB.T[3,1] * p.joint.rB[1] + p.joint.InPortB.T[3,2] * p.joint.rB[2] + p.joint.InPortB.T[3,3] * p.joint.rB[3]) - p.joint.InPortB.omega[3] * (p.joint.InPortB.T[2,1] * p.joint.rB[1] + p.joint.InPortB.T[2,2] * p.joint.rB[2] + p.joint.InPortB.T[2,3] * p.joint.rB[3]);\n",
       "  p.joint.vB[2] = p.joint.InPortB.v[2] + p.joint.InPortB.omega[3] * (p.joint.InPortB.T[1,1] * p.joint.rB[1] + p.joint.InPortB.T[1,2] * p.joint.rB[2] + p.joint.InPortB.T[1,3] * p.joint.rB[3]) - p.joint.InPortB.omega[1] * (p.joint.InPortB.T[3,1] * p.joint.rB[1] + p.joint.InPortB.T[3,2] * p.joint.rB[2] + p.joint.InPortB.T[3,3] * p.joint.rB[3]);\n",
       "  p.joint.vB[3] = p.joint.InPortB.v[3] + p.joint.InPortB.omega[1] * (p.joint.InPortB.T[2,1] * p.joint.rB[1] + p.joint.InPortB.T[2,2] * p.joint.rB[2] + p.joint.InPortB.T[2,3] * p.joint.rB[3]) - p.joint.InPortB.omega[2] * (p.joint.InPortB.T[1,1] * p.joint.rB[1] + p.joint.InPortB.T[1,2] * p.joint.rB[2] + p.joint.InPortB.T[1,3] * p.joint.rB[3]);\n",
       "  p.joint.vA[1] = p.joint.vB[1];\n",
       "  p.joint.vA[2] = p.joint.vB[2];\n",
       "  p.joint.vA[3] = p.joint.vB[3];\n",
       "  p.joint.nAi[1] = p.joint.InPortA.T[1,1] * p.joint.nA[1] + p.joint.InPortA.T[1,2] * p.joint.nA[2] + p.joint.InPortA.T[1,3] * p.joint.nA[3];\n",
       "  p.joint.nAi[2] = p.joint.InPortA.T[2,1] * p.joint.nA[1] + p.joint.InPortA.T[2,2] * p.joint.nA[2] + p.joint.InPortA.T[2,3] * p.joint.nA[3];\n",
       "  p.joint.nAi[3] = p.joint.InPortA.T[3,1] * p.joint.nA[1] + p.joint.InPortA.T[3,2] * p.joint.nA[2] + p.joint.InPortA.T[3,3] * p.joint.nA[3];\n",
       "  p.joint.omegar[1] = p.joint.InPortB.omega[1] - p.joint.InPortA.omega[1];\n",
       "  p.joint.omegar[2] = p.joint.InPortB.omega[2] - p.joint.InPortA.omega[2];\n",
       "  p.joint.omegar[3] = p.joint.InPortB.omega[3] - p.joint.InPortA.omega[3];\n",
       "  p.joint.epsilonr[1] = p.joint.InPortB.epsilon[1] - p.joint.InPortA.epsilon[1] - (p.joint.InPortA.omega[2] * p.joint.omegar[3] - p.joint.InPortA.omega[3] * p.joint.omegar[2]);\n",
       "  p.joint.epsilonr[2] = p.joint.InPortB.epsilon[2] - p.joint.InPortA.epsilon[2] - (p.joint.InPortA.omega[3] * p.joint.omegar[1] - p.joint.InPortA.omega[1] * p.joint.omegar[3]);\n",
       "  p.joint.epsilonr[3] = p.joint.InPortB.epsilon[3] - p.joint.InPortA.epsilon[3] - (p.joint.InPortA.omega[1] * p.joint.omegar[2] - p.joint.InPortA.omega[2] * p.joint.omegar[1]);\n",
       "  p.joint.epsilonr[1] = p.joint.nAi[1] * p.joint.lambda;\n",
       "  p.joint.epsilonr[2] = p.joint.nAi[2] * p.joint.lambda;\n",
       "  p.joint.epsilonr[3] = p.joint.nAi[3] * p.joint.lambda;\n",
       "  p.joint.M = p.joint.OutPortA.M[1] * p.joint.nAi[1] + p.joint.OutPortA.M[2] * p.joint.nAi[2] + p.joint.OutPortA.M[3] * p.joint.nAi[3];\n",
       "  p.joint.M = 0.0;\n",
       "  p.joint.OutPortA.P[1] = p.joint.RA[1];\n",
       "  p.joint.OutPortA.P[2] = p.joint.RA[2];\n",
       "  p.joint.OutPortA.P[3] = p.joint.RA[3];\n",
       "  p.joint.OutPortB.P[1] = p.joint.RB[1];\n",
       "  p.joint.OutPortB.P[2] = p.joint.RB[2];\n",
       "  p.joint.OutPortB.P[3] = p.joint.RB[3];\n",
       "  der(p.joint.mu) = p.joint.lambda;\n",
       "  der(p.joint.angle) = p.joint.mu;\n",
       "  p.joint.OutPortA.F[1] + p.joint.OutPortB.F[1] = 0.0;\n",
       "  p.joint.OutPortA.F[2] + p.joint.OutPortB.F[2] = 0.0;\n",
       "  p.joint.OutPortA.F[3] + p.joint.OutPortB.F[3] = 0.0;\n",
       "  p.joint.OutPortA.M[1] + p.joint.OutPortB.M[1] = 0.0;\n",
       "  p.joint.OutPortA.M[2] + p.joint.OutPortB.M[2] = 0.0;\n",
       "  p.joint.OutPortA.M[3] + p.joint.OutPortB.M[3] = 0.0;\n",
       "  assert(MbsLite.CompareReal(1.0, Modelica.Math.Vectors.norm({p.body.r[1], p.body.r[2], p.body.r[3]}, 2.0), 1e-10, 1e-05), \\\"body should stay at distance of 1 from origin, was: \\\" + String(Modelica.Math.Vectors.norm({p.body.r[1], p.body.r[2], p.body.r[3]}, 2.0), 0, true, 6));\n",
       "  when time == 10.0 then\n",
       "    assert(MbsLite.CompareReal(expectedAngle, p.joint.angle, 1e-10, 1e-05), \\\"angle should be \\\" + String(expectedAngle, 0, true, 6) + \\\", was: \\\" + String(p.joint.angle, 0, true, 6));\n",
       "  end when;\n",
       "  p.base.OutPort.T[1,1] = p.joint.InPortA.T[1,1];\n",
       "  p.base.OutPort.T[1,2] = p.joint.InPortA.T[1,2];\n",
       "  p.base.OutPort.T[1,3] = p.joint.InPortA.T[1,3];\n",
       "  p.base.OutPort.T[2,1] = p.joint.InPortA.T[2,1];\n",
       "  p.base.OutPort.T[2,2] = p.joint.InPortA.T[2,2];\n",
       "  p.base.OutPort.T[2,3] = p.joint.InPortA.T[2,3];\n",
       "  p.base.OutPort.T[3,1] = p.joint.InPortA.T[3,1];\n",
       "  p.base.OutPort.T[3,2] = p.joint.InPortA.T[3,2];\n",
       "  p.base.OutPort.T[3,3] = p.joint.InPortA.T[3,3];\n",
       "  p.base.OutPort.a[1] = p.joint.InPortA.a[1];\n",
       "  p.base.OutPort.a[2] = p.joint.InPortA.a[2];\n",
       "  p.base.OutPort.a[3] = p.joint.InPortA.a[3];\n",
       "  p.base.OutPort.epsilon[1] = p.joint.InPortA.epsilon[1];\n",
       "  p.base.OutPort.epsilon[2] = p.joint.InPortA.epsilon[2];\n",
       "  p.base.OutPort.epsilon[3] = p.joint.InPortA.epsilon[3];\n",
       "  p.base.OutPort.omega[1] = p.joint.InPortA.omega[1];\n",
       "  p.base.OutPort.omega[2] = p.joint.InPortA.omega[2];\n",
       "  p.base.OutPort.omega[3] = p.joint.InPortA.omega[3];\n",
       "  p.base.OutPort.r[1] = p.joint.InPortA.r[1];\n",
       "  p.base.OutPort.r[2] = p.joint.InPortA.r[2];\n",
       "  p.base.OutPort.r[3] = p.joint.InPortA.r[3];\n",
       "  p.base.OutPort.v[1] = p.joint.InPortA.v[1];\n",
       "  p.base.OutPort.v[2] = p.joint.InPortA.v[2];\n",
       "  p.base.OutPort.v[3] = p.joint.InPortA.v[3];\n",
       "  p.body.OutPort.T[1,1] = p.joint.InPortB.T[1,1];\n",
       "  p.body.OutPort.T[1,2] = p.joint.InPortB.T[1,2];\n",
       "  p.body.OutPort.T[1,3] = p.joint.InPortB.T[1,3];\n",
       "  p.body.OutPort.T[2,1] = p.joint.InPortB.T[2,1];\n",
       "  p.body.OutPort.T[2,2] = p.joint.InPortB.T[2,2];\n",
       "  p.body.OutPort.T[2,3] = p.joint.InPortB.T[2,3];\n",
       "  p.body.OutPort.T[3,1] = p.joint.InPortB.T[3,1];\n",
       "  p.body.OutPort.T[3,2] = p.joint.InPortB.T[3,2];\n",
       "  p.body.OutPort.T[3,3] = p.joint.InPortB.T[3,3];\n",
       "  p.body.OutPort.a[1] = p.joint.InPortB.a[1];\n",
       "  p.body.OutPort.a[2] = p.joint.InPortB.a[2];\n",
       "  p.body.OutPort.a[3] = p.joint.InPortB.a[3];\n",
       "  p.body.OutPort.epsilon[1] = p.joint.InPortB.epsilon[1];\n",
       "  p.body.OutPort.epsilon[2] = p.joint.InPortB.epsilon[2];\n",
       "  p.body.OutPort.epsilon[3] = p.joint.InPortB.epsilon[3];\n",
       "  p.body.OutPort.omega[1] = p.joint.InPortB.omega[1];\n",
       "  p.body.OutPort.omega[2] = p.joint.InPortB.omega[2];\n",
       "  p.body.OutPort.omega[3] = p.joint.InPortB.omega[3];\n",
       "  p.body.OutPort.r[1] = p.joint.InPortB.r[1];\n",
       "  p.body.OutPort.r[2] = p.joint.InPortB.r[2];\n",
       "  p.body.OutPort.r[3] = p.joint.InPortB.r[3];\n",
       "  p.body.OutPort.v[1] = p.joint.InPortB.v[1];\n",
       "  p.body.OutPort.v[2] = p.joint.InPortB.v[2];\n",
       "  p.body.OutPort.v[3] = p.joint.InPortB.v[3];\n",
       "  p.body.InPorts[1].F[1] = p.joint.OutPortB.F[1];\n",
       "  p.body.InPorts[1].F[2] = p.joint.OutPortB.F[2];\n",
       "  p.body.InPorts[1].F[3] = p.joint.OutPortB.F[3];\n",
       "  p.body.InPorts[1].M[1] = p.joint.OutPortB.M[1];\n",
       "  p.body.InPorts[1].M[2] = p.joint.OutPortB.M[2];\n",
       "  p.body.InPorts[1].M[3] = p.joint.OutPortB.M[3];\n",
       "  p.body.InPorts[1].P[1] = p.joint.OutPortB.P[1];\n",
       "  p.body.InPorts[1].P[2] = p.joint.OutPortB.P[2];\n",
       "  p.body.InPorts[1].P[3] = p.joint.OutPortB.P[3];\n",
       "end MbsLite.Test.PendulumTest;\n",
       "\"\n",
       "\"Check of MbsLite.Test.PendulumTest completed successfully.\n",
       "Class MbsLite.Test.PendulumTest has 186 equation(s) and 186 variable(s).\n",
       "118 of these are trivial equation(s).\"\n",
       "record SimulationResult\n",
       "    resultFile = \"/home/vf/om/models/omni/tmp/MbsLite.Test.PendulumTest_res.csv\",\n",
       "    simulationOptions = \"startTime = 0.0, stopTime = 10.0, numberOfIntervals = 100, tolerance = 1e-09, method = 'dassl', fileNamePrefix = 'MbsLite.Test.PendulumTest', options = '', outputFormat = 'csv', variableFilter = '.*', cflags = '', simflags = ''\",\n",
       "    messages = \"stdout            | warning | The default linear solver fails, the fallback solver with total pivoting is started at time 0.000000. That might raise performance issues, for more information use -lv LOG_LS.\n",
       "stdout            | info    | The initialization finished successfully without homotopy method.\n",
       "stdout            | info    | The simulation finished successfully.\n",
       "\",\n",
       "    timeFrontend = 0.645690297,\n",
       "    timeBackend = 0.6341240020000001,\n",
       "    timeSimCode = 0.085088151,\n",
       "    timeTemplates = 0.756788166,\n",
       "    timeCompile = 8.460325721,\n",
       "    timeSimulation = 0.09495131999999995,\n",
       "    timeTotal = 10.677175769\n",
       "end SimulationResult;\n"
      ]
     },
     "metadata": {},
     "output_type": "display_data"
    }
   ],
   "source": [
    "loadModel(MbsLite);\n",
    "loadModel(MbsLite.Test.PendulumTest);\n",
    "instantiateModel(MbsLite.Test.PendulumTest);\n",
    "checkModel(MbsLite.Test.PendulumTest);\n",
    "simulate\n",
    "    ( MbsLite.Test.PendulumTest\n",
    "    , outputFormat = \"csv\"\n",
    "    , stopTime = 10\n",
    "    )"
   ]
  },
  {
   "cell_type": "code",
   "execution_count": 17,
   "metadata": {},
   "outputs": [
    {
     "data": {
      "text/plain": []
     },
     "metadata": {},
     "output_type": "display_data"
    }
   ],
   "source": [
    "res := strtok(readFile(\"MbsLite.Test.PendulumTest_res.csv\"), \"\\n\");"
   ]
  },
  {
   "cell_type": "code",
   "execution_count": 18,
   "metadata": {},
   "outputs": [
    {
     "data": {
      "text/plain": [
       "()"
      ]
     },
     "metadata": {},
     "output_type": "display_data"
    }
   ],
   "source": [
    "// res[1]"
   ]
  },
  {
   "cell_type": "code",
   "execution_count": 15,
   "metadata": {
    "scrolled": true
   },
   "outputs": [
    {
     "data": {
      "text/plain": [
       "\"\"\n"
      ]
     },
     "metadata": {},
     "output_type": "display_data"
    }
   ],
   "source": [
    "getErrorString()"
   ]
  },
  {
   "cell_type": "markdown",
   "metadata": {},
   "source": [
    "### Body rolling"
   ]
  },
  {
   "cell_type": "code",
   "execution_count": null,
   "metadata": {
    "scrolled": true
   },
   "outputs": [],
   "source": [
    "loadModel(MbsLite);\n",
    "loadModel(MbsLite.Test.SingleBodyRollingTest);\n",
    "instantiateModel(MbsLite.Test.SingleBodyRollingTest);\n",
    "checkModel(MbsLite.Test.SingleBodyRollingTest);\n",
    "simulate\n",
    "    ( MbsLite.Test.SingleBodyRollingTest\n",
    "    , outputFormat = \"csv\"\n",
    "    , stopTime = 1\n",
    "    )"
   ]
  },
  {
   "cell_type": "code",
   "execution_count": null,
   "metadata": {},
   "outputs": [],
   "source": [
    "res := strtok(readFile(\"MbsLite.Test.SingleBodyRollingTest_res.csv\"), \"\\n\");\n",
    "// res[1]"
   ]
  },
  {
   "cell_type": "code",
   "execution_count": null,
   "metadata": {},
   "outputs": [],
   "source": [
    "strtok(readFile(\"MbsLite.Test.SingleBodyRollingTest.log\"), \"\\n\")"
   ]
  },
  {
   "cell_type": "code",
   "execution_count": null,
   "metadata": {},
   "outputs": [],
   "source": [
    "getErrorString()"
   ]
  },
  {
   "cell_type": "markdown",
   "metadata": {},
   "source": [
    "### Current"
   ]
  },
  {
   "cell_type": "code",
   "execution_count": 23,
   "metadata": {},
   "outputs": [
    {
     "data": {
      "text/plain": [
       "True"
      ]
     },
     "metadata": {},
     "output_type": "display_data"
    }
   ],
   "source": [
    "loadModel(MbsLite)"
   ]
  },
  {
   "cell_type": "code",
   "execution_count": 24,
   "metadata": {},
   "outputs": [
    {
     "data": {
      "text/plain": [
       "True"
      ]
     },
     "metadata": {},
     "output_type": "display_data"
    }
   ],
   "source": [
    "loadModel(MbsLite.Test.SingleBodyRollingTest)"
   ]
  },
  {
   "cell_type": "code",
   "execution_count": 25,
   "metadata": {},
   "outputs": [
    {
     "data": {
      "text/plain": []
     },
     "metadata": {},
     "output_type": "display_data"
    }
   ],
   "source": [
    "instantiateModel(MbsLite.Test.SingleBodyRollingTest);"
   ]
  },
  {
   "cell_type": "code",
   "execution_count": 26,
   "metadata": {},
   "outputs": [
    {
     "data": {
      "text/plain": [
       "Check of MbsLite.Test.SingleBodyRollingTest completed successfully.\n",
       "Class MbsLite.Test.SingleBodyRollingTest has 185 equation(s) and 181 variable(s).\n",
       "131 of these are trivial equation(s)."
      ]
     },
     "metadata": {},
     "output_type": "display_data"
    }
   ],
   "source": [
    "checkModel(MbsLite.Test.SingleBodyRollingTest)"
   ]
  },
  {
   "cell_type": "code",
   "execution_count": null,
   "metadata": {},
   "outputs": [],
   "source": [
    "simulate\n",
    "    ( MbsLite.Test.SingleBodyRollingTest\n",
    "    , outputFormat = \"csv\"\n",
    "    , stopTime = 10\n",
    "    )"
   ]
  },
  {
   "cell_type": "code",
   "execution_count": null,
   "metadata": {
    "scrolled": true
   },
   "outputs": [],
   "source": [
    "getErrorString()"
   ]
  },
  {
   "cell_type": "code",
   "execution_count": null,
   "metadata": {},
   "outputs": [],
   "source": [
    "res := strtok(readFile(\"MbsLite.Test.OmniWheelTest_res.csv\"), \"\\n\");"
   ]
  },
  {
   "cell_type": "code",
   "execution_count": null,
   "metadata": {},
   "outputs": [],
   "source": [
    "res[1]"
   ]
  },
  {
   "cell_type": "code",
   "execution_count": null,
   "metadata": {
    "scrolled": true
   },
   "outputs": [],
   "source": [
    "getErrorString()"
   ]
  },
  {
   "cell_type": "code",
   "execution_count": null,
   "metadata": {},
   "outputs": [],
   "source": [
    "getMessagesString()"
   ]
  },
  {
   "cell_type": "code",
   "execution_count": null,
   "metadata": {},
   "outputs": [],
   "source": [
    "I := identity(3)"
   ]
  },
  {
   "cell_type": "code",
   "execution_count": null,
   "metadata": {},
   "outputs": [],
   "source": [
    "I[3, :]"
   ]
  },
  {
   "cell_type": "code",
   "execution_count": null,
   "metadata": {},
   "outputs": [],
   "source": [
    "diagonal({ 1, 2, 3 })"
   ]
  },
  {
   "cell_type": "code",
   "execution_count": null,
   "metadata": {},
   "outputs": [],
   "source": []
  }
 ],
 "metadata": {
  "kernelspec": {
   "display_name": "OpenModelica",
   "language": "OpenModelica",
   "name": "openmodelica"
  },
  "language_info": {
   "mimetype": "text/x-modelica",
   "name": "modelica",
   "version": "1.0"
  }
 },
 "nbformat": 4,
 "nbformat_minor": 2
}
