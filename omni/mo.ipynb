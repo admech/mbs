{
 "cells": [
  {
   "cell_type": "markdown",
   "metadata": {},
   "source": [
    "### Initialize"
   ]
  },
  {
   "cell_type": "code",
   "execution_count": null,
   "metadata": {},
   "outputs": [],
   "source": [
    "cd()"
   ]
  },
  {
   "cell_type": "code",
   "execution_count": null,
   "metadata": {},
   "outputs": [],
   "source": [
    "cd(\"tmp\")"
   ]
  },
  {
   "cell_type": "code",
   "execution_count": null,
   "metadata": {},
   "outputs": [],
   "source": [
    "getModelicaPath()"
   ]
  },
  {
   "cell_type": "code",
   "execution_count": null,
   "metadata": {},
   "outputs": [],
   "source": [
    "setModelicaPath(\"/usr/lib/omlibrary:/home/vf/.openmodelica/libraries:/home/vf/om/models/omni/thin/lib/\")"
   ]
  },
  {
   "cell_type": "code",
   "execution_count": null,
   "metadata": {},
   "outputs": [],
   "source": [
    "getModelicaPath()"
   ]
  },
  {
   "cell_type": "code",
   "execution_count": null,
   "metadata": {},
   "outputs": [],
   "source": [
    "loadModel(Modelica)"
   ]
  },
  {
   "cell_type": "markdown",
   "metadata": {},
   "source": [
    "# MbsLite Tests"
   ]
  },
  {
   "cell_type": "markdown",
   "metadata": {},
   "source": [
    "### Body at rest"
   ]
  },
  {
   "cell_type": "code",
   "execution_count": null,
   "metadata": {
    "scrolled": true
   },
   "outputs": [],
   "source": [
    "loadModel(MbsLite);\n",
    "loadModel(MbsLite.Test.SingleBody.SingleBodyAtRestTest);\n",
    "instantiateModel(MbsLite.Test.SingleBody.SingleBodyAtRestTest);\n",
    "checkModel(MbsLite.Test.SingleBody.SingleBodyAtRestTest);\n",
    "simulate\n",
    "    ( MbsLite.Test.SingleBody.SingleBodyAtRestTest\n",
    "    , outputFormat = \"csv\"\n",
    "    , stopTime = 10\n",
    "    )"
   ]
  },
  {
   "cell_type": "code",
   "execution_count": null,
   "metadata": {},
   "outputs": [],
   "source": [
    "res := strtok(readFile(\"MbsLite.Test.SingleBody.SingleBodyAtRestTest_res.csv\"), \"\\n\");\n",
    "// res[1]"
   ]
  },
  {
   "cell_type": "code",
   "execution_count": null,
   "metadata": {
    "scrolled": true
   },
   "outputs": [],
   "source": [
    "getErrorString()"
   ]
  },
  {
   "cell_type": "markdown",
   "metadata": {},
   "source": [
    "### Body falling"
   ]
  },
  {
   "cell_type": "code",
   "execution_count": null,
   "metadata": {
    "scrolled": true
   },
   "outputs": [],
   "source": [
    "loadModel(MbsLite);\n",
    "loadModel(MbsLite.Test.SingleBody.SingleBodyFallingTest);\n",
    "instantiateModel(MbsLite.Test.SingleBody.SingleBodyFallingTest);\n",
    "checkModel(MbsLite.Test.SingleBody.SingleBodyFallingTest);\n",
    "simulate\n",
    "    ( MbsLite.Test.SingleBody.SingleBodyFallingTest\n",
    "    , outputFormat = \"csv\"\n",
    "    , stopTime = 10\n",
    "    )"
   ]
  },
  {
   "cell_type": "code",
   "execution_count": null,
   "metadata": {},
   "outputs": [],
   "source": [
    "res := strtok(readFile(\"MbsLite.Test.SingleBody.SingleBodyFallingTest_res.csv\"), \"\\n\");\n",
    "// res[1]"
   ]
  },
  {
   "cell_type": "code",
   "execution_count": null,
   "metadata": {
    "scrolled": true
   },
   "outputs": [],
   "source": [
    "getErrorString()"
   ]
  },
  {
   "cell_type": "markdown",
   "metadata": {},
   "source": [
    "### Pendulum"
   ]
  },
  {
   "cell_type": "code",
   "execution_count": null,
   "metadata": {
    "scrolled": true
   },
   "outputs": [],
   "source": [
    "loadModel(MbsLite);\n",
    "loadModel(MbsLite.Test.PendulumTest);\n",
    "instantiateModel(MbsLite.Test.PendulumTest);\n",
    "checkModel(MbsLite.Test.PendulumTest);\n",
    "simulate\n",
    "    ( MbsLite.Test.PendulumTest\n",
    "    , outputFormat = \"csv\"\n",
    "    , stopTime = 10\n",
    "    )"
   ]
  },
  {
   "cell_type": "code",
   "execution_count": null,
   "metadata": {},
   "outputs": [],
   "source": [
    "res := strtok(readFile(\"MbsLite.Test.PendulumTest_res.csv\"), \"\\n\");"
   ]
  },
  {
   "cell_type": "code",
   "execution_count": null,
   "metadata": {},
   "outputs": [],
   "source": [
    "// res[1]"
   ]
  },
  {
   "cell_type": "code",
   "execution_count": null,
   "metadata": {
    "scrolled": true
   },
   "outputs": [],
   "source": [
    "getErrorString()"
   ]
  },
  {
   "cell_type": "markdown",
   "metadata": {},
   "source": [
    "### Double Pendulum"
   ]
  },
  {
   "cell_type": "code",
   "execution_count": null,
   "metadata": {
    "scrolled": true
   },
   "outputs": [],
   "source": [
    "loadModel(MbsLite);\n",
    "loadModel(MbsLite.Test.DoublePendulumTest);\n",
    "instantiateModel(MbsLite.Test.DoublePendulumTest);\n",
    "checkModel(MbsLite.Test.DoublePendulumTest);\n",
    "simulate\n",
    "    ( MbsLite.Test.DoublePendulumTest\n",
    "    , outputFormat = \"csv\"\n",
    "    )"
   ]
  },
  {
   "cell_type": "code",
   "execution_count": null,
   "metadata": {},
   "outputs": [],
   "source": [
    "res := strtok(readFile(\"MbsLite.Test.DoublePendulumTest_res.csv\"), \"\\n\");"
   ]
  },
  {
   "cell_type": "code",
   "execution_count": null,
   "metadata": {},
   "outputs": [],
   "source": [
    "// res[1]"
   ]
  },
  {
   "cell_type": "code",
   "execution_count": null,
   "metadata": {
    "scrolled": false
   },
   "outputs": [],
   "source": [
    "getErrorString()"
   ]
  },
  {
   "cell_type": "markdown",
   "metadata": {},
   "source": [
    "### Joint"
   ]
  },
  {
   "cell_type": "code",
   "execution_count": null,
   "metadata": {
    "scrolled": true
   },
   "outputs": [],
   "source": [
    "loadModel(MbsLite);\n",
    "loadModel(MbsLite.Test.Constraints.JointTest);\n",
    "instantiateModel(MbsLite.Test.Constraints.JointTest);\n",
    "checkModel(MbsLite.Test.Constraints.JointTest);\n",
    "simulate\n",
    "    ( MbsLite.Test.Constraints.JointTest\n",
    "    , outputFormat = \"csv\"\n",
    "    , stopTime = 0.1\n",
    "    )"
   ]
  },
  {
   "cell_type": "code",
   "execution_count": null,
   "metadata": {},
   "outputs": [],
   "source": [
    "res := strtok(readFile(\"MbsLite.Test.Constraints.JointTest_res.csv\"), \"\\n\");"
   ]
  },
  {
   "cell_type": "code",
   "execution_count": null,
   "metadata": {},
   "outputs": [],
   "source": [
    "// res[1]"
   ]
  },
  {
   "cell_type": "code",
   "execution_count": null,
   "metadata": {
    "scrolled": true
   },
   "outputs": [],
   "source": [
    "getErrorString()"
   ]
  },
  {
   "cell_type": "markdown",
   "metadata": {},
   "source": [
    "### Body rolling"
   ]
  },
  {
   "cell_type": "code",
   "execution_count": null,
   "metadata": {
    "scrolled": true
   },
   "outputs": [],
   "source": [
    "loadModel(MbsLite);\n",
    "loadModel(MbsLite.Test.SingleBody.SingleBodyRollingTest);\n",
    "instantiateModel(MbsLite.Test.SingleBody.SingleBodyRollingTest);\n",
    "checkModel(MbsLite.Test.SingleBody.SingleBodyRollingTest);\n",
    "simulate\n",
    "    ( MbsLite.Test.SingleBody.SingleBodyRollingTest\n",
    "    , outputFormat = \"csv\"\n",
    "    , stopTime = 1\n",
    "    )"
   ]
  },
  {
   "cell_type": "code",
   "execution_count": null,
   "metadata": {},
   "outputs": [],
   "source": [
    "res := strtok(readFile(\"MbsLite.Test.SingleBody.SingleBodyRollingTest_res.csv\"), \"\\n\");\n",
    "// res[1]"
   ]
  },
  {
   "cell_type": "code",
   "execution_count": null,
   "metadata": {},
   "outputs": [],
   "source": [
    "strtok(readFile(\"MbsLite.Test.SingleBody.SingleBodyRollingTest.log\"), \"\\n\")"
   ]
  },
  {
   "cell_type": "code",
   "execution_count": null,
   "metadata": {
    "scrolled": true
   },
   "outputs": [],
   "source": [
    "getErrorString()"
   ]
  },
  {
   "cell_type": "markdown",
   "metadata": {},
   "source": [
    "### Omni-wheel without contacts and gravity"
   ]
  },
  {
   "cell_type": "code",
   "execution_count": null,
   "metadata": {
    "scrolled": true
   },
   "outputs": [],
   "source": [
    "loadModel(MbsLite);\n",
    "loadModel(MbsLite.Test.Omni.OmniWheelAtRestTest);\n",
    "instantiateModel(MbsLite.Test.Omni.OmniWheelAtRestTest);\n",
    "checkModel(MbsLite.Test.Omni.OmniWheelAtRestTest);\n",
    "simulate\n",
    "    ( MbsLite.Test.Omni.OmniWheelAtRestTest\n",
    "    , outputFormat = \"csv\"\n",
    "    , stopTime = 20\n",
    "    )"
   ]
  },
  {
   "cell_type": "code",
   "execution_count": null,
   "metadata": {},
   "outputs": [],
   "source": [
    "res := strtok(readFile(\"MbsLite.Test.Omni.OmniWheelAtRestTest_res.csv\"), \"\\n\");\n",
    "// res[1]"
   ]
  },
  {
   "cell_type": "code",
   "execution_count": null,
   "metadata": {
    "scrolled": true
   },
   "outputs": [],
   "source": [
    "strtok(readFile(\"MbsLite.Test.Omni.OmniWheelAtRestTest.log\"), \"\\n\")"
   ]
  },
  {
   "cell_type": "code",
   "execution_count": null,
   "metadata": {
    "scrolled": true
   },
   "outputs": [],
   "source": [
    "getErrorString()"
   ]
  },
  {
   "cell_type": "code",
   "execution_count": null,
   "metadata": {
    "scrolled": true
   },
   "outputs": [],
   "source": [
    "getMessagesString()"
   ]
  },
  {
   "cell_type": "markdown",
   "metadata": {},
   "source": [
    "### Omni-wheel on plane free"
   ]
  },
  {
   "cell_type": "code",
   "execution_count": null,
   "metadata": {
    "scrolled": true
   },
   "outputs": [],
   "source": [
    "loadModel(MbsLite);\n",
    "loadModel(MbsLite.Test.Omni.OmniWheelOnPlaneTest);\n",
    "instantiateModel(MbsLite.Test.Omni.OmniWheelOnPlaneTest);\n",
    "checkModel(MbsLite.Test.Omni.OmniWheelOnPlaneTest);\n",
    "simulate\n",
    "    ( MbsLite.Test.Omni.OmniWheelOnPlaneTest\n",
    "    , outputFormat = \"csv\"\n",
    "    , stopTime = 1\n",
    "    )"
   ]
  },
  {
   "cell_type": "code",
   "execution_count": null,
   "metadata": {},
   "outputs": [],
   "source": [
    "res := strtok(readFile(\"MbsLite.Test.Omni.OmniWheelOnPlaneTest_res.csv\"), \"\\n\");\n",
    "// res[1]"
   ]
  },
  {
   "cell_type": "code",
   "execution_count": null,
   "metadata": {
    "scrolled": true
   },
   "outputs": [],
   "source": [
    "strtok(readFile(\"MbsLite.Test.Omni.OmniWheelOnPlaneTest.log\"), \"\\n\")"
   ]
  },
  {
   "cell_type": "code",
   "execution_count": null,
   "metadata": {
    "scrolled": true
   },
   "outputs": [],
   "source": [
    "getErrorString()"
   ]
  },
  {
   "cell_type": "code",
   "execution_count": null,
   "metadata": {
    "scrolled": true
   },
   "outputs": [],
   "source": [
    "getMessagesString()"
   ]
  },
  {
   "cell_type": "markdown",
   "metadata": {},
   "source": [
    "### Single-roller wheel"
   ]
  },
  {
   "cell_type": "code",
   "execution_count": null,
   "metadata": {
    "scrolled": true
   },
   "outputs": [],
   "source": [
    "loadModel(MbsLite);\n",
    "loadModel(MbsLite.Test.Omni.SingleRollerOmniWheelTest);\n",
    "instantiateModel(MbsLite.Test.Omni.SingleRollerOmniWheelTest);\n",
    "checkModel(MbsLite.Test.Omni.SingleRollerOmniWheelTest);\n",
    "simulate\n",
    "    ( MbsLite.Test.Omni.SingleRollerOmniWheelTest\n",
    "    , outputFormat = \"csv\"\n",
    "    , stopTime = 1\n",
    "    )"
   ]
  },
  {
   "cell_type": "code",
   "execution_count": null,
   "metadata": {},
   "outputs": [],
   "source": [
    "res := strtok(readFile(\"MbsLite.Test.Omni.SingleRollerOmniWheelTest_res.csv\"), \"\\n\");\n",
    "// res[1]"
   ]
  },
  {
   "cell_type": "code",
   "execution_count": null,
   "metadata": {
    "scrolled": true
   },
   "outputs": [],
   "source": [
    "strtok(readFile(\"MbsLite.Test.Omni.SingleRollerOmniWheelTest.log\"), \"\\n\")"
   ]
  },
  {
   "cell_type": "code",
   "execution_count": null,
   "metadata": {
    "scrolled": true
   },
   "outputs": [],
   "source": [
    "getErrorString()"
   ]
  },
  {
   "cell_type": "code",
   "execution_count": null,
   "metadata": {
    "scrolled": true
   },
   "outputs": [],
   "source": [
    "getMessagesString()"
   ]
  },
  {
   "cell_type": "markdown",
   "metadata": {},
   "source": [
    "### Vertical wheel"
   ]
  },
  {
   "cell_type": "code",
   "execution_count": null,
   "metadata": {
    "scrolled": true
   },
   "outputs": [],
   "source": [
    "loadModel(MbsLite);\n",
    "loadModel(MbsLite.Test.Omni.OmniWheelVerticalTest);\n",
    "instantiateModel(MbsLite.Test.Omni.OmniWheelVerticalTest);\n",
    "checkModel(MbsLite.Test.Omni.OmniWheelVerticalTest);\n",
    "simulate\n",
    "    ( MbsLite.Test.Omni.OmniWheelVerticalTest\n",
    "    , outputFormat = \"csv\"\n",
    "    , stopTime = 1\n",
    "    )"
   ]
  },
  {
   "cell_type": "code",
   "execution_count": null,
   "metadata": {},
   "outputs": [],
   "source": [
    "res := strtok(readFile(\"MbsLite.Test.Omni.OmniWheelVerticalTest_res.csv\"), \"\\n\");\n",
    "// res[1]"
   ]
  },
  {
   "cell_type": "code",
   "execution_count": null,
   "metadata": {},
   "outputs": [],
   "source": [
    "strtok(readFile(\"MbsLite.Test.Omni.OmniWheelVerticalTest.log\"), \"\\n\")"
   ]
  },
  {
   "cell_type": "code",
   "execution_count": null,
   "metadata": {
    "scrolled": true
   },
   "outputs": [],
   "source": [
    "getErrorString()"
   ]
  },
  {
   "cell_type": "code",
   "execution_count": null,
   "metadata": {
    "scrolled": true
   },
   "outputs": [],
   "source": [
    "getMessagesString()"
   ]
  },
  {
   "cell_type": "markdown",
   "metadata": {},
   "source": [
    "### Current"
   ]
  },
  {
   "cell_type": "code",
   "execution_count": null,
   "metadata": {},
   "outputs": [],
   "source": [
    "loadModel(MbsLite)"
   ]
  },
  {
   "cell_type": "code",
   "execution_count": null,
   "metadata": {},
   "outputs": [],
   "source": [
    "loadModel(MbsLite.Test.Omni.OmniWheelAtRestTest)"
   ]
  },
  {
   "cell_type": "code",
   "execution_count": null,
   "metadata": {},
   "outputs": [],
   "source": [
    "instantiateModel(MbsLite.Test.Omni.OmniWheelAtRestTest)"
   ]
  },
  {
   "cell_type": "code",
   "execution_count": null,
   "metadata": {},
   "outputs": [],
   "source": [
    "checkModel(MbsLite.Test.Omni.OmniWheelAtRestTest)"
   ]
  },
  {
   "cell_type": "code",
   "execution_count": null,
   "metadata": {},
   "outputs": [],
   "source": [
    "simulate\n",
    "    ( MbsLite.Test.Omni.OmniWheelAtRestTest\n",
    "    , outputFormat = \"csv\"\n",
    "    )"
   ]
  },
  {
   "cell_type": "code",
   "execution_count": null,
   "metadata": {
    "scrolled": true
   },
   "outputs": [],
   "source": [
    "getErrorString()"
   ]
  },
  {
   "cell_type": "code",
   "execution_count": null,
   "metadata": {},
   "outputs": [],
   "source": [
    "strtok(readFile(\"MbsLite.Test.Omni.OmniWheelAtRestTest.log\"), \"\\n\")"
   ]
  },
  {
   "cell_type": "code",
   "execution_count": null,
   "metadata": {},
   "outputs": [],
   "source": [
    "res := strtok(readFile(\"MbsLite.Test.Omni.OmniWheelAtRestTest_res.csv\"), \"\\n\");"
   ]
  },
  {
   "cell_type": "code",
   "execution_count": null,
   "metadata": {},
   "outputs": [],
   "source": [
    "res[1]"
   ]
  },
  {
   "cell_type": "code",
   "execution_count": null,
   "metadata": {
    "scrolled": true
   },
   "outputs": [],
   "source": [
    "getErrorString()"
   ]
  },
  {
   "cell_type": "code",
   "execution_count": null,
   "metadata": {},
   "outputs": [],
   "source": [
    "getMessagesString()"
   ]
  },
  {
   "cell_type": "code",
   "execution_count": null,
   "metadata": {},
   "outputs": [],
   "source": []
  },
  {
   "cell_type": "markdown",
   "metadata": {},
   "source": [
    "# Misc"
   ]
  },
  {
   "cell_type": "code",
   "execution_count": null,
   "metadata": {},
   "outputs": [],
   "source": [
    "I := identity(3)"
   ]
  },
  {
   "cell_type": "code",
   "execution_count": null,
   "metadata": {},
   "outputs": [],
   "source": [
    "I[3, :]"
   ]
  },
  {
   "cell_type": "code",
   "execution_count": null,
   "metadata": {},
   "outputs": [],
   "source": [
    "diagonal({ 1, 2, 3 })"
   ]
  },
  {
   "cell_type": "code",
   "execution_count": null,
   "metadata": {
    "scrolled": true
   },
   "outputs": [],
   "source": [
    "String({1, 2, 3})"
   ]
  },
  {
   "cell_type": "code",
   "execution_count": null,
   "metadata": {},
   "outputs": [],
   "source": [
    "MbsLite.Quaternions.QRot(2 * Modelica.Constants.pi / 5, { 0, 0, 1 })"
   ]
  },
  {
   "cell_type": "code",
   "execution_count": null,
   "metadata": {},
   "outputs": [],
   "source": [
    "{ cos(2 * Modelica.Constants.pi / 5 / 2), 0, 0, sin(2 * Modelica.Constants.pi / 5 / 2) }"
   ]
  },
  {
   "cell_type": "code",
   "execution_count": null,
   "metadata": {},
   "outputs": [],
   "source": [
    "nBs :=\n",
    "  { MbsLite.Util.Quaternions.QToT\n",
    "    ( MbsLite.Util.Quaternions.QRot\n",
    "      ( 2*Modelica.Constants.pi/5 * (i - 1)\n",
    "      , { 0, 0, 1 }\n",
    "      )\n",
    "    )\n",
    "    * { 1, 0, 0 } for i in 1 : 5\n",
    "  }"
   ]
  },
  {
   "cell_type": "code",
   "execution_count": null,
   "metadata": {},
   "outputs": [],
   "source": [
    "Ts :=\n",
    "  { MbsLite.Util.Quaternions.QToT\n",
    "    ( MbsLite.Util.Quaternions.QRot\n",
    "      ( 2*Modelica.Constants.pi/5 * (i - 1)\n",
    "      , { 0, 0, 1 }\n",
    "      )\n",
    "    ) for i in 1 : 5\n",
    "  }"
   ]
  },
  {
   "cell_type": "code",
   "execution_count": null,
   "metadata": {},
   "outputs": [],
   "source": [
    "// nBis :=\n",
    "  { Ts[i] * { 1, 0, 0 }\n",
    "    for i in 1 : 5\n",
    "  }"
   ]
  },
  {
   "cell_type": "code",
   "execution_count": null,
   "metadata": {},
   "outputs": [],
   "source": [
    "{ Ts[1] * { 1, 0, 0 }\n",
    ", Ts[2] * { 1, 0, 0 }\n",
    ", Ts[3] * { 1, 0, 0 }\n",
    ", Ts[4] * { 1, 0, 0 }\n",
    ", Ts[5] * { 1, 0, 0 }\n",
    "}"
   ]
  },
  {
   "cell_type": "code",
   "execution_count": null,
   "metadata": {},
   "outputs": [],
   "source": []
  },
  {
   "cell_type": "markdown",
   "metadata": {},
   "source": [
    "# Uber Debug"
   ]
  },
  {
   "cell_type": "code",
   "execution_count": null,
   "metadata": {},
   "outputs": [],
   "source": [
    "loadModel(MbsLite)"
   ]
  },
  {
   "cell_type": "code",
   "execution_count": null,
   "metadata": {},
   "outputs": [],
   "source": [
    "loadModel(MbsLite.Test.Omni.OmniWheelAtRestTest)"
   ]
  },
  {
   "cell_type": "code",
   "execution_count": null,
   "metadata": {},
   "outputs": [],
   "source": [
    "checkModel(MbsLite.Test.Omni.OmniWheelAtRestTest)"
   ]
  },
  {
   "cell_type": "code",
   "execution_count": null,
   "metadata": {
    "scrolled": true
   },
   "outputs": [],
   "source": [
    "instantiateModel(MbsLite.Test.Omni.OmniWheelAtRestTest)"
   ]
  },
  {
   "cell_type": "code",
   "execution_count": null,
   "metadata": {},
   "outputs": [],
   "source": [
    "getErrorString()"
   ]
  },
  {
   "cell_type": "code",
   "execution_count": null,
   "metadata": {},
   "outputs": [],
   "source": [
    "res := simulate\n",
    "    ( MbsLite.Test.Constraints.ContactTest\n",
    "    , outputFormat = \"csv\"\n",
    "    );"
   ]
  },
  {
   "cell_type": "code",
   "execution_count": null,
   "metadata": {},
   "outputs": [],
   "source": [
    "res.messages"
   ]
  },
  {
   "cell_type": "code",
   "execution_count": null,
   "metadata": {},
   "outputs": [],
   "source": [
    "getErrorString()"
   ]
  },
  {
   "cell_type": "code",
   "execution_count": null,
   "metadata": {},
   "outputs": [],
   "source": [
    "getMessagesString()"
   ]
  },
  {
   "cell_type": "code",
   "execution_count": null,
   "metadata": {},
   "outputs": [],
   "source": [
    "res"
   ]
  },
  {
   "cell_type": "code",
   "execution_count": null,
   "metadata": {},
   "outputs": [],
   "source": [
    "record Params\n",
    "    parameter Real a;\n",
    "    Real b = a;\n",
    "end Params;"
   ]
  },
  {
   "cell_type": "code",
   "execution_count": null,
   "metadata": {},
   "outputs": [],
   "source": [
    "model Roller\n",
    "    parameter Real zu;\n",
    "    Real x;\n",
    "equation\n",
    "    der(x) = zu * x;\n",
    "end Roller;"
   ]
  },
  {
   "cell_type": "code",
   "execution_count": null,
   "metadata": {},
   "outputs": [],
   "source": [
    "model Wheel\n",
    "    parameter Params params;\n",
    "    parameter Integer n;\n",
    "    Roller[n] rollers(each zu = params.a + params.b);\n",
    "end Wheel;"
   ]
  },
  {
   "cell_type": "code",
   "execution_count": null,
   "metadata": {},
   "outputs": [],
   "source": [
    "package TestParams\n",
    "    constant Params params(a = 1);\n",
    "end TestParams;"
   ]
  },
  {
   "cell_type": "code",
   "execution_count": null,
   "metadata": {},
   "outputs": [],
   "source": [
    "model Test\n",
    "    parameter Params params = TestParams.params;\n",
    "    Wheel wheel(params = params, n = 5);\n",
    "end Test;"
   ]
  },
  {
   "cell_type": "code",
   "execution_count": null,
   "metadata": {},
   "outputs": [],
   "source": [
    "checkModel(Test)"
   ]
  },
  {
   "cell_type": "code",
   "execution_count": null,
   "metadata": {},
   "outputs": [],
   "source": [
    "getErrorString()"
   ]
  },
  {
   "cell_type": "code",
   "execution_count": null,
   "metadata": {},
   "outputs": [],
   "source": [
    "instantiateModel(Test)"
   ]
  },
  {
   "cell_type": "code",
   "execution_count": null,
   "metadata": {},
   "outputs": [],
   "source": [
    "model T0\n",
    "    parameter MbsLite.Examples.OmniVehicle.Params p;\n",
    "end T0;"
   ]
  },
  {
   "cell_type": "code",
   "execution_count": null,
   "metadata": {},
   "outputs": [],
   "source": [
    "checkModel(T0)"
   ]
  },
  {
   "cell_type": "code",
   "execution_count": null,
   "metadata": {},
   "outputs": [],
   "source": []
  },
  {
   "cell_type": "code",
   "execution_count": null,
   "metadata": {},
   "outputs": [],
   "source": [
    "model T1\n",
    "    parameter Integer n = MbsLite.Test.Omni.TestParams.pmm.nRollers;\n",
    "end T1;"
   ]
  },
  {
   "cell_type": "code",
   "execution_count": null,
   "metadata": {},
   "outputs": [],
   "source": [
    "// instantiateModel(T1)"
   ]
  },
  {
   "cell_type": "code",
   "execution_count": null,
   "metadata": {},
   "outputs": [],
   "source": [
    "loadModel(MbsLite)"
   ]
  },
  {
   "cell_type": "code",
   "execution_count": null,
   "metadata": {},
   "outputs": [],
   "source": [
    "loadModel(MbsLite.Examples.OmniVehicle.Params)"
   ]
  },
  {
   "cell_type": "code",
   "execution_count": null,
   "metadata": {},
   "outputs": [],
   "source": [
    "loadModel(MbsLite.Examples.OmniVehicle.Utils)"
   ]
  },
  {
   "cell_type": "code",
   "execution_count": null,
   "metadata": {},
   "outputs": [],
   "source": [
    "instantiateModel(MbsLite.Examples.OmniVehicle.Utils)"
   ]
  },
  {
   "cell_type": "code",
   "execution_count": null,
   "metadata": {},
   "outputs": [],
   "source": [
    "MbsLite.Examples.OmniVehicle.Utils.CreateParams\n",
    "  ( name = \"test\" )\n"
   ]
  },
  {
   "cell_type": "code",
   "execution_count": null,
   "metadata": {},
   "outputs": [],
   "source": [
    "MbsLite.Examples.OmniVehicle.Params()"
   ]
  },
  {
   "cell_type": "code",
   "execution_count": null,
   "metadata": {},
   "outputs": [],
   "source": [
    "record R\n",
    "  parameter Real x;\n",
    "end R;"
   ]
  },
  {
   "cell_type": "code",
   "execution_count": null,
   "metadata": {},
   "outputs": [],
   "source": [
    "R()"
   ]
  },
  {
   "cell_type": "code",
   "execution_count": null,
   "metadata": {},
   "outputs": [],
   "source": [
    "getErrorString()"
   ]
  },
  {
   "cell_type": "code",
   "execution_count": null,
   "metadata": {},
   "outputs": [],
   "source": []
  }
 ],
 "metadata": {
  "kernelspec": {
   "display_name": "OpenModelica",
   "language": "OpenModelica",
   "name": "openmodelica"
  },
  "language_info": {
   "mimetype": "text/x-modelica",
   "name": "modelica",
   "version": "1.0"
  }
 },
 "nbformat": 4,
 "nbformat_minor": 2
}
