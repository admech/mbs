{
 "cells": [
  {
   "cell_type": "markdown",
   "metadata": {},
   "source": [
    "### Initialize"
   ]
  },
  {
   "cell_type": "code",
   "execution_count": 1,
   "metadata": {},
   "outputs": [
    {
     "data": {
      "text/plain": [
       "/home/vf/om/models/omni"
      ]
     },
     "metadata": {},
     "output_type": "display_data"
    }
   ],
   "source": [
    "cd()"
   ]
  },
  {
   "cell_type": "code",
   "execution_count": 2,
   "metadata": {},
   "outputs": [
    {
     "data": {
      "text/plain": [
       "/home/vf/om/models/omni/tmp"
      ]
     },
     "metadata": {},
     "output_type": "display_data"
    }
   ],
   "source": [
    "cd(\"tmp\")"
   ]
  },
  {
   "cell_type": "code",
   "execution_count": 3,
   "metadata": {},
   "outputs": [
    {
     "data": {
      "text/plain": [
       "/usr/lib/omlibrary:/home/vf/.openmodelica/libraries/"
      ]
     },
     "metadata": {},
     "output_type": "display_data"
    }
   ],
   "source": [
    "getModelicaPath()"
   ]
  },
  {
   "cell_type": "code",
   "execution_count": 4,
   "metadata": {},
   "outputs": [
    {
     "data": {
      "text/plain": [
       "True"
      ]
     },
     "metadata": {},
     "output_type": "display_data"
    }
   ],
   "source": [
    "setModelicaPath(\"/usr/lib/omlibrary:/home/vf/.openmodelica/libraries:/home/vf/om/models/omni/thin/lib/\")"
   ]
  },
  {
   "cell_type": "code",
   "execution_count": 5,
   "metadata": {},
   "outputs": [
    {
     "data": {
      "text/plain": [
       "/usr/lib/omlibrary:/home/vf/.openmodelica/libraries:/home/vf/om/models/omni/thin/lib/"
      ]
     },
     "metadata": {},
     "output_type": "display_data"
    }
   ],
   "source": [
    "getModelicaPath()"
   ]
  },
  {
   "cell_type": "code",
   "execution_count": 6,
   "metadata": {},
   "outputs": [
    {
     "data": {
      "text/plain": [
       "True"
      ]
     },
     "metadata": {},
     "output_type": "display_data"
    }
   ],
   "source": [
    "loadModel(Modelica)"
   ]
  },
  {
   "cell_type": "code",
   "execution_count": 7,
   "metadata": {},
   "outputs": [
    {
     "data": {
      "text/plain": [
       "True"
      ]
     },
     "metadata": {},
     "output_type": "display_data"
    }
   ],
   "source": [
    "loadModel(MBS)"
   ]
  },
  {
   "cell_type": "markdown",
   "metadata": {},
   "source": [
    "### Load and run the experiment"
   ]
  },
  {
   "cell_type": "code",
   "execution_count": null,
   "metadata": {},
   "outputs": [],
   "source": [
    "loadModel(MBS.Examples.OmniVehicle.PointContact.AutonomousPatchContactOmniWheelSetTest)"
   ]
  },
  {
   "cell_type": "code",
   "execution_count": null,
   "metadata": {},
   "outputs": [],
   "source": [
    "instantiateModel(MBS.Examples.OmniVehicle.PointContact.AutonomousPatchContactOmniWheelSetGeneralTest);"
   ]
  },
  {
   "cell_type": "code",
   "execution_count": null,
   "metadata": {},
   "outputs": [],
   "source": [
    "simulate(MBS.Examples.OmniVehicle.PointContact.AutonomousPatchContactOmniWheelSetGeneralTest, outputFormat=\"csv\")"
   ]
  },
  {
   "cell_type": "code",
   "execution_count": null,
   "metadata": {},
   "outputs": [],
   "source": [
    "getErrorString()"
   ]
  },
  {
   "cell_type": "code",
   "execution_count": null,
   "metadata": {},
   "outputs": [],
   "source": [
    "getMessagesString()"
   ]
  },
  {
   "cell_type": "markdown",
   "metadata": {},
   "source": [
    "### Debugging"
   ]
  },
  {
   "cell_type": "code",
   "execution_count": null,
   "metadata": {},
   "outputs": [],
   "source": [
    "loadModel(MBS.Examples.OmniVehicle.PointContact.Debug)"
   ]
  },
  {
   "cell_type": "code",
   "execution_count": null,
   "metadata": {},
   "outputs": [],
   "source": [
    "checkModel(MBS.Examples.OmniVehicle.PointContact.Debug)"
   ]
  },
  {
   "cell_type": "code",
   "execution_count": null,
   "metadata": {},
   "outputs": [],
   "source": [
    "simulate(MBS.Examples.OmniVehicle.PointContact.Debug, outputFormat=\"csv\")"
   ]
  },
  {
   "cell_type": "code",
   "execution_count": null,
   "metadata": {
    "scrolled": true
   },
   "outputs": [],
   "source": [
    "getErrorString()"
   ]
  },
  {
   "cell_type": "code",
   "execution_count": null,
   "metadata": {},
   "outputs": [],
   "source": [
    "getMessagesString()"
   ]
  },
  {
   "cell_type": "code",
   "execution_count": null,
   "metadata": {},
   "outputs": [],
   "source": [
    "getInitialStates(MBS.Examples.OmniVehicle.PointContact.Debug)"
   ]
  },
  {
   "cell_type": "markdown",
   "metadata": {},
   "source": [
    "### Debugging Lite"
   ]
  },
  {
   "cell_type": "code",
   "execution_count": null,
   "metadata": {},
   "outputs": [],
   "source": [
    "loadModel(MbsLite)"
   ]
  },
  {
   "cell_type": "code",
   "execution_count": null,
   "metadata": {},
   "outputs": [],
   "source": [
    "loadModel(MbsLite.Examples.OmniVehicle.PointContact.Debug)"
   ]
  },
  {
   "cell_type": "code",
   "execution_count": null,
   "metadata": {},
   "outputs": [],
   "source": [
    "instantiateModel(MbsLite.Examples.OmniVehicle.PointContact.Debug);"
   ]
  },
  {
   "cell_type": "code",
   "execution_count": null,
   "metadata": {},
   "outputs": [],
   "source": [
    "checkModel(MbsLite.Examples.OmniVehicle.PointContact.Debug)"
   ]
  },
  {
   "cell_type": "code",
   "execution_count": null,
   "metadata": {
    "scrolled": true
   },
   "outputs": [],
   "source": [
    "simulate(MbsLite.Examples.OmniVehicle.PointContact.Debug, outputFormat = \"csv\")"
   ]
  },
  {
   "cell_type": "code",
   "execution_count": null,
   "metadata": {
    "scrolled": false
   },
   "outputs": [],
   "source": [
    "loadModel(MbsLite.Examples.OmniVehicle.PointContact.Debug)"
   ]
  },
  {
   "cell_type": "code",
   "execution_count": null,
   "metadata": {},
   "outputs": [],
   "source": [
    "checkModel(MbsLite.Examples.OmniVehicle.PointContact.Debug)"
   ]
  },
  {
   "cell_type": "code",
   "execution_count": null,
   "metadata": {
    "scrolled": true
   },
   "outputs": [],
   "source": [
    "getErrorString()"
   ]
  },
  {
   "cell_type": "code",
   "execution_count": null,
   "metadata": {},
   "outputs": [],
   "source": [
    "getMessagesString()"
   ]
  },
  {
   "cell_type": "code",
   "execution_count": null,
   "metadata": {},
   "outputs": [],
   "source": [
    "checkModel(MbsLite.Examples.OmniVehicle.PointContact.OmniWheelGeneral)"
   ]
  },
  {
   "cell_type": "code",
   "execution_count": null,
   "metadata": {
    "scrolled": true
   },
   "outputs": [],
   "source": [
    "checkModel(MBS.Examples.OmniVehicle.PointContact.OmniWheelGeneral)"
   ]
  },
  {
   "cell_type": "code",
   "execution_count": null,
   "metadata": {},
   "outputs": [],
   "source": [
    "loadModel(MbsLite.NPortsHeavyBody)"
   ]
  },
  {
   "cell_type": "code",
   "execution_count": null,
   "metadata": {},
   "outputs": [],
   "source": [
    "model NB\n",
    "  MbsLite.NPortsHeavyBody b(N = 5);\n",
    "end NB;"
   ]
  },
  {
   "cell_type": "code",
   "execution_count": null,
   "metadata": {},
   "outputs": [],
   "source": [
    "checkModel(NB)"
   ]
  },
  {
   "cell_type": "code",
   "execution_count": null,
   "metadata": {
    "scrolled": true
   },
   "outputs": [],
   "source": [
    "getErrorString()"
   ]
  },
  {
   "cell_type": "code",
   "execution_count": null,
   "metadata": {
    "scrolled": true
   },
   "outputs": [],
   "source": [
    "checkModel(MBS.FivePortsHeavyBody)"
   ]
  },
  {
   "cell_type": "code",
   "execution_count": null,
   "metadata": {},
   "outputs": [],
   "source": [
    "checkModel(MbsLite.NPortsHeavyBody)"
   ]
  },
  {
   "cell_type": "markdown",
   "metadata": {},
   "source": [
    "### Sandbox"
   ]
  },
  {
   "cell_type": "code",
   "execution_count": null,
   "metadata": {},
   "outputs": [],
   "source": [
    "model Comp\n",
    "    Real x;\n",
    "    Real z;\n",
    "equation\n",
    "    der(x) = -x;\n",
    "    der(z) = -z + 3;\n",
    "end Comp;\n",
    "\n",
    "model Sys\n",
    "    parameter Integer N;\n",
    "    Comp[N] Comps(each x(start = 4));\n",
    "    Real[N] ts;\n",
    "    Real y;\n",
    "    Real delta;\n",
    "    Real[3] p;\n",
    "equation\n",
    "    y = sum(Comps.x - Comps.z * delta);\n",
    "    der(delta) = sin(delta);\n",
    "    p = { 2 for i in 1 : N } + Comps.x;\n",
    "end Sys;\n",
    "\n",
    "model Test\n",
    "    Sys sys(N = 3);\n",
    "    \n",
    "    parameter Real[2] things = { 17, 19 };\n",
    "    parameter Real[2, 3] matT = { { 2 * things[i], 0, 3 * things[i] } for i in 1 : 2 };\n",
    "    parameter Real[3, 2] mat = transpose(matT);\n",
    "end Test;"
   ]
  },
  {
   "cell_type": "code",
   "execution_count": null,
   "metadata": {},
   "outputs": [],
   "source": [
    "instantiateModel(Test)"
   ]
  },
  {
   "cell_type": "code",
   "execution_count": null,
   "metadata": {},
   "outputs": [],
   "source": [
    "checkModel(Test)"
   ]
  },
  {
   "cell_type": "code",
   "execution_count": null,
   "metadata": {},
   "outputs": [],
   "source": [
    "getErrorString()"
   ]
  },
  {
   "cell_type": "code",
   "execution_count": null,
   "metadata": {},
   "outputs": [],
   "source": [
    "getMessagesString()"
   ]
  },
  {
   "cell_type": "code",
   "execution_count": null,
   "metadata": {},
   "outputs": [],
   "source": [
    "model Item\n",
    "    Real[3] F;\n",
    "equation\n",
    "    F = { 4, 5, 6 };\n",
    "end Item;\n",
    "\n",
    "model VecSum\n",
    "    Real[3] F;\n",
    "    parameter Real[3] Gravity = { 1, 2, 3 };\n",
    "    Item[2] items;\n",
    "equation\n",
    "    F = Gravity + { sum(items.F[i]) for i in 1 : 3 };\n",
    "end VecSum;"
   ]
  },
  {
   "cell_type": "code",
   "execution_count": null,
   "metadata": {},
   "outputs": [],
   "source": [
    "instantiateModel(VecSum)"
   ]
  },
  {
   "cell_type": "code",
   "execution_count": null,
   "metadata": {},
   "outputs": [],
   "source": [
    "checkModel(VecSum)"
   ]
  },
  {
   "cell_type": "code",
   "execution_count": null,
   "metadata": {},
   "outputs": [],
   "source": [
    "getErrorString()"
   ]
  },
  {
   "cell_type": "markdown",
   "metadata": {},
   "source": [
    "#### Quaternions"
   ]
  },
  {
   "cell_type": "code",
   "execution_count": null,
   "metadata": {},
   "outputs": [],
   "source": [
    "loadModel(MbsLite.QMult)"
   ]
  },
  {
   "cell_type": "code",
   "execution_count": null,
   "metadata": {},
   "outputs": [],
   "source": [
    "MbsLite.QMult(\n",
    "    MbsLite.QMult(\n",
    "        { 1, 0, 0, 0 },\n",
    "        { cos((2 * 3.14 / 3 * (3 - 1) + 3.14 / 2) / 2), 0, sin((2 * 3.14 / 3 * (3 - 1) + 3.14 / 2) / 2), 0 }\n",
    "    ),\n",
    "    { cos((2 * 3.14 / 4 * (1 - 1)) / 2), 0, sin((2 * 3.14 / 4 * (1 - 1)) / 2), 0 }\n",
    ")"
   ]
  },
  {
   "cell_type": "code",
   "execution_count": null,
   "metadata": {},
   "outputs": [],
   "source": [
    "    MbsLite.QMult(\n",
    "        { 1, 0, 0, 0 },\n",
    "        { cos((2 * 3.14 / 3 * (3 - 1) + 3.14 / 2) / 2), 0, sin((2 * 3.14 / 3 * (3 - 1) + 3.14 / 2) / 2), 0 }\n",
    "    )"
   ]
  },
  {
   "cell_type": "code",
   "execution_count": null,
   "metadata": {},
   "outputs": [],
   "source": [
    "    MbsLite.QMult(\n",
    "        { 1, 0, 0, 0 },\n",
    "        { cos(- 3.14 / 12), 0, sin(- 3.14 / 12), 0 }\n",
    "    )"
   ]
  },
  {
   "cell_type": "code",
   "execution_count": null,
   "metadata": {},
   "outputs": [],
   "source": [
    "(2 * 3.14 / 3 * (3 - 1) + 3.14 / 2) / 2"
   ]
  },
  {
   "cell_type": "code",
   "execution_count": null,
   "metadata": {},
   "outputs": [],
   "source": [
    "3.14 / 12"
   ]
  },
  {
   "cell_type": "code",
   "execution_count": null,
   "metadata": {},
   "outputs": [],
   "source": [
    "cos(-3.14/12)"
   ]
  },
  {
   "cell_type": "code",
   "execution_count": null,
   "metadata": {},
   "outputs": [],
   "source": [
    "cos(11*3.14/12)"
   ]
  },
  {
   "cell_type": "markdown",
   "metadata": {},
   "source": [
    "# MbsLite Hello World"
   ]
  },
  {
   "cell_type": "code",
   "execution_count": 141,
   "metadata": {},
   "outputs": [
    {
     "data": {
      "text/plain": [
       "('SingleBodyAtRest',)"
      ]
     },
     "metadata": {},
     "output_type": "display_data"
    }
   ],
   "source": [
    "model SingleBodyAtRest\n",
    "    MbsLite.NPortsHeavyBody b\n",
    "        ( N = 0\n",
    "        , r(start = { 0, 0, 0 })\n",
    "        , v(start = { 0, 0, 0 })\n",
    "        , q(start = { 1, 0, 0, 0 })\n",
    "        , omega(start = { 0, 0, 0 })\n",
    "        );\n",
    "end SingleBodyAtRest;"
   ]
  },
  {
   "cell_type": "code",
   "execution_count": 129,
   "metadata": {},
   "outputs": [
    {
     "data": {
      "text/plain": [
       "('SingleBodyFalling',)"
      ]
     },
     "metadata": {},
     "output_type": "display_data"
    }
   ],
   "source": [
    "model SingleBodyFalling\n",
    "    MbsLite.NPortsHeavyBody b(N = 0, Gravity = { 0, -1, 0 });\n",
    "end SingleBodyFalling;"
   ]
  },
  {
   "cell_type": "code",
   "execution_count": 136,
   "metadata": {},
   "outputs": [
    {
     "data": {
      "text/plain": [
       "True"
      ]
     },
     "metadata": {},
     "output_type": "display_data"
    }
   ],
   "source": [
    "loadModel(MbsLite)"
   ]
  },
  {
   "cell_type": "code",
   "execution_count": 142,
   "metadata": {
    "scrolled": true
   },
   "outputs": [
    {
     "data": {
      "text/plain": [
       "function MbsLite.AssertInitialized\n",
       "  input Real[:] value;\n",
       "  input String name;\n",
       "algorithm\n",
       "  assert(max(value) < 9.999999999999999e+59, name + \" is not initialized\");\n",
       "end MbsLite.AssertInitialized;\n",
       "\n",
       "function MbsLite.CompareReal\n",
       "  input Real a;\n",
       "  input Real b;\n",
       "  input Real absTol = 1e-10 \"Absolute tolerance.\";\n",
       "  input Real relTol = 1e-05 \"Relative tolerance.\";\n",
       "  output Boolean equal;\n",
       "  protected Real diff;\n",
       "algorithm\n",
       "  diff := abs(a - b);\n",
       "  equal := diff < absTol or diff <= max(abs(b), abs(a)) * relTol;\n",
       "end MbsLite.CompareReal;\n",
       "\n",
       "function MbsLite.StringA\n",
       "  input Real[:] array;\n",
       "  input String delim = \", \";\n",
       "  output String render;\n",
       "  protected String accumulator = \"\";\n",
       "  protected Integer counter = 0;\n",
       "algorithm\n",
       "  for item in array loop\n",
       "    accumulator := accumulator + String(item, 0, true, 6);\n",
       "    counter := 1 + counter;\n",
       "    if counter < size(array, 1) then\n",
       "      accumulator := accumulator + delim;\n",
       "    end if;\n",
       "  end for;\n",
       "  render := \"{ \" + accumulator + \" }\";\n",
       "end MbsLite.StringA;\n",
       "\n",
       "class SingleBodyAtRest\n",
       "  Real b.OutPort.r[1](quantity = \"Length\", unit = \"m\") \"Radius vector of masscenter\";\n",
       "  Real b.OutPort.r[2](quantity = \"Length\", unit = \"m\") \"Radius vector of masscenter\";\n",
       "  Real b.OutPort.r[3](quantity = \"Length\", unit = \"m\") \"Radius vector of masscenter\";\n",
       "  Real b.OutPort.v[1](quantity = \"Velocity\", unit = \"m/s\") \"Velocity vector of masscenter\";\n",
       "  Real b.OutPort.v[2](quantity = \"Velocity\", unit = \"m/s\") \"Velocity vector of masscenter\";\n",
       "  Real b.OutPort.v[3](quantity = \"Velocity\", unit = \"m/s\") \"Velocity vector of masscenter\";\n",
       "  Real b.OutPort.a[1](quantity = \"Acceleration\", unit = \"m/s2\") \"Acceleration vector of masscenter\";\n",
       "  Real b.OutPort.a[2](quantity = \"Acceleration\", unit = \"m/s2\") \"Acceleration vector of masscenter\";\n",
       "  Real b.OutPort.a[3](quantity = \"Acceleration\", unit = \"m/s2\") \"Acceleration vector of masscenter\";\n",
       "  Real b.OutPort.T[1,1] \"Matrix of rotation\";\n",
       "  Real b.OutPort.T[1,2] \"Matrix of rotation\";\n",
       "  Real b.OutPort.T[1,3] \"Matrix of rotation\";\n",
       "  Real b.OutPort.T[2,1] \"Matrix of rotation\";\n",
       "  Real b.OutPort.T[2,2] \"Matrix of rotation\";\n",
       "  Real b.OutPort.T[2,3] \"Matrix of rotation\";\n",
       "  Real b.OutPort.T[3,1] \"Matrix of rotation\";\n",
       "  Real b.OutPort.T[3,2] \"Matrix of rotation\";\n",
       "  Real b.OutPort.T[3,3] \"Matrix of rotation\";\n",
       "  Real b.OutPort.omega[1](quantity = \"AngularVelocity\", unit = \"rad/s\") \"Vector of angular rate\";\n",
       "  Real b.OutPort.omega[2](quantity = \"AngularVelocity\", unit = \"rad/s\") \"Vector of angular rate\";\n",
       "  Real b.OutPort.omega[3](quantity = \"AngularVelocity\", unit = \"rad/s\") \"Vector of angular rate\";\n",
       "  Real b.OutPort.epsilon[1](quantity = \"AngularAcceleration\", unit = \"rad/s2\") \"Vector of angular acceleration\";\n",
       "  Real b.OutPort.epsilon[2](quantity = \"AngularAcceleration\", unit = \"rad/s2\") \"Vector of angular acceleration\";\n",
       "  Real b.OutPort.epsilon[3](quantity = \"AngularAcceleration\", unit = \"rad/s2\") \"Vector of angular acceleration\";\n",
       "  parameter Real b.m(quantity = \"Mass\", unit = \"kg\", min = 0.0) = 1.0 \"Mass of the body\";\n",
       "  parameter Real b.I[1,1](quantity = \"MomentOfInertia\", unit = \"kg.m2\") = 1.0 \"Body's central tensor of inertia\";\n",
       "  parameter Real b.I[1,2](quantity = \"MomentOfInertia\", unit = \"kg.m2\") = 0.0 \"Body's central tensor of inertia\";\n",
       "  parameter Real b.I[1,3](quantity = \"MomentOfInertia\", unit = \"kg.m2\") = 0.0 \"Body's central tensor of inertia\";\n",
       "  parameter Real b.I[2,1](quantity = \"MomentOfInertia\", unit = \"kg.m2\") = 0.0 \"Body's central tensor of inertia\";\n",
       "  parameter Real b.I[2,2](quantity = \"MomentOfInertia\", unit = \"kg.m2\") = 1.0 \"Body's central tensor of inertia\";\n",
       "  parameter Real b.I[2,3](quantity = \"MomentOfInertia\", unit = \"kg.m2\") = 0.0 \"Body's central tensor of inertia\";\n",
       "  parameter Real b.I[3,1](quantity = \"MomentOfInertia\", unit = \"kg.m2\") = 0.0 \"Body's central tensor of inertia\";\n",
       "  parameter Real b.I[3,2](quantity = \"MomentOfInertia\", unit = \"kg.m2\") = 0.0 \"Body's central tensor of inertia\";\n",
       "  parameter Real b.I[3,3](quantity = \"MomentOfInertia\", unit = \"kg.m2\") = 1.0 \"Body's central tensor of inertia\";\n",
       "  Real b.r[1](quantity = \"Length\", unit = \"m\", start = 0.0) \"Radius vector of masscenter in global coords\";\n",
       "  Real b.r[2](quantity = \"Length\", unit = \"m\", start = 0.0) \"Radius vector of masscenter in global coords\";\n",
       "  Real b.r[3](quantity = \"Length\", unit = \"m\", start = 0.0) \"Radius vector of masscenter in global coords\";\n",
       "  Real b.v[1](quantity = \"Velocity\", unit = \"m/s\", start = 0.0) \"Velocity vector of masscenter\";\n",
       "  Real b.v[2](quantity = \"Velocity\", unit = \"m/s\", start = 0.0) \"Velocity vector of masscenter\";\n",
       "  Real b.v[3](quantity = \"Velocity\", unit = \"m/s\", start = 0.0) \"Velocity vector of masscenter\";\n",
       "  Real b.a[1](quantity = \"Acceleration\", unit = \"m/s2\") \"Acceleration vector of masscenter\";\n",
       "  Real b.a[2](quantity = \"Acceleration\", unit = \"m/s2\") \"Acceleration vector of masscenter\";\n",
       "  Real b.a[3](quantity = \"Acceleration\", unit = \"m/s2\") \"Acceleration vector of masscenter\";\n",
       "  Real b.q[1](start = 1.0) \"Quaternion of body orientation\";\n",
       "  Real b.q[2](start = 0.0) \"Quaternion of body orientation\";\n",
       "  Real b.q[3](start = 0.0) \"Quaternion of body orientation\";\n",
       "  Real b.q[4](start = 0.0) \"Quaternion of body orientation\";\n",
       "  Real b.omega[1](quantity = \"AngularVelocity\", unit = \"rad/s\", start = 0.0) \"Vector of angular rate in local coords\";\n",
       "  Real b.omega[2](quantity = \"AngularVelocity\", unit = \"rad/s\", start = 0.0) \"Vector of angular rate in local coords\";\n",
       "  Real b.omega[3](quantity = \"AngularVelocity\", unit = \"rad/s\", start = 0.0) \"Vector of angular rate in local coords\";\n",
       "  Real b.epsilon[1](quantity = \"AngularAcceleration\", unit = \"rad/s2\") \"Vector of angular acceleration\";\n",
       "  Real b.epsilon[2](quantity = \"AngularAcceleration\", unit = \"rad/s2\") \"Vector of angular acceleration\";\n",
       "  Real b.epsilon[3](quantity = \"AngularAcceleration\", unit = \"rad/s2\") \"Vector of angular acceleration\";\n",
       "  Real b.F[1](quantity = \"Force\", unit = \"N\", start = 9.999999999999999e+59) \"Sum of all forces applied\";\n",
       "  Real b.F[2](quantity = \"Force\", unit = \"N\", start = 9.999999999999999e+59) \"Sum of all forces applied\";\n",
       "  Real b.F[3](quantity = \"Force\", unit = \"N\", start = 9.999999999999999e+59) \"Sum of all forces applied\";\n",
       "  Real b.M[1](quantity = \"Torque\", unit = \"N.m\", start = 9.999999999999999e+59) \"Sum of all torques applied\";\n",
       "  Real b.M[2](quantity = \"Torque\", unit = \"N.m\", start = 9.999999999999999e+59) \"Sum of all torques applied\";\n",
       "  Real b.M[3](quantity = \"Torque\", unit = \"N.m\", start = 9.999999999999999e+59) \"Sum of all torques applied\";\n",
       "  Real b.T[1,1] \"Matrix of rotation\";\n",
       "  Real b.T[1,2] \"Matrix of rotation\";\n",
       "  Real b.T[1,3] \"Matrix of rotation\";\n",
       "  Real b.T[2,1] \"Matrix of rotation\";\n",
       "  Real b.T[2,2] \"Matrix of rotation\";\n",
       "  Real b.T[2,3] \"Matrix of rotation\";\n",
       "  Real b.T[3,1] \"Matrix of rotation\";\n",
       "  Real b.T[3,2] \"Matrix of rotation\";\n",
       "  Real b.T[3,3] \"Matrix of rotation\";\n",
       "  Real b.Active(start = 1.0) \"Flag of active dynamics\";\n",
       "  protected Real b.a1;\n",
       "  protected Real b.a2;\n",
       "  protected Real b.A1[1];\n",
       "  protected Real b.A1[2];\n",
       "  protected Real b.A1[3];\n",
       "  protected Real b.A2[1];\n",
       "  protected Real b.A2[2];\n",
       "  protected Real b.A2[3];\n",
       "  protected Real b.A3[1];\n",
       "  protected Real b.A3[2];\n",
       "  protected Real b.A3[3];\n",
       "  protected Real b.q3[1];\n",
       "  protected Real b.q3[2];\n",
       "  protected Real b.q3[3];\n",
       "  protected Real b.q3[4];\n",
       "  parameter Integer b.N = 0;\n",
       "  parameter Real b.Gravity[1](quantity = \"Acceleration\", unit = \"m/s2\");\n",
       "  parameter Real b.Gravity[2](quantity = \"Acceleration\", unit = \"m/s2\");\n",
       "  parameter Real b.Gravity[3](quantity = \"Acceleration\", unit = \"m/s2\");\n",
       "initial algorithm\n",
       "  assert(MbsLite.CompareReal(b.q[1] ^ 2.0 + b.q[2] ^ 2.0 + b.q[3] ^ 2.0 + b.q[4] ^ 2.0, 1.0, 1e-10, 1e-05), \"Quaternion of body orientation should have norm 1, was: \" + String(b.q[1] ^ 2.0 + b.q[2] ^ 2.0 + b.q[3] ^ 2.0 + b.q[4] ^ 2.0, 0, true, 6) + \", q = \" + MbsLite.StringA({b.q[1], b.q[2], b.q[3], b.q[4]}, \", \") + \". Are the initial conditions specified?\");\n",
       "  MbsLite.AssertInitialized({b.r[1], b.r[2], b.r[3]}, \"r\");\n",
       "  MbsLite.AssertInitialized({b.v[1], b.v[2], b.v[3]}, \"v\");\n",
       "  MbsLite.AssertInitialized({b.q[1], b.q[2], b.q[3], b.q[4]}, \"q\");\n",
       "  MbsLite.AssertInitialized({b.omega[1], b.omega[2], b.omega[3]}, \"omega\");\n",
       "  MbsLite.AssertInitialized({b.F[1], b.F[2], b.F[3]}, \"F\");\n",
       "  MbsLite.AssertInitialized({b.M[1], b.M[2], b.M[3]}, \"M\");\n",
       "equation\n",
       "  b.F[1] = b.Gravity[1] * b.m;\n",
       "  b.F[2] = b.Gravity[2] * b.m;\n",
       "  b.F[3] = b.Gravity[3] * b.m;\n",
       "  b.M[1] = 0.0;\n",
       "  b.M[2] = 0.0;\n",
       "  b.M[3] = 0.0;\n",
       "  b.a1 = b.q[1];\n",
       "  b.a2 = 0.0;\n",
       "  b.A1[1] = b.q[2];\n",
       "  b.A1[2] = b.q[3];\n",
       "  b.A1[3] = b.q[4];\n",
       "  b.A2[1] = b.omega[1];\n",
       "  b.A2[2] = b.omega[2];\n",
       "  b.A2[3] = b.omega[3];\n",
       "  b.A3[1] = b.A2[1] * b.a1 + b.A1[1] * b.a2 + b.A1[2] * b.A2[3] - b.A1[3] * b.A2[2];\n",
       "  b.A3[2] = b.A2[2] * b.a1 + b.A1[2] * b.a2 + b.A1[3] * b.A2[1] - b.A1[1] * b.A2[3];\n",
       "  b.A3[3] = b.A2[3] * b.a1 + b.A1[3] * b.a2 + b.A1[1] * b.A2[2] - b.A1[2] * b.A2[1];\n",
       "  b.q3[1] = b.a1 * b.a2 + (-b.A1[2]) * b.A2[2] - b.A1[3] * b.A2[3] - b.A1[1] * b.A2[1];\n",
       "  b.q3[2] = b.A3[1];\n",
       "  b.q3[3] = b.A3[2];\n",
       "  b.q3[4] = b.A3[3];\n",
       "  der(b.Active) = 0.0;\n",
       "  der(b.r[1]) = b.v[1] * b.Active;\n",
       "  der(b.r[2]) = b.v[2] * b.Active;\n",
       "  der(b.r[3]) = b.v[3] * b.Active;\n",
       "  der(b.v[1]) = b.a[1] * b.Active;\n",
       "  der(b.v[2]) = b.a[2] * b.Active;\n",
       "  der(b.v[3]) = b.a[3] * b.Active;\n",
       "  b.a[1] * b.m = b.F[1];\n",
       "  b.a[2] * b.m = b.F[2];\n",
       "  b.a[3] * b.m = b.F[3];\n",
       "  der(b.q[1]) = b.q3[1] * 0.5 * b.Active;\n",
       "  der(b.q[2]) = b.q3[2] * 0.5 * b.Active;\n",
       "  der(b.q[3]) = b.q3[3] * 0.5 * b.Active;\n",
       "  der(b.q[4]) = b.q3[4] * 0.5 * b.Active;\n",
       "  der(b.omega[1]) = b.epsilon[1] * b.Active;\n",
       "  der(b.omega[2]) = b.epsilon[2] * b.Active;\n",
       "  der(b.omega[3]) = b.epsilon[3] * b.Active;\n",
       "  b.T[1,1] = (b.q[1] ^ 2.0 + b.q[2] ^ 2.0 + (-b.q[3] ^ 2.0) - b.q[4] ^ 2.0) / (b.q[1] ^ 2.0 + b.q[2] ^ 2.0 + b.q[3] ^ 2.0 + b.q[4] ^ 2.0);\n",
       "  b.T[1,2] = 2.0 * (b.q[2] * b.q[3] - b.q[1] * b.q[4]) / (b.q[1] ^ 2.0 + b.q[2] ^ 2.0 + b.q[3] ^ 2.0 + b.q[4] ^ 2.0);\n",
       "  b.T[1,3] = 2.0 * (b.q[2] * b.q[4] + b.q[1] * b.q[3]) / (b.q[1] ^ 2.0 + b.q[2] ^ 2.0 + b.q[3] ^ 2.0 + b.q[4] ^ 2.0);\n",
       "  b.T[2,1] = 2.0 * (b.q[1] * b.q[4] + b.q[2] * b.q[3]) / (b.q[1] ^ 2.0 + b.q[2] ^ 2.0 + b.q[3] ^ 2.0 + b.q[4] ^ 2.0);\n",
       "  b.T[2,2] = (b.q[1] ^ 2.0 + b.q[3] ^ 2.0 + (-b.q[2] ^ 2.0) - b.q[4] ^ 2.0) / (b.q[1] ^ 2.0 + b.q[2] ^ 2.0 + b.q[3] ^ 2.0 + b.q[4] ^ 2.0);\n",
       "  b.T[2,3] = 2.0 * (b.q[3] * b.q[4] - b.q[1] * b.q[2]) / (b.q[1] ^ 2.0 + b.q[2] ^ 2.0 + b.q[3] ^ 2.0 + b.q[4] ^ 2.0);\n",
       "  b.T[3,1] = 2.0 * (b.q[2] * b.q[4] - b.q[1] * b.q[3]) / (b.q[1] ^ 2.0 + b.q[2] ^ 2.0 + b.q[3] ^ 2.0 + b.q[4] ^ 2.0);\n",
       "  b.T[3,2] = 2.0 * (b.q[1] * b.q[2] + b.q[3] * b.q[4]) / (b.q[1] ^ 2.0 + b.q[2] ^ 2.0 + b.q[3] ^ 2.0 + b.q[4] ^ 2.0);\n",
       "  b.T[3,3] = (b.q[1] ^ 2.0 + b.q[4] ^ 2.0 - b.q[3] ^ 2.0 - b.q[2] ^ 2.0) / (b.q[1] ^ 2.0 + b.q[2] ^ 2.0 + b.q[3] ^ 2.0 + b.q[4] ^ 2.0);\n",
       "  b.I[1,1] * b.epsilon[1] + b.I[1,2] * b.epsilon[2] + b.I[1,3] * b.epsilon[3] + b.omega[2] * (b.I[3,1] * b.omega[1] + b.I[3,2] * b.omega[2] + b.I[3,3] * b.omega[3]) - b.omega[3] * (b.I[2,1] * b.omega[1] + b.I[2,2] * b.omega[2] + b.I[2,3] * b.omega[3]) = b.T[1,1] * b.M[1] + b.T[2,1] * b.M[2] + b.T[3,1] * b.M[3];\n",
       "  b.I[2,1] * b.epsilon[1] + b.I[2,2] * b.epsilon[2] + b.I[2,3] * b.epsilon[3] + b.omega[3] * (b.I[1,1] * b.omega[1] + b.I[1,2] * b.omega[2] + b.I[1,3] * b.omega[3]) - b.omega[1] * (b.I[3,1] * b.omega[1] + b.I[3,2] * b.omega[2] + b.I[3,3] * b.omega[3]) = b.T[1,2] * b.M[1] + b.T[2,2] * b.M[2] + b.T[3,2] * b.M[3];\n",
       "  b.I[3,1] * b.epsilon[1] + b.I[3,2] * b.epsilon[2] + b.I[3,3] * b.epsilon[3] + b.omega[1] * (b.I[2,1] * b.omega[1] + b.I[2,2] * b.omega[2] + b.I[2,3] * b.omega[3]) - b.omega[2] * (b.I[1,1] * b.omega[1] + b.I[1,2] * b.omega[2] + b.I[1,3] * b.omega[3]) = b.T[1,3] * b.M[1] + b.T[2,3] * b.M[2] + b.T[3,3] * b.M[3];\n",
       "  b.OutPort.r[1] = b.r[1];\n",
       "  b.OutPort.r[2] = b.r[2];\n",
       "  b.OutPort.r[3] = b.r[3];\n",
       "  b.OutPort.v[1] = b.v[1];\n",
       "  b.OutPort.v[2] = b.v[2];\n",
       "  b.OutPort.v[3] = b.v[3];\n",
       "  b.OutPort.a[1] = b.a[1];\n",
       "  b.OutPort.a[2] = b.a[2];\n",
       "  b.OutPort.a[3] = b.a[3];\n",
       "  b.OutPort.T[1,1] = b.T[1,1];\n",
       "  b.OutPort.T[1,2] = b.T[1,2];\n",
       "  b.OutPort.T[1,3] = b.T[1,3];\n",
       "  b.OutPort.T[2,1] = b.T[2,1];\n",
       "  b.OutPort.T[2,2] = b.T[2,2];\n",
       "  b.OutPort.T[2,3] = b.T[2,3];\n",
       "  b.OutPort.T[3,1] = b.T[3,1];\n",
       "  b.OutPort.T[3,2] = b.T[3,2];\n",
       "  b.OutPort.T[3,3] = b.T[3,3];\n",
       "  b.OutPort.omega[1] = b.T[1,1] * b.omega[1] + b.T[1,2] * b.omega[2] + b.T[1,3] * b.omega[3];\n",
       "  b.OutPort.omega[2] = b.T[2,1] * b.omega[1] + b.T[2,2] * b.omega[2] + b.T[2,3] * b.omega[3];\n",
       "  b.OutPort.omega[3] = b.T[3,1] * b.omega[1] + b.T[3,2] * b.omega[2] + b.T[3,3] * b.omega[3];\n",
       "  b.OutPort.epsilon[1] = b.T[1,1] * b.epsilon[1] + b.T[1,2] * b.epsilon[2] + b.T[1,3] * b.epsilon[3];\n",
       "  b.OutPort.epsilon[2] = b.T[2,1] * b.epsilon[1] + b.T[2,2] * b.epsilon[2] + b.T[2,3] * b.epsilon[3];\n",
       "  b.OutPort.epsilon[3] = b.T[3,1] * b.epsilon[1] + b.T[3,2] * b.epsilon[2] + b.T[3,3] * b.epsilon[3];\n",
       "end SingleBodyAtRest;\n"
      ]
     },
     "metadata": {},
     "output_type": "display_data"
    }
   ],
   "source": [
    "instantiateModel(SingleBodyAtRest)"
   ]
  },
  {
   "cell_type": "code",
   "execution_count": 143,
   "metadata": {},
   "outputs": [
    {
     "data": {
      "text/plain": [
       "Check of SingleBodyAtRest completed successfully.\n",
       "Class SingleBodyAtRest has 74 equation(s) and 74 variable(s).\n",
       "36 of these are trivial equation(s)."
      ]
     },
     "metadata": {},
     "output_type": "display_data"
    }
   ],
   "source": [
    "checkModel(SingleBodyAtRest)"
   ]
  },
  {
   "cell_type": "code",
   "execution_count": 144,
   "metadata": {
    "scrolled": true
   },
   "outputs": [
    {
     "data": {
      "text/plain": [
       "\"\"\n"
      ]
     },
     "metadata": {},
     "output_type": "display_data"
    }
   ],
   "source": [
    "getErrorString()"
   ]
  },
  {
   "cell_type": "code",
   "execution_count": 145,
   "metadata": {},
   "outputs": [
    {
     "data": {
      "text/plain": [
       "{'resultFile': '/home/vf/om/models/omni/tmp/SingleBodyAtRest_res.csv', 'timeCompile': 8.70265727, 'timeFrontend': 1.161867872, 'timeTotal': 10.272458855, 'simulationOptions': \"startTime = 0.0, stopTime = 0.1, numberOfIntervals = 1000, tolerance = 1e-06, method = 'dassl', fileNamePrefix = 'SingleBodyAtRest', options = '', outputFormat = 'csv', variableFilter = '.*', cflags = '', simflags = ''\", 'timeSimCode': 0.04831963700000001, 'timeTemplates': 0.075262959, 'timeSimulation': 0.111097564, 'messages': 'stdout            | info    | The initialization finished successfully without homotopy method.\\nstdout            | info    | The simulation finished successfully.\\n', 'timeBackend': 0.150724332}"
      ]
     },
     "metadata": {},
     "output_type": "display_data"
    }
   ],
   "source": [
    "simulate(\n",
    "    SingleBodyAtRest,\n",
    "    stopTime = 0.1,\n",
    "    numberOfIntervals = 1000,\n",
    "    outputFormat = \"csv\"\n",
    ")"
   ]
  },
  {
   "cell_type": "code",
   "execution_count": 146,
   "metadata": {
    "scrolled": true
   },
   "outputs": [
    {
     "data": {
      "text/plain": [
       "\"\"\n"
      ]
     },
     "metadata": {},
     "output_type": "display_data"
    }
   ],
   "source": [
    "getErrorString()"
   ]
  },
  {
   "cell_type": "code",
   "execution_count": 147,
   "metadata": {},
   "outputs": [
    {
     "data": {
      "text/plain": [
       "\n"
      ]
     },
     "metadata": {},
     "output_type": "display_data"
    }
   ],
   "source": [
    "getMessagesString()"
   ]
  },
  {
   "cell_type": "code",
   "execution_count": 122,
   "metadata": {},
   "outputs": [
    {
     "data": {
      "text/plain": [
       "False"
      ]
     },
     "metadata": {},
     "output_type": "display_data"
    }
   ],
   "source": [
    "max(fill(Modelica.Constants.inf, 3, 3)) < Modelica.Constants.inf"
   ]
  },
  {
   "cell_type": "code",
   "execution_count": 127,
   "metadata": {},
   "outputs": [
    {
     "data": {
      "text/plain": [
       "\n"
      ]
     },
     "metadata": {},
     "output_type": "display_data"
    }
   ],
   "source": [
    "sum({}) - 1"
   ]
  },
  {
   "cell_type": "code",
   "execution_count": null,
   "metadata": {},
   "outputs": [],
   "source": []
  },
  {
   "cell_type": "code",
   "execution_count": null,
   "metadata": {},
   "outputs": [],
   "source": []
  },
  {
   "cell_type": "code",
   "execution_count": null,
   "metadata": {},
   "outputs": [],
   "source": []
  }
 ],
 "metadata": {
  "kernelspec": {
   "display_name": "OpenModelica",
   "language": "OpenModelica",
   "name": "openmodelica"
  },
  "language_info": {
   "mimetype": "text/x-modelica",
   "name": "modelica",
   "version": "1.0"
  }
 },
 "nbformat": 4,
 "nbformat_minor": 2
}
