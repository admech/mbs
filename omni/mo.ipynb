{
 "cells": [
  {
   "cell_type": "markdown",
   "metadata": {},
   "source": [
    "### Initialize"
   ]
  },
  {
   "cell_type": "code",
   "execution_count": 1,
   "metadata": {},
   "outputs": [
    {
     "data": {
      "text/plain": [
       "/home/vf/om/models/omni"
      ]
     },
     "metadata": {},
     "output_type": "display_data"
    }
   ],
   "source": [
    "cd()"
   ]
  },
  {
   "cell_type": "code",
   "execution_count": 2,
   "metadata": {},
   "outputs": [
    {
     "data": {
      "text/plain": [
       "/home/vf/om/models/omni/tmp"
      ]
     },
     "metadata": {},
     "output_type": "display_data"
    }
   ],
   "source": [
    "cd(\"tmp\")"
   ]
  },
  {
   "cell_type": "code",
   "execution_count": 3,
   "metadata": {},
   "outputs": [
    {
     "data": {
      "text/plain": [
       "/usr/lib/omlibrary:/home/vf/.openmodelica/libraries/"
      ]
     },
     "metadata": {},
     "output_type": "display_data"
    }
   ],
   "source": [
    "getModelicaPath()"
   ]
  },
  {
   "cell_type": "code",
   "execution_count": 4,
   "metadata": {},
   "outputs": [
    {
     "data": {
      "text/plain": [
       "True"
      ]
     },
     "metadata": {},
     "output_type": "display_data"
    }
   ],
   "source": [
    "setModelicaPath(\"/usr/lib/omlibrary:/home/vf/.openmodelica/libraries:/home/vf/om/models/omni/thin/lib/\")"
   ]
  },
  {
   "cell_type": "code",
   "execution_count": 5,
   "metadata": {},
   "outputs": [
    {
     "data": {
      "text/plain": [
       "/usr/lib/omlibrary:/home/vf/.openmodelica/libraries:/home/vf/om/models/omni/thin/lib/"
      ]
     },
     "metadata": {},
     "output_type": "display_data"
    }
   ],
   "source": [
    "getModelicaPath()"
   ]
  },
  {
   "cell_type": "code",
   "execution_count": 6,
   "metadata": {},
   "outputs": [
    {
     "data": {
      "text/plain": [
       "True"
      ]
     },
     "metadata": {},
     "output_type": "display_data"
    }
   ],
   "source": [
    "loadModel(Modelica)"
   ]
  },
  {
   "cell_type": "markdown",
   "metadata": {},
   "source": [
    "# MbsLite Tests"
   ]
  },
  {
   "cell_type": "markdown",
   "metadata": {},
   "source": [
    "### Body at rest"
   ]
  },
  {
   "cell_type": "code",
   "execution_count": null,
   "metadata": {
    "scrolled": true
   },
   "outputs": [],
   "source": [
    "loadModel(MbsLite);\n",
    "loadModel(MbsLite.Test.SingleBody.SingleBodyAtRestTest);\n",
    "instantiateModel(MbsLite.Test.SingleBody.SingleBodyAtRestTest);\n",
    "checkModel(MbsLite.Test.SingleBody.SingleBodyAtRestTest);\n",
    "simulate\n",
    "    ( MbsLite.Test.SingleBody.SingleBodyAtRestTest\n",
    "    , outputFormat = \"csv\"\n",
    "    , stopTime = 10\n",
    "    )"
   ]
  },
  {
   "cell_type": "code",
   "execution_count": null,
   "metadata": {},
   "outputs": [],
   "source": [
    "res := strtok(readFile(\"MbsLite.Test.SingleBody.SingleBodyAtRestTest_res.csv\"), \"\\n\");\n",
    "// res[1]"
   ]
  },
  {
   "cell_type": "code",
   "execution_count": null,
   "metadata": {
    "scrolled": true
   },
   "outputs": [],
   "source": [
    "getErrorString()"
   ]
  },
  {
   "cell_type": "markdown",
   "metadata": {},
   "source": [
    "### Body falling"
   ]
  },
  {
   "cell_type": "code",
   "execution_count": null,
   "metadata": {
    "scrolled": true
   },
   "outputs": [],
   "source": [
    "loadModel(MbsLite);\n",
    "loadModel(MbsLite.Test.SingleBody.SingleBodyFallingTest);\n",
    "instantiateModel(MbsLite.Test.SingleBody.SingleBodyFallingTest);\n",
    "checkModel(MbsLite.Test.SingleBody.SingleBodyFallingTest);\n",
    "simulate\n",
    "    ( MbsLite.Test.SingleBody.SingleBodyFallingTest\n",
    "    , outputFormat = \"csv\"\n",
    "    , stopTime = 10\n",
    "    )"
   ]
  },
  {
   "cell_type": "code",
   "execution_count": null,
   "metadata": {},
   "outputs": [],
   "source": [
    "res := strtok(readFile(\"MbsLite.Test.SingleBody.SingleBodyFallingTest_res.csv\"), \"\\n\");\n",
    "// res[1]"
   ]
  },
  {
   "cell_type": "code",
   "execution_count": null,
   "metadata": {
    "scrolled": true
   },
   "outputs": [],
   "source": [
    "getErrorString()"
   ]
  },
  {
   "cell_type": "markdown",
   "metadata": {},
   "source": [
    "### Pendulum"
   ]
  },
  {
   "cell_type": "code",
   "execution_count": null,
   "metadata": {
    "scrolled": true
   },
   "outputs": [],
   "source": [
    "loadModel(MbsLite);\n",
    "loadModel(MbsLite.Test.PendulumTest);\n",
    "instantiateModel(MbsLite.Test.PendulumTest);\n",
    "checkModel(MbsLite.Test.PendulumTest);\n",
    "simulate\n",
    "    ( MbsLite.Test.PendulumTest\n",
    "    , outputFormat = \"csv\"\n",
    "    , stopTime = 10\n",
    "    )"
   ]
  },
  {
   "cell_type": "code",
   "execution_count": null,
   "metadata": {},
   "outputs": [],
   "source": [
    "res := strtok(readFile(\"MbsLite.Test.PendulumTest_res.csv\"), \"\\n\");"
   ]
  },
  {
   "cell_type": "code",
   "execution_count": null,
   "metadata": {},
   "outputs": [],
   "source": [
    "// res[1]"
   ]
  },
  {
   "cell_type": "code",
   "execution_count": null,
   "metadata": {
    "scrolled": true
   },
   "outputs": [],
   "source": [
    "getErrorString()"
   ]
  },
  {
   "cell_type": "markdown",
   "metadata": {},
   "source": [
    "### Double Pendulum"
   ]
  },
  {
   "cell_type": "code",
   "execution_count": null,
   "metadata": {
    "scrolled": true
   },
   "outputs": [],
   "source": [
    "loadModel(MbsLite);\n",
    "loadModel(MbsLite.Test.DoublePendulumTest);\n",
    "instantiateModel(MbsLite.Test.DoublePendulumTest);\n",
    "checkModel(MbsLite.Test.DoublePendulumTest);\n",
    "simulate\n",
    "    ( MbsLite.Test.DoublePendulumTest\n",
    "    , outputFormat = \"csv\"\n",
    "    )"
   ]
  },
  {
   "cell_type": "code",
   "execution_count": null,
   "metadata": {},
   "outputs": [],
   "source": [
    "res := strtok(readFile(\"MbsLite.Test.DoublePendulumTest_res.csv\"), \"\\n\");"
   ]
  },
  {
   "cell_type": "code",
   "execution_count": null,
   "metadata": {},
   "outputs": [],
   "source": [
    "// res[1]"
   ]
  },
  {
   "cell_type": "code",
   "execution_count": null,
   "metadata": {
    "scrolled": false
   },
   "outputs": [],
   "source": [
    "getErrorString()"
   ]
  },
  {
   "cell_type": "markdown",
   "metadata": {},
   "source": [
    "### Joint"
   ]
  },
  {
   "cell_type": "code",
   "execution_count": null,
   "metadata": {
    "scrolled": true
   },
   "outputs": [],
   "source": [
    "loadModel(MbsLite);\n",
    "loadModel(MbsLite.Test.Constraints.JointTest);\n",
    "instantiateModel(MbsLite.Test.Constraints.JointTest);\n",
    "checkModel(MbsLite.Test.Constraints.JointTest);\n",
    "simulate\n",
    "    ( MbsLite.Test.Constraints.JointTest\n",
    "    , outputFormat = \"csv\"\n",
    "    , stopTime = 0.1\n",
    "    )"
   ]
  },
  {
   "cell_type": "code",
   "execution_count": null,
   "metadata": {},
   "outputs": [],
   "source": [
    "res := strtok(readFile(\"MbsLite.Test.Constraints.JointTest_res.csv\"), \"\\n\");"
   ]
  },
  {
   "cell_type": "code",
   "execution_count": null,
   "metadata": {},
   "outputs": [],
   "source": [
    "// res[1]"
   ]
  },
  {
   "cell_type": "code",
   "execution_count": null,
   "metadata": {
    "scrolled": true
   },
   "outputs": [],
   "source": [
    "getErrorString()"
   ]
  },
  {
   "cell_type": "markdown",
   "metadata": {},
   "source": [
    "### Body rolling"
   ]
  },
  {
   "cell_type": "code",
   "execution_count": null,
   "metadata": {
    "scrolled": true
   },
   "outputs": [],
   "source": [
    "loadModel(MbsLite);\n",
    "loadModel(MbsLite.Test.SingleBody.SingleBodyRollingTest);\n",
    "instantiateModel(MbsLite.Test.SingleBody.SingleBodyRollingTest);\n",
    "checkModel(MbsLite.Test.SingleBody.SingleBodyRollingTest);\n",
    "simulate\n",
    "    ( MbsLite.Test.SingleBody.SingleBodyRollingTest\n",
    "    , outputFormat = \"csv\"\n",
    "    , stopTime = 1\n",
    "    )"
   ]
  },
  {
   "cell_type": "code",
   "execution_count": null,
   "metadata": {},
   "outputs": [],
   "source": [
    "res := strtok(readFile(\"MbsLite.Test.SingleBody.SingleBodyRollingTest_res.csv\"), \"\\n\");\n",
    "// res[1]"
   ]
  },
  {
   "cell_type": "code",
   "execution_count": null,
   "metadata": {},
   "outputs": [],
   "source": [
    "strtok(readFile(\"MbsLite.Test.SingleBody.SingleBodyRollingTest.log\"), \"\\n\")"
   ]
  },
  {
   "cell_type": "code",
   "execution_count": null,
   "metadata": {
    "scrolled": true
   },
   "outputs": [],
   "source": [
    "getErrorString()"
   ]
  },
  {
   "cell_type": "markdown",
   "metadata": {},
   "source": [
    "### Omni-wheel without contacts and gravity"
   ]
  },
  {
   "cell_type": "code",
   "execution_count": null,
   "metadata": {
    "scrolled": true
   },
   "outputs": [],
   "source": [
    "loadModel(MbsLite);\n",
    "loadModel(MbsLite.Test.Omni.OmniWheelAtRestTest);\n",
    "instantiateModel(MbsLite.Test.Omni.OmniWheelAtRestTest);\n",
    "checkModel(MbsLite.Test.Omni.OmniWheelAtRestTest);\n",
    "simulate\n",
    "    ( MbsLite.Test.Omni.OmniWheelAtRestTest\n",
    "    , outputFormat = \"csv\"\n",
    "    , stopTime = 20\n",
    "    )"
   ]
  },
  {
   "cell_type": "code",
   "execution_count": null,
   "metadata": {},
   "outputs": [],
   "source": [
    "res := strtok(readFile(\"MbsLite.Test.Omni.OmniWheelAtRestTest_res.csv\"), \"\\n\");\n",
    "// res[1]"
   ]
  },
  {
   "cell_type": "code",
   "execution_count": null,
   "metadata": {
    "scrolled": true
   },
   "outputs": [],
   "source": [
    "strtok(readFile(\"MbsLite.Test.Omni.OmniWheelAtRestTest.log\"), \"\\n\")"
   ]
  },
  {
   "cell_type": "code",
   "execution_count": null,
   "metadata": {
    "scrolled": true
   },
   "outputs": [],
   "source": [
    "getErrorString()"
   ]
  },
  {
   "cell_type": "code",
   "execution_count": null,
   "metadata": {
    "scrolled": true
   },
   "outputs": [],
   "source": [
    "getMessagesString()"
   ]
  },
  {
   "cell_type": "markdown",
   "metadata": {},
   "source": [
    "### Omni-wheel on plane free"
   ]
  },
  {
   "cell_type": "code",
   "execution_count": null,
   "metadata": {
    "scrolled": true
   },
   "outputs": [],
   "source": [
    "loadModel(MbsLite);\n",
    "loadModel(MbsLite.Test.Omni.OmniWheelOnPlaneFreeTest);\n",
    "instantiateModel(MbsLite.Test.Omni.OmniWheelOnPlaneFreeTest);\n",
    "checkModel(MbsLite.Test.Omni.OmniWheelOnPlaneFreeTest);\n",
    "simulate\n",
    "    ( MbsLite.Test.Omni.OmniWheelOnPlaneFreeTest\n",
    "    , outputFormat = \"csv\"\n",
    "    , stopTime = 1\n",
    "    )"
   ]
  },
  {
   "cell_type": "code",
   "execution_count": null,
   "metadata": {},
   "outputs": [],
   "source": [
    "res := strtok(readFile(\"MbsLite.Test.Omni.OmniWheelOnPlaneFreeTest_res.csv\"), \"\\n\");\n",
    "// res[1]"
   ]
  },
  {
   "cell_type": "code",
   "execution_count": null,
   "metadata": {
    "scrolled": true
   },
   "outputs": [],
   "source": [
    "strtok(readFile(\"MbsLite.Test.Omni.OmniWheelOnPlaneFreeTest.log\"), \"\\n\")"
   ]
  },
  {
   "cell_type": "code",
   "execution_count": null,
   "metadata": {
    "scrolled": true
   },
   "outputs": [],
   "source": [
    "getErrorString()"
   ]
  },
  {
   "cell_type": "code",
   "execution_count": null,
   "metadata": {
    "scrolled": true
   },
   "outputs": [],
   "source": [
    "getMessagesString()"
   ]
  },
  {
   "cell_type": "markdown",
   "metadata": {},
   "source": [
    "### Vertical wheel"
   ]
  },
  {
   "cell_type": "code",
   "execution_count": null,
   "metadata": {
    "scrolled": true
   },
   "outputs": [],
   "source": [
    "loadModel(MbsLite);\n",
    "loadModel(MbsLite.Test.Omni.OmniWheelVerticalTest);\n",
    "instantiateModel(MbsLite.Test.Omni.OmniWheelVerticalTest);\n",
    "checkModel(MbsLite.Test.Omni.OmniWheelVerticalTest);\n",
    "simulate\n",
    "    ( MbsLite.Test.Omni.OmniWheelVerticalTest\n",
    "    , outputFormat = \"csv\"\n",
    "    , stopTime = 1\n",
    "    )"
   ]
  },
  {
   "cell_type": "code",
   "execution_count": null,
   "metadata": {},
   "outputs": [],
   "source": [
    "res := strtok(readFile(\"MbsLite.Test.Omni.OmniWheelVerticalTest_res.csv\"), \"\\n\");\n",
    "// res[1]"
   ]
  },
  {
   "cell_type": "code",
   "execution_count": null,
   "metadata": {},
   "outputs": [],
   "source": [
    "strtok(readFile(\"MbsLite.Test.Omni.OmniWheelVerticalTest.log\"), \"\\n\")"
   ]
  },
  {
   "cell_type": "code",
   "execution_count": null,
   "metadata": {
    "scrolled": true
   },
   "outputs": [],
   "source": [
    "getErrorString()"
   ]
  },
  {
   "cell_type": "code",
   "execution_count": null,
   "metadata": {
    "scrolled": true
   },
   "outputs": [],
   "source": [
    "getMessagesString()"
   ]
  },
  {
   "cell_type": "markdown",
   "metadata": {},
   "source": [
    "### Current"
   ]
  },
  {
   "cell_type": "code",
   "execution_count": null,
   "metadata": {},
   "outputs": [],
   "source": [
    "loadModel(MbsLite)"
   ]
  },
  {
   "cell_type": "code",
   "execution_count": null,
   "metadata": {},
   "outputs": [],
   "source": [
    "loadModel(MbsLite.Test.Omni.OmniWheelAtRestTest)"
   ]
  },
  {
   "cell_type": "code",
   "execution_count": null,
   "metadata": {},
   "outputs": [],
   "source": [
    "instantiateModel(MbsLite.Test.Omni.OmniWheelAtRestTest)"
   ]
  },
  {
   "cell_type": "code",
   "execution_count": null,
   "metadata": {},
   "outputs": [],
   "source": [
    "checkModel(MbsLite.Test.Omni.OmniWheelAtRestTest)"
   ]
  },
  {
   "cell_type": "code",
   "execution_count": null,
   "metadata": {},
   "outputs": [],
   "source": [
    "simulate\n",
    "    ( MbsLite.Test.Omni.OmniWheelAtRestTest\n",
    "    , outputFormat = \"csv\"\n",
    "    )"
   ]
  },
  {
   "cell_type": "code",
   "execution_count": null,
   "metadata": {
    "scrolled": true
   },
   "outputs": [],
   "source": [
    "getErrorString()"
   ]
  },
  {
   "cell_type": "code",
   "execution_count": null,
   "metadata": {},
   "outputs": [],
   "source": [
    "strtok(readFile(\"MbsLite.Test.Omni.OmniWheelAtRestTest.log\"), \"\\n\")"
   ]
  },
  {
   "cell_type": "code",
   "execution_count": null,
   "metadata": {},
   "outputs": [],
   "source": [
    "res := strtok(readFile(\"MbsLite.Test.Omni.OmniWheelAtRestTest_res.csv\"), \"\\n\");"
   ]
  },
  {
   "cell_type": "code",
   "execution_count": null,
   "metadata": {},
   "outputs": [],
   "source": [
    "res[1]"
   ]
  },
  {
   "cell_type": "code",
   "execution_count": null,
   "metadata": {
    "scrolled": true
   },
   "outputs": [],
   "source": [
    "getErrorString()"
   ]
  },
  {
   "cell_type": "code",
   "execution_count": null,
   "metadata": {},
   "outputs": [],
   "source": [
    "getMessagesString()"
   ]
  },
  {
   "cell_type": "code",
   "execution_count": null,
   "metadata": {},
   "outputs": [],
   "source": []
  },
  {
   "cell_type": "markdown",
   "metadata": {},
   "source": [
    "# Misc"
   ]
  },
  {
   "cell_type": "code",
   "execution_count": null,
   "metadata": {},
   "outputs": [],
   "source": [
    "I := identity(3)"
   ]
  },
  {
   "cell_type": "code",
   "execution_count": null,
   "metadata": {},
   "outputs": [],
   "source": [
    "I[3, :]"
   ]
  },
  {
   "cell_type": "code",
   "execution_count": null,
   "metadata": {},
   "outputs": [],
   "source": [
    "diagonal({ 1, 2, 3 })"
   ]
  },
  {
   "cell_type": "code",
   "execution_count": null,
   "metadata": {
    "scrolled": true
   },
   "outputs": [],
   "source": [
    "String({1, 2, 3})"
   ]
  },
  {
   "cell_type": "code",
   "execution_count": null,
   "metadata": {},
   "outputs": [],
   "source": [
    "MbsLite.Quaternions.QRot(2 * Modelica.Constants.pi / 5, { 0, 0, 1 })"
   ]
  },
  {
   "cell_type": "code",
   "execution_count": null,
   "metadata": {},
   "outputs": [],
   "source": [
    "{ cos(2 * Modelica.Constants.pi / 5 / 2), 0, 0, sin(2 * Modelica.Constants.pi / 5 / 2) }"
   ]
  },
  {
   "cell_type": "code",
   "execution_count": null,
   "metadata": {},
   "outputs": [],
   "source": [
    "nBs :=\n",
    "  { MbsLite.Util.Quaternions.QToT\n",
    "    ( MbsLite.Util.Quaternions.QRot\n",
    "      ( 2*Modelica.Constants.pi/5 * (i - 1)\n",
    "      , { 0, 0, 1 }\n",
    "      )\n",
    "    )\n",
    "    * { 1, 0, 0 } for i in 1 : 5\n",
    "  }"
   ]
  },
  {
   "cell_type": "code",
   "execution_count": null,
   "metadata": {},
   "outputs": [],
   "source": [
    "Ts :=\n",
    "  { MbsLite.Util.Quaternions.QToT\n",
    "    ( MbsLite.Util.Quaternions.QRot\n",
    "      ( 2*Modelica.Constants.pi/5 * (i - 1)\n",
    "      , { 0, 0, 1 }\n",
    "      )\n",
    "    ) for i in 1 : 5\n",
    "  }"
   ]
  },
  {
   "cell_type": "code",
   "execution_count": null,
   "metadata": {},
   "outputs": [],
   "source": [
    "// nBis :=\n",
    "  { Ts[i] * { 1, 0, 0 }\n",
    "    for i in 1 : 5\n",
    "  }"
   ]
  },
  {
   "cell_type": "code",
   "execution_count": null,
   "metadata": {},
   "outputs": [],
   "source": [
    "{ Ts[1] * { 1, 0, 0 }\n",
    ", Ts[2] * { 1, 0, 0 }\n",
    ", Ts[3] * { 1, 0, 0 }\n",
    ", Ts[4] * { 1, 0, 0 }\n",
    ", Ts[5] * { 1, 0, 0 }\n",
    "}"
   ]
  },
  {
   "cell_type": "code",
   "execution_count": null,
   "metadata": {},
   "outputs": [],
   "source": []
  },
  {
   "cell_type": "markdown",
   "metadata": {},
   "source": [
    "# Uber Debug"
   ]
  },
  {
   "cell_type": "code",
   "execution_count": null,
   "metadata": {},
   "outputs": [],
   "source": [
    "loadModel(MbsLite)"
   ]
  },
  {
   "cell_type": "code",
   "execution_count": null,
   "metadata": {},
   "outputs": [],
   "source": [
    "loadModel(MbsLite.Test.Omni.OmniWheelAtRestTest)"
   ]
  },
  {
   "cell_type": "code",
   "execution_count": null,
   "metadata": {},
   "outputs": [],
   "source": [
    "checkModel(MbsLite.Test.Omni.OmniWheelAtRestTest)"
   ]
  },
  {
   "cell_type": "code",
   "execution_count": null,
   "metadata": {
    "scrolled": true
   },
   "outputs": [],
   "source": [
    "instantiateModel(MbsLite.Test.Omni.OmniWheelAtRestTest)"
   ]
  },
  {
   "cell_type": "code",
   "execution_count": null,
   "metadata": {},
   "outputs": [],
   "source": [
    "getErrorString()"
   ]
  },
  {
   "cell_type": "code",
   "execution_count": null,
   "metadata": {},
   "outputs": [],
   "source": [
    "res := simulate\n",
    "    ( MbsLite.Test.Constraints.ContactTest\n",
    "    , outputFormat = \"csv\"\n",
    "    );"
   ]
  },
  {
   "cell_type": "code",
   "execution_count": null,
   "metadata": {},
   "outputs": [],
   "source": [
    "res.messages"
   ]
  },
  {
   "cell_type": "code",
   "execution_count": null,
   "metadata": {},
   "outputs": [],
   "source": [
    "getErrorString()"
   ]
  },
  {
   "cell_type": "code",
   "execution_count": null,
   "metadata": {},
   "outputs": [],
   "source": [
    "getMessagesString()"
   ]
  },
  {
   "cell_type": "code",
   "execution_count": null,
   "metadata": {},
   "outputs": [],
   "source": [
    "res"
   ]
  },
  {
   "cell_type": "code",
   "execution_count": null,
   "metadata": {},
   "outputs": [],
   "source": []
  },
  {
   "cell_type": "code",
   "execution_count": 118,
   "metadata": {},
   "outputs": [
    {
     "data": {
      "text/plain": [
       "\n"
      ]
     },
     "metadata": {},
     "output_type": "display_data"
    }
   ],
   "source": [
    "argmax({ 1, 2, -1 })"
   ]
  },
  {
   "cell_type": "code",
   "execution_count": 120,
   "metadata": {},
   "outputs": [
    {
     "data": {
      "text/plain": [
       "[<interactive>:1:1-1:0:writable] Error: Class argmax not found in scope <global scope> (looking for a function or record).\n",
       "[<interactive>:1:1-1:0:writable] Error: Variable getErrorString not found in scope <global scope>.\n"
      ]
     },
     "metadata": {},
     "output_type": "display_data"
    }
   ],
   "source": [
    "getErrorString()"
   ]
  },
  {
   "cell_type": "code",
   "execution_count": null,
   "metadata": {},
   "outputs": [],
   "source": []
  },
  {
   "cell_type": "code",
   "execution_count": null,
   "metadata": {},
   "outputs": [],
   "source": []
  },
  {
   "cell_type": "code",
   "execution_count": 166,
   "metadata": {},
   "outputs": [
    {
     "data": {
      "text/plain": [
       "('Params',)"
      ]
     },
     "metadata": {},
     "output_type": "display_data"
    }
   ],
   "source": [
    "record Params\n",
    "  Integer n;\n",
    "  Real a;\n",
    "  Real b;\n",
    "end Params;"
   ]
  },
  {
   "cell_type": "code",
   "execution_count": 190,
   "metadata": {},
   "outputs": [
    {
     "data": {
      "text/plain": [
       "('Sub',)"
      ]
     },
     "metadata": {},
     "output_type": "display_data"
    }
   ],
   "source": [
    "model Sub\n",
    "  parameter Params params;\n",
    "end Sub;"
   ]
  },
  {
   "cell_type": "code",
   "execution_count": 196,
   "metadata": {},
   "outputs": [
    {
     "data": {
      "text/plain": [
       "('Bigger',)"
      ]
     },
     "metadata": {},
     "output_type": "display_data"
    }
   ],
   "source": [
    "model Bigger\n",
    "  parameter Params params;\n",
    "  parameter Integer n = params.n;\n",
    "  Sub[n] subs(each final params = params);\n",
    "end Bigger;"
   ]
  },
  {
   "cell_type": "code",
   "execution_count": 197,
   "metadata": {},
   "outputs": [
    {
     "data": {
      "text/plain": [
       "('Whole',)"
      ]
     },
     "metadata": {},
     "output_type": "display_data"
    }
   ],
   "source": [
    "model Whole\n",
    "  parameter Params params;\n",
    "  parameter Integer n = params.n;\n",
    "  Bigger[n] biggers(each final n = n);\n",
    "initial equation\n",
    "  for i in 1 : params.n loop\n",
    "    biggers[i].params = params;\n",
    "  end for;\n",
    "end Whole;"
   ]
  },
  {
   "cell_type": "code",
   "execution_count": 198,
   "metadata": {},
   "outputs": [
    {
     "data": {
      "text/plain": [
       "('Test',)"
      ]
     },
     "metadata": {},
     "output_type": "display_data"
    }
   ],
   "source": [
    "model Test\n",
    "  constant Params params = Params(3, 2, 1);\n",
    "  Whole whole(final params = params, final n = params.n);\n",
    "end Test;"
   ]
  },
  {
   "cell_type": "code",
   "execution_count": 199,
   "metadata": {},
   "outputs": [
    {
     "data": {
      "text/plain": [
       "function Params \"Automatically generated record constructor for Params\"\n",
       "  input Integer n;\n",
       "  input Real a;\n",
       "  input Real b;\n",
       "  output Params res;\n",
       "end Params;\n",
       "\n",
       "class Test\n",
       "  constant Integer params.n = 3;\n",
       "  constant Real params.a = 2.0;\n",
       "  constant Real params.b = 1.0;\n",
       "  parameter Integer whole.params.n = 3;\n",
       "  parameter Real whole.params.a = 2.0;\n",
       "  parameter Real whole.params.b = 1.0;\n",
       "  parameter Integer whole.n = 3;\n",
       "  parameter Integer whole.biggers[1].params.n;\n",
       "  parameter Real whole.biggers[1].params.a;\n",
       "  parameter Real whole.biggers[1].params.b;\n",
       "  parameter Integer whole.biggers[1].n = whole.n;\n",
       "  parameter Integer whole.biggers[1].subs[1].params.n = whole.biggers[1].params.n;\n",
       "  parameter Real whole.biggers[1].subs[1].params.a = whole.biggers[1].params.a;\n",
       "  parameter Real whole.biggers[1].subs[1].params.b = whole.biggers[1].params.b;\n",
       "  parameter Integer whole.biggers[1].subs[2].params.n = whole.biggers[1].params.n;\n",
       "  parameter Real whole.biggers[1].subs[2].params.a = whole.biggers[1].params.a;\n",
       "  parameter Real whole.biggers[1].subs[2].params.b = whole.biggers[1].params.b;\n",
       "  parameter Integer whole.biggers[1].subs[3].params.n = whole.biggers[1].params.n;\n",
       "  parameter Real whole.biggers[1].subs[3].params.a = whole.biggers[1].params.a;\n",
       "  parameter Real whole.biggers[1].subs[3].params.b = whole.biggers[1].params.b;\n",
       "  parameter Integer whole.biggers[2].params.n;\n",
       "  parameter Real whole.biggers[2].params.a;\n",
       "  parameter Real whole.biggers[2].params.b;\n",
       "  parameter Integer whole.biggers[2].n = whole.n;\n",
       "  parameter Integer whole.biggers[2].subs[1].params.n = whole.biggers[2].params.n;\n",
       "  parameter Real whole.biggers[2].subs[1].params.a = whole.biggers[2].params.a;\n",
       "  parameter Real whole.biggers[2].subs[1].params.b = whole.biggers[2].params.b;\n",
       "  parameter Integer whole.biggers[2].subs[2].params.n = whole.biggers[2].params.n;\n",
       "  parameter Real whole.biggers[2].subs[2].params.a = whole.biggers[2].params.a;\n",
       "  parameter Real whole.biggers[2].subs[2].params.b = whole.biggers[2].params.b;\n",
       "  parameter Integer whole.biggers[2].subs[3].params.n = whole.biggers[2].params.n;\n",
       "  parameter Real whole.biggers[2].subs[3].params.a = whole.biggers[2].params.a;\n",
       "  parameter Real whole.biggers[2].subs[3].params.b = whole.biggers[2].params.b;\n",
       "  parameter Integer whole.biggers[3].params.n;\n",
       "  parameter Real whole.biggers[3].params.a;\n",
       "  parameter Real whole.biggers[3].params.b;\n",
       "  parameter Integer whole.biggers[3].n = whole.n;\n",
       "  parameter Integer whole.biggers[3].subs[1].params.n = whole.biggers[3].params.n;\n",
       "  parameter Real whole.biggers[3].subs[1].params.a = whole.biggers[3].params.a;\n",
       "  parameter Real whole.biggers[3].subs[1].params.b = whole.biggers[3].params.b;\n",
       "  parameter Integer whole.biggers[3].subs[2].params.n = whole.biggers[3].params.n;\n",
       "  parameter Real whole.biggers[3].subs[2].params.a = whole.biggers[3].params.a;\n",
       "  parameter Real whole.biggers[3].subs[2].params.b = whole.biggers[3].params.b;\n",
       "  parameter Integer whole.biggers[3].subs[3].params.n = whole.biggers[3].params.n;\n",
       "  parameter Real whole.biggers[3].subs[3].params.a = whole.biggers[3].params.a;\n",
       "  parameter Real whole.biggers[3].subs[3].params.b = whole.biggers[3].params.b;\n",
       "initial equation\n",
       "  whole.biggers[1].params.n = whole.params.n;\n",
       "  whole.biggers[1].params.a = whole.params.a;\n",
       "  whole.biggers[1].params.b = whole.params.b;\n",
       "  whole.biggers[2].params.n = whole.params.n;\n",
       "  whole.biggers[2].params.a = whole.params.a;\n",
       "  whole.biggers[2].params.b = whole.params.b;\n",
       "  whole.biggers[3].params.n = whole.params.n;\n",
       "  whole.biggers[3].params.a = whole.params.a;\n",
       "  whole.biggers[3].params.b = whole.params.b;\n",
       "end Test;\n"
      ]
     },
     "metadata": {},
     "output_type": "display_data"
    }
   ],
   "source": [
    "instantiateModel(Test)"
   ]
  },
  {
   "cell_type": "code",
   "execution_count": 195,
   "metadata": {},
   "outputs": [
    {
     "data": {
      "text/plain": [
       "[<interactive>:4:3-4:49:writable] Error: Could not evaluate structural parameter (or constant): params.n which gives dimensions of array: subs[params.n]. Array dimensions must be known at compile time.\n",
       "Error: Error occurred while flattening model Test\n"
      ]
     },
     "metadata": {},
     "output_type": "display_data"
    }
   ],
   "source": [
    "getErrorString()"
   ]
  },
  {
   "cell_type": "code",
   "execution_count": null,
   "metadata": {},
   "outputs": [],
   "source": []
  }
 ],
 "metadata": {
  "kernelspec": {
   "display_name": "OpenModelica",
   "language": "OpenModelica",
   "name": "openmodelica"
  },
  "language_info": {
   "mimetype": "text/x-modelica",
   "name": "modelica",
   "version": "1.0"
  }
 },
 "nbformat": 4,
 "nbformat_minor": 2
}
