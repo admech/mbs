{
 "cells": [
  {
   "cell_type": "markdown",
   "metadata": {},
   "source": [
    "### Initialize"
   ]
  },
  {
   "cell_type": "code",
   "execution_count": 1,
   "metadata": {},
   "outputs": [
    {
     "data": {
      "text/plain": [
       "/home/vf/om/models/omni"
      ]
     },
     "metadata": {},
     "output_type": "display_data"
    }
   ],
   "source": [
    "cd()"
   ]
  },
  {
   "cell_type": "code",
   "execution_count": 2,
   "metadata": {},
   "outputs": [
    {
     "data": {
      "text/plain": [
       "/home/vf/om/models/omni/tmp"
      ]
     },
     "metadata": {},
     "output_type": "display_data"
    }
   ],
   "source": [
    "cd(\"tmp\")"
   ]
  },
  {
   "cell_type": "code",
   "execution_count": 3,
   "metadata": {},
   "outputs": [
    {
     "data": {
      "text/plain": [
       "/usr/lib/omlibrary:/home/vf/.openmodelica/libraries/"
      ]
     },
     "metadata": {},
     "output_type": "display_data"
    }
   ],
   "source": [
    "getModelicaPath()"
   ]
  },
  {
   "cell_type": "code",
   "execution_count": 4,
   "metadata": {},
   "outputs": [
    {
     "data": {
      "text/plain": [
       "True"
      ]
     },
     "metadata": {},
     "output_type": "display_data"
    }
   ],
   "source": [
    "setModelicaPath(\"/usr/lib/omlibrary:/home/vf/.openmodelica/libraries:/home/vf/om/models/omni/thin/lib/\")"
   ]
  },
  {
   "cell_type": "code",
   "execution_count": 5,
   "metadata": {},
   "outputs": [
    {
     "data": {
      "text/plain": [
       "/usr/lib/omlibrary:/home/vf/.openmodelica/libraries:/home/vf/om/models/omni/thin/lib/"
      ]
     },
     "metadata": {},
     "output_type": "display_data"
    }
   ],
   "source": [
    "getModelicaPath()"
   ]
  },
  {
   "cell_type": "code",
   "execution_count": 6,
   "metadata": {},
   "outputs": [
    {
     "data": {
      "text/plain": [
       "True"
      ]
     },
     "metadata": {},
     "output_type": "display_data"
    }
   ],
   "source": [
    "loadModel(Modelica)"
   ]
  },
  {
   "cell_type": "markdown",
   "metadata": {},
   "source": [
    "# MbsLite Tests"
   ]
  },
  {
   "cell_type": "markdown",
   "metadata": {},
   "source": [
    "### Body at rest"
   ]
  },
  {
   "cell_type": "code",
   "execution_count": null,
   "metadata": {
    "scrolled": true
   },
   "outputs": [],
   "source": [
    "loadModel(MbsLite);\n",
    "loadModel(MbsLite.Test.SingleBody.SingleBodyAtRestTest);\n",
    "instantiateModel(MbsLite.Test.SingleBody.SingleBodyAtRestTest);\n",
    "checkModel(MbsLite.Test.SingleBody.SingleBodyAtRestTest);\n",
    "simulate\n",
    "    ( MbsLite.Test.SingleBody.SingleBodyAtRestTest\n",
    "    , outputFormat = \"csv\"\n",
    "    , stopTime = 10\n",
    "    )"
   ]
  },
  {
   "cell_type": "code",
   "execution_count": null,
   "metadata": {},
   "outputs": [],
   "source": [
    "res := strtok(readFile(\"MbsLite.Test.SingleBody.SingleBodyAtRestTest_res.csv\"), \"\\n\");\n",
    "// res[1]"
   ]
  },
  {
   "cell_type": "code",
   "execution_count": null,
   "metadata": {
    "scrolled": true
   },
   "outputs": [],
   "source": [
    "getErrorString()"
   ]
  },
  {
   "cell_type": "markdown",
   "metadata": {},
   "source": [
    "### Body falling"
   ]
  },
  {
   "cell_type": "code",
   "execution_count": null,
   "metadata": {
    "scrolled": true
   },
   "outputs": [],
   "source": [
    "loadModel(MbsLite);\n",
    "loadModel(MbsLite.Test.SingleBody.SingleBodyFallingTest);\n",
    "instantiateModel(MbsLite.Test.SingleBody.SingleBodyFallingTest);\n",
    "checkModel(MbsLite.Test.SingleBody.SingleBodyFallingTest);\n",
    "simulate\n",
    "    ( MbsLite.Test.SingleBody.SingleBodyFallingTest\n",
    "    , outputFormat = \"csv\"\n",
    "    , stopTime = 10\n",
    "    )"
   ]
  },
  {
   "cell_type": "code",
   "execution_count": null,
   "metadata": {},
   "outputs": [],
   "source": [
    "res := strtok(readFile(\"MbsLite.Test.SingleBody.SingleBodyFallingTest_res.csv\"), \"\\n\");\n",
    "// res[1]"
   ]
  },
  {
   "cell_type": "code",
   "execution_count": null,
   "metadata": {
    "scrolled": true
   },
   "outputs": [],
   "source": [
    "getErrorString()"
   ]
  },
  {
   "cell_type": "markdown",
   "metadata": {},
   "source": [
    "### Pendulum"
   ]
  },
  {
   "cell_type": "code",
   "execution_count": null,
   "metadata": {
    "scrolled": true
   },
   "outputs": [],
   "source": [
    "loadModel(MbsLite);\n",
    "loadModel(MbsLite.Test.PendulumTest);\n",
    "instantiateModel(MbsLite.Test.PendulumTest);\n",
    "checkModel(MbsLite.Test.PendulumTest);\n",
    "simulate\n",
    "    ( MbsLite.Test.PendulumTest\n",
    "    , outputFormat = \"csv\"\n",
    "    , stopTime = 10\n",
    "    )"
   ]
  },
  {
   "cell_type": "code",
   "execution_count": null,
   "metadata": {},
   "outputs": [],
   "source": [
    "res := strtok(readFile(\"MbsLite.Test.PendulumTest_res.csv\"), \"\\n\");"
   ]
  },
  {
   "cell_type": "code",
   "execution_count": null,
   "metadata": {},
   "outputs": [],
   "source": [
    "// res[1]"
   ]
  },
  {
   "cell_type": "code",
   "execution_count": null,
   "metadata": {
    "scrolled": true
   },
   "outputs": [],
   "source": [
    "getErrorString()"
   ]
  },
  {
   "cell_type": "markdown",
   "metadata": {},
   "source": [
    "### Double Pendulum"
   ]
  },
  {
   "cell_type": "code",
   "execution_count": null,
   "metadata": {
    "scrolled": true
   },
   "outputs": [],
   "source": [
    "loadModel(MbsLite);\n",
    "loadModel(MbsLite.Test.DoublePendulumTest);\n",
    "instantiateModel(MbsLite.Test.DoublePendulumTest);\n",
    "checkModel(MbsLite.Test.DoublePendulumTest);\n",
    "simulate\n",
    "    ( MbsLite.Test.DoublePendulumTest\n",
    "    , outputFormat = \"csv\"\n",
    "    )"
   ]
  },
  {
   "cell_type": "code",
   "execution_count": null,
   "metadata": {},
   "outputs": [],
   "source": [
    "res := strtok(readFile(\"MbsLite.Test.DoublePendulumTest_res.csv\"), \"\\n\");"
   ]
  },
  {
   "cell_type": "code",
   "execution_count": null,
   "metadata": {},
   "outputs": [],
   "source": [
    "// res[1]"
   ]
  },
  {
   "cell_type": "code",
   "execution_count": null,
   "metadata": {
    "scrolled": false
   },
   "outputs": [],
   "source": [
    "getErrorString()"
   ]
  },
  {
   "cell_type": "markdown",
   "metadata": {},
   "source": [
    "### Joint"
   ]
  },
  {
   "cell_type": "code",
   "execution_count": null,
   "metadata": {
    "scrolled": true
   },
   "outputs": [],
   "source": [
    "loadModel(MbsLite);\n",
    "loadModel(MbsLite.Test.Constraints.JointTest);\n",
    "instantiateModel(MbsLite.Test.Constraints.JointTest);\n",
    "checkModel(MbsLite.Test.Constraints.JointTest);\n",
    "simulate\n",
    "    ( MbsLite.Test.Constraints.JointTest\n",
    "    , outputFormat = \"csv\"\n",
    "    , stopTime = 0.1\n",
    "    )"
   ]
  },
  {
   "cell_type": "code",
   "execution_count": null,
   "metadata": {},
   "outputs": [],
   "source": [
    "res := strtok(readFile(\"MbsLite.Test.Constraints.JointTest_res.csv\"), \"\\n\");"
   ]
  },
  {
   "cell_type": "code",
   "execution_count": null,
   "metadata": {},
   "outputs": [],
   "source": [
    "// res[1]"
   ]
  },
  {
   "cell_type": "code",
   "execution_count": null,
   "metadata": {
    "scrolled": true
   },
   "outputs": [],
   "source": [
    "getErrorString()"
   ]
  },
  {
   "cell_type": "markdown",
   "metadata": {},
   "source": [
    "### Body rolling"
   ]
  },
  {
   "cell_type": "code",
   "execution_count": null,
   "metadata": {
    "scrolled": true
   },
   "outputs": [],
   "source": [
    "loadModel(MbsLite);\n",
    "loadModel(MbsLite.Test.SingleBody.SingleBodyRollingTest);\n",
    "instantiateModel(MbsLite.Test.SingleBody.SingleBodyRollingTest);\n",
    "checkModel(MbsLite.Test.SingleBody.SingleBodyRollingTest);\n",
    "simulate\n",
    "    ( MbsLite.Test.SingleBody.SingleBodyRollingTest\n",
    "    , outputFormat = \"csv\"\n",
    "    , stopTime = 1\n",
    "    )"
   ]
  },
  {
   "cell_type": "code",
   "execution_count": null,
   "metadata": {},
   "outputs": [],
   "source": [
    "res := strtok(readFile(\"MbsLite.Test.SingleBody.SingleBodyRollingTest_res.csv\"), \"\\n\");\n",
    "// res[1]"
   ]
  },
  {
   "cell_type": "code",
   "execution_count": null,
   "metadata": {},
   "outputs": [],
   "source": [
    "strtok(readFile(\"MbsLite.Test.SingleBody.SingleBodyRollingTest.log\"), \"\\n\")"
   ]
  },
  {
   "cell_type": "code",
   "execution_count": null,
   "metadata": {
    "scrolled": true
   },
   "outputs": [],
   "source": [
    "getErrorString()"
   ]
  },
  {
   "cell_type": "markdown",
   "metadata": {},
   "source": [
    "### Omni-wheel without contacts and gravity"
   ]
  },
  {
   "cell_type": "code",
   "execution_count": null,
   "metadata": {
    "scrolled": true
   },
   "outputs": [],
   "source": [
    "loadModel(MbsLite);\n",
    "loadModel(MbsLite.Test.Omni.OmniWheelAtRestTest);\n",
    "instantiateModel(MbsLite.Test.Omni.OmniWheelAtRestTest);\n",
    "checkModel(MbsLite.Test.Omni.OmniWheelAtRestTest);\n",
    "simulate\n",
    "    ( MbsLite.Test.Omni.OmniWheelAtRestTest\n",
    "    , outputFormat = \"csv\"\n",
    "    , stopTime = 20\n",
    "    )"
   ]
  },
  {
   "cell_type": "code",
   "execution_count": null,
   "metadata": {},
   "outputs": [],
   "source": [
    "res := strtok(readFile(\"MbsLite.Test.Omni.OmniWheelAtRestTest_res.csv\"), \"\\n\");\n",
    "// res[1]"
   ]
  },
  {
   "cell_type": "code",
   "execution_count": null,
   "metadata": {
    "scrolled": true
   },
   "outputs": [],
   "source": [
    "strtok(readFile(\"MbsLite.Test.Omni.OmniWheelAtRestTest.log\"), \"\\n\")"
   ]
  },
  {
   "cell_type": "code",
   "execution_count": null,
   "metadata": {
    "scrolled": true
   },
   "outputs": [],
   "source": [
    "getErrorString()"
   ]
  },
  {
   "cell_type": "code",
   "execution_count": null,
   "metadata": {
    "scrolled": true
   },
   "outputs": [],
   "source": [
    "getMessagesString()"
   ]
  },
  {
   "cell_type": "markdown",
   "metadata": {},
   "source": [
    "### Omni-wheel on plane free"
   ]
  },
  {
   "cell_type": "code",
   "execution_count": null,
   "metadata": {
    "scrolled": true
   },
   "outputs": [],
   "source": [
    "loadModel(MbsLite);\n",
    "loadModel(MbsLite.Test.Omni.OmniWheelOnPlaneFreeTest);\n",
    "instantiateModel(MbsLite.Test.Omni.OmniWheelOnPlaneFreeTest);\n",
    "checkModel(MbsLite.Test.Omni.OmniWheelOnPlaneFreeTest);\n",
    "simulate\n",
    "    ( MbsLite.Test.Omni.OmniWheelOnPlaneFreeTest\n",
    "    , outputFormat = \"csv\"\n",
    "    , stopTime = 1\n",
    "    )"
   ]
  },
  {
   "cell_type": "code",
   "execution_count": null,
   "metadata": {},
   "outputs": [],
   "source": [
    "res := strtok(readFile(\"MbsLite.Test.Omni.OmniWheelOnPlaneFreeTest_res.csv\"), \"\\n\");\n",
    "// res[1]"
   ]
  },
  {
   "cell_type": "code",
   "execution_count": null,
   "metadata": {
    "scrolled": true
   },
   "outputs": [],
   "source": [
    "strtok(readFile(\"MbsLite.Test.Omni.OmniWheelOnPlaneFreeTest.log\"), \"\\n\")"
   ]
  },
  {
   "cell_type": "code",
   "execution_count": null,
   "metadata": {
    "scrolled": true
   },
   "outputs": [],
   "source": [
    "getErrorString()"
   ]
  },
  {
   "cell_type": "code",
   "execution_count": null,
   "metadata": {
    "scrolled": true
   },
   "outputs": [],
   "source": [
    "getMessagesString()"
   ]
  },
  {
   "cell_type": "markdown",
   "metadata": {},
   "source": [
    "### Vertical wheel"
   ]
  },
  {
   "cell_type": "code",
   "execution_count": null,
   "metadata": {
    "scrolled": true
   },
   "outputs": [],
   "source": [
    "loadModel(MbsLite);\n",
    "loadModel(MbsLite.Test.Omni.OmniWheelVerticalTest);\n",
    "instantiateModel(MbsLite.Test.Omni.OmniWheelVerticalTest);\n",
    "checkModel(MbsLite.Test.Omni.OmniWheelVerticalTest);\n",
    "simulate\n",
    "    ( MbsLite.Test.Omni.OmniWheelVerticalTest\n",
    "    , outputFormat = \"csv\"\n",
    "    , stopTime = 1\n",
    "    )"
   ]
  },
  {
   "cell_type": "code",
   "execution_count": null,
   "metadata": {},
   "outputs": [],
   "source": [
    "res := strtok(readFile(\"MbsLite.Test.Omni.OmniWheelVerticalTest_res.csv\"), \"\\n\");\n",
    "// res[1]"
   ]
  },
  {
   "cell_type": "code",
   "execution_count": null,
   "metadata": {},
   "outputs": [],
   "source": [
    "strtok(readFile(\"MbsLite.Test.Omni.OmniWheelVerticalTest.log\"), \"\\n\")"
   ]
  },
  {
   "cell_type": "code",
   "execution_count": null,
   "metadata": {
    "scrolled": true
   },
   "outputs": [],
   "source": [
    "getErrorString()"
   ]
  },
  {
   "cell_type": "code",
   "execution_count": null,
   "metadata": {
    "scrolled": true
   },
   "outputs": [],
   "source": [
    "getMessagesString()"
   ]
  },
  {
   "cell_type": "markdown",
   "metadata": {},
   "source": [
    "# Uber Debug"
   ]
  },
  {
   "cell_type": "code",
   "execution_count": null,
   "metadata": {},
   "outputs": [],
   "source": [
    "loadModel(MbsLite)"
   ]
  },
  {
   "cell_type": "code",
   "execution_count": null,
   "metadata": {},
   "outputs": [],
   "source": [
    "loadModel(MbsLite.Test.Omni.OmniWheelAtRestTest)"
   ]
  },
  {
   "cell_type": "code",
   "execution_count": null,
   "metadata": {},
   "outputs": [],
   "source": [
    "checkModel(MbsLite.Test.Omni.OmniWheelAtRestTest)"
   ]
  },
  {
   "cell_type": "code",
   "execution_count": null,
   "metadata": {
    "scrolled": true
   },
   "outputs": [],
   "source": [
    "instantiateModel(MbsLite.Test.Omni.OmniWheelAtRestTest)"
   ]
  },
  {
   "cell_type": "code",
   "execution_count": null,
   "metadata": {},
   "outputs": [],
   "source": [
    "getErrorString()"
   ]
  },
  {
   "cell_type": "code",
   "execution_count": null,
   "metadata": {},
   "outputs": [],
   "source": [
    "res := simulate\n",
    "    ( MbsLite.Test.Constraints.ContactTest\n",
    "    , outputFormat = \"csv\"\n",
    "    );"
   ]
  },
  {
   "cell_type": "code",
   "execution_count": null,
   "metadata": {},
   "outputs": [],
   "source": [
    "res.messages"
   ]
  },
  {
   "cell_type": "code",
   "execution_count": null,
   "metadata": {},
   "outputs": [],
   "source": [
    "getErrorString()"
   ]
  },
  {
   "cell_type": "code",
   "execution_count": null,
   "metadata": {},
   "outputs": [],
   "source": [
    "getMessagesString()"
   ]
  },
  {
   "cell_type": "code",
   "execution_count": null,
   "metadata": {},
   "outputs": [],
   "source": [
    "res"
   ]
  },
  {
   "cell_type": "code",
   "execution_count": null,
   "metadata": {},
   "outputs": [],
   "source": []
  },
  {
   "cell_type": "code",
   "execution_count": null,
   "metadata": {},
   "outputs": [],
   "source": []
  },
  {
   "cell_type": "code",
   "execution_count": null,
   "metadata": {},
   "outputs": [],
   "source": []
  },
  {
   "cell_type": "code",
   "execution_count": null,
   "metadata": {},
   "outputs": [],
   "source": [
    "record Params\n",
    "    parameter Integer n;\n",
    "    parameter Real[n] items;\n",
    "end Params;"
   ]
  },
  {
   "cell_type": "code",
   "execution_count": null,
   "metadata": {
    "scrolled": true
   },
   "outputs": [],
   "source": [
    "record OmniVehicleParams\n",
    "    parameter Params params;\n",
    "    parameter Real[params.n] arr;\n",
    "end OmniVehicleParams;"
   ]
  },
  {
   "cell_type": "code",
   "execution_count": null,
   "metadata": {},
   "outputs": [],
   "source": [
    "function CalculateOmniVehicleParams\n",
    "    input Params params;\n",
    "    output OmniVehicleParams r;\n",
    "algorithm\n",
    "    r := OmniVehicleParams(params = params, arr = {i^2 for i in 1 : params.n});\n",
    "end CalculateOmniVehicleParams;"
   ]
  },
  {
   "cell_type": "code",
   "execution_count": null,
   "metadata": {},
   "outputs": [],
   "source": [
    "model Insane\n",
    "    parameter OmniVehicleParams ovp;\n",
    "    parameter Integer n = ovp.params.n;\n",
    "end Insane;"
   ]
  },
  {
   "cell_type": "code",
   "execution_count": null,
   "metadata": {},
   "outputs": [],
   "source": [
    "model Crazy\n",
    "    constant Integer n = 3;\n",
    "    constant Params params = Params(n = n, items = { (n - i)*1.0 for i in 1 : n });\n",
    "    constant OmniVehicleParams ovp = CalculateOmniVehicleParams(params = params);\n",
    "    Insane insane(ovp = ovp);\n",
    "end Crazy;"
   ]
  },
  {
   "cell_type": "code",
   "execution_count": null,
   "metadata": {},
   "outputs": [],
   "source": [
    "instantiateModel(Crazy)"
   ]
  },
  {
   "cell_type": "code",
   "execution_count": null,
   "metadata": {},
   "outputs": [],
   "source": [
    "Params(n = 3, items = { (3 - i)*1.0 for i in 1 : 3 })"
   ]
  },
  {
   "cell_type": "code",
   "execution_count": null,
   "metadata": {},
   "outputs": [],
   "source": [
    "CalculateOmniVehicleParams\n",
    "  ( params = Params(n = 3, items = { (3 - i)*1.0 for i in 1 : 3 })\n",
    "  )"
   ]
  },
  {
   "cell_type": "code",
   "execution_count": null,
   "metadata": {},
   "outputs": [],
   "source": [
    "model ReallyInsane = Insane(ovp = CalculateOmniVehicleParams\n",
    "  ( params = Params(n = 3, items = { (3 - i)*1.0 for i in 1 : 3 })\n",
    "  ));"
   ]
  },
  {
   "cell_type": "code",
   "execution_count": null,
   "metadata": {},
   "outputs": [],
   "source": [
    "instantiateModel(ReallyInsane)"
   ]
  },
  {
   "cell_type": "code",
   "execution_count": null,
   "metadata": {},
   "outputs": [],
   "source": [
    "getErrorString()"
   ]
  },
  {
   "cell_type": "code",
   "execution_count": null,
   "metadata": {},
   "outputs": [],
   "source": []
  },
  {
   "cell_type": "code",
   "execution_count": null,
   "metadata": {},
   "outputs": [],
   "source": []
  },
  {
   "cell_type": "code",
   "execution_count": null,
   "metadata": {},
   "outputs": [],
   "source": []
  },
  {
   "cell_type": "code",
   "execution_count": 35,
   "metadata": {},
   "outputs": [
    {
     "data": {
      "text/plain": [
       "False"
      ]
     },
     "metadata": {},
     "output_type": "display_data"
    }
   ],
   "source": [
    "loadModel(MbsLite)"
   ]
  },
  {
   "cell_type": "code",
   "execution_count": 12,
   "metadata": {},
   "outputs": [
    {
     "data": {
      "text/plain": [
       "True"
      ]
     },
     "metadata": {},
     "output_type": "display_data"
    }
   ],
   "source": [
    "loadModel(MbsLite.Test.Omni.OmniVehicleTest)"
   ]
  },
  {
   "cell_type": "code",
   "execution_count": 13,
   "metadata": {},
   "outputs": [
    {
     "data": {
      "text/plain": []
     },
     "metadata": {},
     "output_type": "display_data"
    }
   ],
   "source": [
    "instantiateModel(MbsLite.Test.Omni.OmniVehicleTest)"
   ]
  },
  {
   "cell_type": "code",
   "execution_count": 16,
   "metadata": {},
   "outputs": [
    {
     "data": {
      "text/plain": []
     },
     "metadata": {},
     "output_type": "display_data"
    }
   ],
   "source": [
    "getErrorString()"
   ]
  },
  {
   "cell_type": "code",
   "execution_count": 36,
   "metadata": {},
   "outputs": [
    {
     "data": {
      "text/plain": [
       "('Test',)"
      ]
     },
     "metadata": {},
     "output_type": "display_data"
    }
   ],
   "source": [
    "model Test\n",
    "    constant MbsLite.Examples.OmniVehicle.Params              params   = MbsLite.Test.Omni.TestParams.pmm;\n",
    "    constant MbsLite.Examples.OmniVehicle.Initials            initials = MbsLite.Test.Omni.TestInitials.atRest;\n",
    "    constant MbsLite.Examples.OmniVehicle.Initials   ovp      = MbsLite.Examples.OmniVehicle.CalculateOmniVehicleParams\n",
    "      ( params   = params\n",
    "      , initials = initials\n",
    "      , gravity  = { 0, -1, 0}\n",
    "      , platformQuaternion = { 1, 0, 0, 0 }\n",
    "      );\n",
    "end Test;"
   ]
  },
  {
   "cell_type": "code",
   "execution_count": 40,
   "metadata": {},
   "outputs": [
    {
     "data": {
      "text/plain": [
       "False"
      ]
     },
     "metadata": {},
     "output_type": "display_data"
    }
   ],
   "source": [
    "loadModel(MbsLite)"
   ]
  },
  {
   "cell_type": "code",
   "execution_count": 38,
   "metadata": {},
   "outputs": [
    {
     "data": {
      "text/plain": [
       "('Test',)"
      ]
     },
     "metadata": {},
     "output_type": "display_data"
    }
   ],
   "source": [
    "model Test\n",
    "    constant MbsLite.Examples.OmniVehicle.Initials   ovp      = MbsLite.Test.Omni.TestParams.pmmAtRest;\n",
    "    constant MbsLite.Examples.OmniVehicle.Params              params   = MbsLite.Test.Omni.TestParams.pmm;\n",
    "end Test;"
   ]
  },
  {
   "cell_type": "code",
   "execution_count": 39,
   "metadata": {
    "scrolled": false
   },
   "outputs": [
    {
     "data": {
      "text/plain": []
     },
     "metadata": {},
     "output_type": "display_data"
    }
   ],
   "source": [
    "instantiateModel(Test)"
   ]
  },
  {
   "cell_type": "code",
   "execution_count": 41,
   "metadata": {},
   "outputs": [
    {
     "data": {
      "text/plain": [
       "\"\"\n"
      ]
     },
     "metadata": {},
     "output_type": "display_data"
    }
   ],
   "source": [
    "getErrorString()"
   ]
  },
  {
   "cell_type": "code",
   "execution_count": 22,
   "metadata": {},
   "outputs": [
    {
     "data": {
      "text/plain": [
       "('R1',)"
      ]
     },
     "metadata": {},
     "output_type": "display_data"
    }
   ],
   "source": [
    "record R1\n",
    "    parameter Real x;\n",
    "    parameter Real y;\n",
    "end R1;"
   ]
  },
  {
   "cell_type": "code",
   "execution_count": 23,
   "metadata": {},
   "outputs": [
    {
     "data": {
      "text/plain": [
       "('CreateR1',)"
      ]
     },
     "metadata": {},
     "output_type": "display_data"
    }
   ],
   "source": [
    "function CreateR1\n",
    "    input Real x;\n",
    "    output R1 r1;\n",
    "protected\n",
    "    Real y;\n",
    "algorithm\n",
    "    y := 2 * x;\n",
    "    r1 := R1(x = x, y = y);\n",
    "end CreateR1;"
   ]
  },
  {
   "cell_type": "code",
   "execution_count": 25,
   "metadata": {},
   "outputs": [
    {
     "data": {
      "text/plain": [
       "('R2',)"
      ]
     },
     "metadata": {},
     "output_type": "display_data"
    }
   ],
   "source": [
    "record R2\n",
    "    parameter R1 r1;\n",
    "    parameter Real u;\n",
    "end R2;"
   ]
  },
  {
   "cell_type": "code",
   "execution_count": 26,
   "metadata": {},
   "outputs": [
    {
     "data": {
      "text/plain": [
       "('CreateR2',)"
      ]
     },
     "metadata": {},
     "output_type": "display_data"
    }
   ],
   "source": [
    "function CreateR2\n",
    "    input R1 r1;\n",
    "    output R2 r2;\n",
    "protected\n",
    "    Real u;\n",
    "algorithm\n",
    "    u := 7 * r1.y;\n",
    "    r2 := R2(r1 = r1, u = u);\n",
    "end CreateR2;"
   ]
  },
  {
   "cell_type": "code",
   "execution_count": 28,
   "metadata": {},
   "outputs": [
    {
     "data": {
      "text/plain": [
       "{'x': 1.0, 'y': 2.0}"
      ]
     },
     "metadata": {},
     "output_type": "display_data"
    }
   ],
   "source": [
    "r1 := CreateR1(x = 1)"
   ]
  },
  {
   "cell_type": "code",
   "execution_count": 30,
   "metadata": {},
   "outputs": [
    {
     "data": {
      "text/plain": [
       "{'r1': {'x': 1.0, 'y': 2.0}, 'u': 14.0}"
      ]
     },
     "metadata": {},
     "output_type": "display_data"
    }
   ],
   "source": [
    "r2 := CreateR2(r1 = r1)"
   ]
  },
  {
   "cell_type": "code",
   "execution_count": 32,
   "metadata": {},
   "outputs": [
    {
     "data": {
      "text/plain": [
       "('U',)"
      ]
     },
     "metadata": {},
     "output_type": "display_data"
    }
   ],
   "source": [
    "model U\n",
    "    constant R1 r1 = CreateR1(x = 1);\n",
    "    constant R2 r2 = CreateR2(r1 = r1);\n",
    "end U;"
   ]
  },
  {
   "cell_type": "code",
   "execution_count": 33,
   "metadata": {},
   "outputs": [
    {
     "data": {
      "text/plain": [
       "('T',)"
      ]
     },
     "metadata": {},
     "output_type": "display_data"
    }
   ],
   "source": [
    "model T\n",
    "    parameter R1 r1 = U.r1;\n",
    "    parameter R2 r2 = U.r2;\n",
    "end T;"
   ]
  },
  {
   "cell_type": "code",
   "execution_count": 34,
   "metadata": {},
   "outputs": [
    {
     "data": {
      "text/plain": [
       "function CreateR1\n",
       "  input Real x;\n",
       "  output R1 r1;\n",
       "  protected Real y;\n",
       "algorithm\n",
       "  y := 2.0 * x;\n",
       "  r1 := R1(x, y);\n",
       "end CreateR1;\n",
       "\n",
       "function CreateR2\n",
       "  input R1 r1;\n",
       "  output R2 r2;\n",
       "  protected Real u;\n",
       "algorithm\n",
       "  u := 7.0 * r1.y;\n",
       "  r2 := R2(r1, u);\n",
       "end CreateR2;\n",
       "\n",
       "function R1 \"Automatically generated record constructor for R1\"\n",
       "  input Real x;\n",
       "  input Real y;\n",
       "  output R1 res;\n",
       "end R1;\n",
       "\n",
       "function R2 \"Automatically generated record constructor for R2\"\n",
       "  input R1 r1;\n",
       "  input Real u;\n",
       "  output R2 res;\n",
       "end R2;\n",
       "\n",
       "class T\n",
       "  parameter Real r1.x = 1.0;\n",
       "  parameter Real r1.y = 2.0;\n",
       "  parameter Real r2.r1.x = 1.0;\n",
       "  parameter Real r2.r1.y = 2.0;\n",
       "  parameter Real r2.u = 14.0;\n",
       "end T;\n"
      ]
     },
     "metadata": {},
     "output_type": "display_data"
    }
   ],
   "source": [
    "instantiateModel(T)"
   ]
  },
  {
   "cell_type": "code",
   "execution_count": null,
   "metadata": {},
   "outputs": [],
   "source": []
  }
 ],
 "metadata": {
  "kernelspec": {
   "display_name": "OpenModelica",
   "language": "OpenModelica",
   "name": "openmodelica"
  },
  "language_info": {
   "mimetype": "text/x-modelica",
   "name": "modelica",
   "version": "1.0"
  }
 },
 "nbformat": 4,
 "nbformat_minor": 2
}
