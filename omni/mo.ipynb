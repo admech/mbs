{
 "cells": [
  {
   "cell_type": "markdown",
   "metadata": {},
   "source": [
    "### Initialize"
   ]
  },
  {
   "cell_type": "code",
   "execution_count": null,
   "metadata": {},
   "outputs": [],
   "source": [
    "cd()"
   ]
  },
  {
   "cell_type": "code",
   "execution_count": null,
   "metadata": {},
   "outputs": [],
   "source": [
    "cd(\"tmp\")"
   ]
  },
  {
   "cell_type": "code",
   "execution_count": null,
   "metadata": {},
   "outputs": [],
   "source": [
    "getModelicaPath()"
   ]
  },
  {
   "cell_type": "code",
   "execution_count": null,
   "metadata": {},
   "outputs": [],
   "source": [
    "setModelicaPath(\"/usr/lib/omlibrary:/home/vf/.openmodelica/libraries:/home/vf/om/models/omni/thin/lib/\")"
   ]
  },
  {
   "cell_type": "code",
   "execution_count": null,
   "metadata": {},
   "outputs": [],
   "source": [
    "getModelicaPath()"
   ]
  },
  {
   "cell_type": "code",
   "execution_count": null,
   "metadata": {},
   "outputs": [],
   "source": [
    "loadModel(Modelica)"
   ]
  },
  {
   "cell_type": "markdown",
   "metadata": {},
   "source": [
    "# MbsLite Tests"
   ]
  },
  {
   "cell_type": "markdown",
   "metadata": {},
   "source": [
    "### Body at rest"
   ]
  },
  {
   "cell_type": "code",
   "execution_count": null,
   "metadata": {
    "scrolled": true
   },
   "outputs": [],
   "source": [
    "loadModel(MbsLite);\n",
    "loadModel(MbsLite.Test.SingleBody.SingleBodyAtRestTest);\n",
    "instantiateModel(MbsLite.Test.SingleBody.SingleBodyAtRestTest);\n",
    "checkModel(MbsLite.Test.SingleBody.SingleBodyAtRestTest);\n",
    "simulate\n",
    "    ( MbsLite.Test.SingleBody.SingleBodyAtRestTest\n",
    "    , outputFormat = \"csv\"\n",
    "    , stopTime = 10\n",
    "    )"
   ]
  },
  {
   "cell_type": "code",
   "execution_count": null,
   "metadata": {},
   "outputs": [],
   "source": [
    "res := strtok(readFile(\"MbsLite.Test.SingleBody.SingleBodyAtRestTest_res.csv\"), \"\\n\");\n",
    "// res[1]"
   ]
  },
  {
   "cell_type": "code",
   "execution_count": null,
   "metadata": {
    "scrolled": true
   },
   "outputs": [],
   "source": [
    "getErrorString()"
   ]
  },
  {
   "cell_type": "markdown",
   "metadata": {},
   "source": [
    "### Body falling"
   ]
  },
  {
   "cell_type": "code",
   "execution_count": null,
   "metadata": {
    "scrolled": true
   },
   "outputs": [],
   "source": [
    "loadModel(MbsLite);\n",
    "loadModel(MbsLite.Test.SingleBody.SingleBodyFallingTest);\n",
    "instantiateModel(MbsLite.Test.SingleBody.SingleBodyFallingTest);\n",
    "checkModel(MbsLite.Test.SingleBody.SingleBodyFallingTest);\n",
    "simulate\n",
    "    ( MbsLite.Test.SingleBody.SingleBodyFallingTest\n",
    "    , outputFormat = \"csv\"\n",
    "    , stopTime = 10\n",
    "    )"
   ]
  },
  {
   "cell_type": "code",
   "execution_count": null,
   "metadata": {},
   "outputs": [],
   "source": [
    "res := strtok(readFile(\"MbsLite.Test.SingleBody.SingleBodyFallingTest_res.csv\"), \"\\n\");\n",
    "// res[1]"
   ]
  },
  {
   "cell_type": "code",
   "execution_count": null,
   "metadata": {
    "scrolled": true
   },
   "outputs": [],
   "source": [
    "getErrorString()"
   ]
  },
  {
   "cell_type": "markdown",
   "metadata": {},
   "source": [
    "### Pendulum"
   ]
  },
  {
   "cell_type": "code",
   "execution_count": null,
   "metadata": {
    "scrolled": true
   },
   "outputs": [],
   "source": [
    "loadModel(MbsLite);\n",
    "loadModel(MbsLite.Test.PendulumTest);\n",
    "instantiateModel(MbsLite.Test.PendulumTest);\n",
    "checkModel(MbsLite.Test.PendulumTest);\n",
    "simulate\n",
    "    ( MbsLite.Test.PendulumTest\n",
    "    , outputFormat = \"csv\"\n",
    "    , stopTime = 10\n",
    "    )"
   ]
  },
  {
   "cell_type": "code",
   "execution_count": null,
   "metadata": {},
   "outputs": [],
   "source": [
    "res := strtok(readFile(\"MbsLite.Test.PendulumTest_res.csv\"), \"\\n\");"
   ]
  },
  {
   "cell_type": "code",
   "execution_count": null,
   "metadata": {},
   "outputs": [],
   "source": [
    "// res[1]"
   ]
  },
  {
   "cell_type": "code",
   "execution_count": null,
   "metadata": {
    "scrolled": true
   },
   "outputs": [],
   "source": [
    "getErrorString()"
   ]
  },
  {
   "cell_type": "markdown",
   "metadata": {},
   "source": [
    "### Body rolling"
   ]
  },
  {
   "cell_type": "code",
   "execution_count": null,
   "metadata": {
    "scrolled": true
   },
   "outputs": [],
   "source": [
    "loadModel(MbsLite);\n",
    "loadModel(MbsLite.Test.SingleBody.SingleBodyRollingTest);\n",
    "instantiateModel(MbsLite.Test.SingleBody.SingleBodyRollingTest);\n",
    "checkModel(MbsLite.Test.SingleBody.SingleBodyRollingTest);\n",
    "simulate\n",
    "    ( MbsLite.Test.SingleBody.SingleBodyRollingTest\n",
    "    , outputFormat = \"csv\"\n",
    "    , stopTime = 1\n",
    "    )"
   ]
  },
  {
   "cell_type": "code",
   "execution_count": null,
   "metadata": {},
   "outputs": [],
   "source": [
    "res := strtok(readFile(\"MbsLite.Test.SingleBody.SingleBodyRollingTest_res.csv\"), \"\\n\");\n",
    "// res[1]"
   ]
  },
  {
   "cell_type": "code",
   "execution_count": null,
   "metadata": {},
   "outputs": [],
   "source": [
    "strtok(readFile(\"MbsLite.Test.SingleBody.SingleBodyRollingTest.log\"), \"\\n\")"
   ]
  },
  {
   "cell_type": "code",
   "execution_count": null,
   "metadata": {
    "scrolled": false
   },
   "outputs": [],
   "source": [
    "getErrorString()"
   ]
  },
  {
   "cell_type": "markdown",
   "metadata": {},
   "source": [
    "### Single-roller wheel"
   ]
  },
  {
   "cell_type": "code",
   "execution_count": null,
   "metadata": {
    "scrolled": true
   },
   "outputs": [],
   "source": [
    "loadModel(MbsLite);\n",
    "loadModel(MbsLite.Test.Omni.SingleRollerOmniWheelTest);\n",
    "instantiateModel(MbsLite.Test.Omni.SingleRollerOmniWheelTest);\n",
    "checkModel(MbsLite.Test.Omni.SingleRollerOmniWheelTest);\n",
    "simulate\n",
    "    ( MbsLite.Test.Omni.SingleRollerOmniWheelTest\n",
    "    , outputFormat = \"csv\"\n",
    "    , stopTime = 1\n",
    "    )"
   ]
  },
  {
   "cell_type": "code",
   "execution_count": null,
   "metadata": {},
   "outputs": [],
   "source": [
    "res := strtok(readFile(\"MbsLite.Test.Omni.SingleRollerOmniWheelTest_res.csv\"), \"\\n\");\n",
    "// res[1]"
   ]
  },
  {
   "cell_type": "code",
   "execution_count": null,
   "metadata": {
    "scrolled": true
   },
   "outputs": [],
   "source": [
    "strtok(readFile(\"MbsLite.Test.Omni.SingleRollerOmniWheelTest.log\"), \"\\n\")"
   ]
  },
  {
   "cell_type": "code",
   "execution_count": null,
   "metadata": {
    "scrolled": true
   },
   "outputs": [],
   "source": [
    "getErrorString()"
   ]
  },
  {
   "cell_type": "code",
   "execution_count": null,
   "metadata": {
    "scrolled": true
   },
   "outputs": [],
   "source": [
    "getMessagesString()"
   ]
  },
  {
   "cell_type": "markdown",
   "metadata": {},
   "source": [
    "### Vertical wheel"
   ]
  },
  {
   "cell_type": "code",
   "execution_count": null,
   "metadata": {
    "scrolled": true
   },
   "outputs": [],
   "source": [
    "loadModel(MbsLite);\n",
    "loadModel(MbsLite.Test.Omni.OmniWheelVerticalTest);\n",
    "instantiateModel(MbsLite.Test.Omni.OmniWheelVerticalTest);\n",
    "checkModel(MbsLite.Test.Omni.OmniWheelVerticalTest);\n",
    "simulate\n",
    "    ( MbsLite.Test.Omni.OmniWheelVerticalTest\n",
    "    , outputFormat = \"csv\"\n",
    "    , stopTime = 1\n",
    "    )"
   ]
  },
  {
   "cell_type": "code",
   "execution_count": null,
   "metadata": {},
   "outputs": [],
   "source": [
    "res := strtok(readFile(\"MbsLite.Test.Omni.OmniWheelVerticalTest_res.csv\"), \"\\n\");\n",
    "// res[1]"
   ]
  },
  {
   "cell_type": "code",
   "execution_count": null,
   "metadata": {},
   "outputs": [],
   "source": [
    "strtok(readFile(\"MbsLite.Test.Omni.OmniWheelVerticalTest.log\"), \"\\n\")"
   ]
  },
  {
   "cell_type": "code",
   "execution_count": null,
   "metadata": {
    "scrolled": true
   },
   "outputs": [],
   "source": [
    "getErrorString()"
   ]
  },
  {
   "cell_type": "code",
   "execution_count": null,
   "metadata": {
    "scrolled": true
   },
   "outputs": [],
   "source": [
    "getMessagesString()"
   ]
  },
  {
   "cell_type": "markdown",
   "metadata": {},
   "source": [
    "### Current"
   ]
  },
  {
   "cell_type": "code",
   "execution_count": null,
   "metadata": {},
   "outputs": [],
   "source": [
    "loadModel(MbsLite)"
   ]
  },
  {
   "cell_type": "code",
   "execution_count": null,
   "metadata": {},
   "outputs": [],
   "source": [
    "loadModel(MbsLite.Test.Omni.OmniWheelAtRestTest)"
   ]
  },
  {
   "cell_type": "code",
   "execution_count": null,
   "metadata": {},
   "outputs": [],
   "source": [
    "instantiateModel(MbsLite.Test.Omni.OmniWheelAtRestTest);"
   ]
  },
  {
   "cell_type": "code",
   "execution_count": null,
   "metadata": {},
   "outputs": [],
   "source": [
    "checkModel(MbsLite.Test.Omni.OmniWheelAtRestTest)"
   ]
  },
  {
   "cell_type": "code",
   "execution_count": null,
   "metadata": {},
   "outputs": [],
   "source": [
    "simulate\n",
    "    ( MbsLite.Test.Omni.OmniWheelAtRestTest\n",
    "    , outputFormat = \"csv\"\n",
    "    )"
   ]
  },
  {
   "cell_type": "code",
   "execution_count": null,
   "metadata": {
    "scrolled": true
   },
   "outputs": [],
   "source": [
    "getErrorString()"
   ]
  },
  {
   "cell_type": "code",
   "execution_count": null,
   "metadata": {},
   "outputs": [],
   "source": [
    "strtok(readFile(\"MbsLite.Test.Omni.OmniWheelAtRestTest.log\"), \"\\n\")"
   ]
  },
  {
   "cell_type": "code",
   "execution_count": null,
   "metadata": {},
   "outputs": [],
   "source": [
    "res := strtok(readFile(\"MbsLite.Test.Omni.OmniWheelAtRestTest_res.csv\"), \"\\n\");"
   ]
  },
  {
   "cell_type": "code",
   "execution_count": null,
   "metadata": {},
   "outputs": [],
   "source": [
    "res[1]"
   ]
  },
  {
   "cell_type": "code",
   "execution_count": null,
   "metadata": {
    "scrolled": true
   },
   "outputs": [],
   "source": [
    "getErrorString()"
   ]
  },
  {
   "cell_type": "code",
   "execution_count": null,
   "metadata": {},
   "outputs": [],
   "source": [
    "getMessagesString()"
   ]
  },
  {
   "cell_type": "code",
   "execution_count": null,
   "metadata": {},
   "outputs": [],
   "source": []
  },
  {
   "cell_type": "markdown",
   "metadata": {},
   "source": [
    "# Misc"
   ]
  },
  {
   "cell_type": "code",
   "execution_count": null,
   "metadata": {},
   "outputs": [],
   "source": [
    "I := identity(3)"
   ]
  },
  {
   "cell_type": "code",
   "execution_count": null,
   "metadata": {},
   "outputs": [],
   "source": [
    "I[3, :]"
   ]
  },
  {
   "cell_type": "code",
   "execution_count": null,
   "metadata": {},
   "outputs": [],
   "source": [
    "diagonal({ 1, 2, 3 })"
   ]
  },
  {
   "cell_type": "code",
   "execution_count": null,
   "metadata": {
    "scrolled": true
   },
   "outputs": [],
   "source": [
    "String({1, 2, 3})"
   ]
  },
  {
   "cell_type": "code",
   "execution_count": null,
   "metadata": {},
   "outputs": [],
   "source": [
    "MbsLite.Quaternions.QRot(2 * Modelica.Constants.pi / 5, { 0, 0, 1 })"
   ]
  },
  {
   "cell_type": "code",
   "execution_count": null,
   "metadata": {},
   "outputs": [],
   "source": [
    "{ cos(2 * Modelica.Constants.pi / 5 / 2), 0, 0, sin(2 * Modelica.Constants.pi / 5 / 2) }"
   ]
  },
  {
   "cell_type": "code",
   "execution_count": null,
   "metadata": {},
   "outputs": [],
   "source": []
  }
 ],
 "metadata": {
  "kernelspec": {
   "display_name": "OpenModelica",
   "language": "OpenModelica",
   "name": "openmodelica"
  },
  "language_info": {
   "mimetype": "text/x-modelica",
   "name": "modelica",
   "version": "1.0"
  }
 },
 "nbformat": 4,
 "nbformat_minor": 2
}
