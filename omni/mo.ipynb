{
 "cells": [
  {
   "cell_type": "markdown",
   "metadata": {},
   "source": [
    "### Initialize"
   ]
  },
  {
   "cell_type": "code",
   "execution_count": 1,
   "metadata": {},
   "outputs": [
    {
     "data": {
      "text/plain": [
       "/home/vf/om/models/omni"
      ]
     },
     "metadata": {},
     "output_type": "display_data"
    }
   ],
   "source": [
    "cd()"
   ]
  },
  {
   "cell_type": "code",
   "execution_count": 2,
   "metadata": {},
   "outputs": [
    {
     "data": {
      "text/plain": [
       "/home/vf/om/models/omni/tmp"
      ]
     },
     "metadata": {},
     "output_type": "display_data"
    }
   ],
   "source": [
    "cd(\"tmp\")"
   ]
  },
  {
   "cell_type": "code",
   "execution_count": 3,
   "metadata": {},
   "outputs": [
    {
     "data": {
      "text/plain": [
       "/usr/lib/omlibrary:/home/vf/.openmodelica/libraries/"
      ]
     },
     "metadata": {},
     "output_type": "display_data"
    }
   ],
   "source": [
    "getModelicaPath()"
   ]
  },
  {
   "cell_type": "code",
   "execution_count": 4,
   "metadata": {},
   "outputs": [
    {
     "data": {
      "text/plain": [
       "True"
      ]
     },
     "metadata": {},
     "output_type": "display_data"
    }
   ],
   "source": [
    "setModelicaPath(\"/usr/lib/omlibrary:/home/vf/.openmodelica/libraries:/home/vf/om/models/omni/thin/lib/\")"
   ]
  },
  {
   "cell_type": "code",
   "execution_count": 5,
   "metadata": {},
   "outputs": [
    {
     "data": {
      "text/plain": [
       "/usr/lib/omlibrary:/home/vf/.openmodelica/libraries:/home/vf/om/models/omni/thin/lib/"
      ]
     },
     "metadata": {},
     "output_type": "display_data"
    }
   ],
   "source": [
    "getModelicaPath()"
   ]
  },
  {
   "cell_type": "code",
   "execution_count": 6,
   "metadata": {},
   "outputs": [
    {
     "data": {
      "text/plain": [
       "True"
      ]
     },
     "metadata": {},
     "output_type": "display_data"
    }
   ],
   "source": [
    "loadModel(Modelica)"
   ]
  },
  {
   "cell_type": "markdown",
   "metadata": {},
   "source": [
    "# MbsLite Tests"
   ]
  },
  {
   "cell_type": "markdown",
   "metadata": {},
   "source": [
    "### Body at rest"
   ]
  },
  {
   "cell_type": "code",
   "execution_count": null,
   "metadata": {
    "scrolled": true
   },
   "outputs": [],
   "source": [
    "loadModel(MbsLite);\n",
    "loadModel(MbsLite.Test.SingleBody.SingleBodyAtRestTest);\n",
    "instantiateModel(MbsLite.Test.SingleBody.SingleBodyAtRestTest);\n",
    "checkModel(MbsLite.Test.SingleBody.SingleBodyAtRestTest);\n",
    "simulate\n",
    "    ( MbsLite.Test.SingleBody.SingleBodyAtRestTest\n",
    "    , outputFormat = \"csv\"\n",
    "    , stopTime = 10\n",
    "    )"
   ]
  },
  {
   "cell_type": "code",
   "execution_count": null,
   "metadata": {},
   "outputs": [],
   "source": [
    "res := strtok(readFile(\"MbsLite.Test.SingleBody.SingleBodyAtRestTest_res.csv\"), \"\\n\");\n",
    "// res[1]"
   ]
  },
  {
   "cell_type": "code",
   "execution_count": null,
   "metadata": {
    "scrolled": true
   },
   "outputs": [],
   "source": [
    "getErrorString()"
   ]
  },
  {
   "cell_type": "markdown",
   "metadata": {},
   "source": [
    "### Body falling"
   ]
  },
  {
   "cell_type": "code",
   "execution_count": null,
   "metadata": {
    "scrolled": true
   },
   "outputs": [],
   "source": [
    "loadModel(MbsLite);\n",
    "loadModel(MbsLite.Test.SingleBody.SingleBodyFallingTest);\n",
    "instantiateModel(MbsLite.Test.SingleBody.SingleBodyFallingTest);\n",
    "checkModel(MbsLite.Test.SingleBody.SingleBodyFallingTest);\n",
    "simulate\n",
    "    ( MbsLite.Test.SingleBody.SingleBodyFallingTest\n",
    "    , outputFormat = \"csv\"\n",
    "    , stopTime = 10\n",
    "    )"
   ]
  },
  {
   "cell_type": "code",
   "execution_count": null,
   "metadata": {},
   "outputs": [],
   "source": [
    "res := strtok(readFile(\"MbsLite.Test.SingleBody.SingleBodyFallingTest_res.csv\"), \"\\n\");\n",
    "// res[1]"
   ]
  },
  {
   "cell_type": "code",
   "execution_count": null,
   "metadata": {
    "scrolled": true
   },
   "outputs": [],
   "source": [
    "getErrorString()"
   ]
  },
  {
   "cell_type": "markdown",
   "metadata": {},
   "source": [
    "### Pendulum"
   ]
  },
  {
   "cell_type": "code",
   "execution_count": null,
   "metadata": {
    "scrolled": true
   },
   "outputs": [],
   "source": [
    "loadModel(MbsLite);\n",
    "loadModel(MbsLite.Test.PendulumTest);\n",
    "instantiateModel(MbsLite.Test.PendulumTest);\n",
    "checkModel(MbsLite.Test.PendulumTest);\n",
    "simulate\n",
    "    ( MbsLite.Test.PendulumTest\n",
    "    , outputFormat = \"csv\"\n",
    "    , stopTime = 10\n",
    "    )"
   ]
  },
  {
   "cell_type": "code",
   "execution_count": null,
   "metadata": {},
   "outputs": [],
   "source": [
    "res := strtok(readFile(\"MbsLite.Test.PendulumTest_res.csv\"), \"\\n\");"
   ]
  },
  {
   "cell_type": "code",
   "execution_count": null,
   "metadata": {},
   "outputs": [],
   "source": [
    "// res[1]"
   ]
  },
  {
   "cell_type": "code",
   "execution_count": null,
   "metadata": {
    "scrolled": true
   },
   "outputs": [],
   "source": [
    "getErrorString()"
   ]
  },
  {
   "cell_type": "markdown",
   "metadata": {},
   "source": [
    "### Double Pendulum"
   ]
  },
  {
   "cell_type": "code",
   "execution_count": null,
   "metadata": {
    "scrolled": true
   },
   "outputs": [],
   "source": [
    "loadModel(MbsLite);\n",
    "loadModel(MbsLite.Test.DoublePendulumTest);\n",
    "instantiateModel(MbsLite.Test.DoublePendulumTest);\n",
    "checkModel(MbsLite.Test.DoublePendulumTest);\n",
    "simulate\n",
    "    ( MbsLite.Test.DoublePendulumTest\n",
    "    , outputFormat = \"csv\"\n",
    "    )"
   ]
  },
  {
   "cell_type": "code",
   "execution_count": null,
   "metadata": {},
   "outputs": [],
   "source": [
    "res := strtok(readFile(\"MbsLite.Test.DoublePendulumTest_res.csv\"), \"\\n\");"
   ]
  },
  {
   "cell_type": "code",
   "execution_count": null,
   "metadata": {},
   "outputs": [],
   "source": [
    "// res[1]"
   ]
  },
  {
   "cell_type": "code",
   "execution_count": null,
   "metadata": {
    "scrolled": false
   },
   "outputs": [],
   "source": [
    "getErrorString()"
   ]
  },
  {
   "cell_type": "markdown",
   "metadata": {},
   "source": [
    "### Joint"
   ]
  },
  {
   "cell_type": "code",
   "execution_count": null,
   "metadata": {
    "scrolled": true
   },
   "outputs": [],
   "source": [
    "loadModel(MbsLite);\n",
    "loadModel(MbsLite.Test.Constraints.JointTest);\n",
    "instantiateModel(MbsLite.Test.Constraints.JointTest);\n",
    "checkModel(MbsLite.Test.Constraints.JointTest);\n",
    "simulate\n",
    "    ( MbsLite.Test.Constraints.JointTest\n",
    "    , outputFormat = \"csv\"\n",
    "    , stopTime = 0.1\n",
    "    )"
   ]
  },
  {
   "cell_type": "code",
   "execution_count": null,
   "metadata": {},
   "outputs": [],
   "source": [
    "res := strtok(readFile(\"MbsLite.Test.Constraints.JointTest_res.csv\"), \"\\n\");"
   ]
  },
  {
   "cell_type": "code",
   "execution_count": null,
   "metadata": {},
   "outputs": [],
   "source": [
    "// res[1]"
   ]
  },
  {
   "cell_type": "code",
   "execution_count": null,
   "metadata": {
    "scrolled": true
   },
   "outputs": [],
   "source": [
    "getErrorString()"
   ]
  },
  {
   "cell_type": "markdown",
   "metadata": {},
   "source": [
    "### Body rolling"
   ]
  },
  {
   "cell_type": "code",
   "execution_count": null,
   "metadata": {
    "scrolled": true
   },
   "outputs": [],
   "source": [
    "loadModel(MbsLite);\n",
    "loadModel(MbsLite.Test.SingleBody.SingleBodyRollingTest);\n",
    "instantiateModel(MbsLite.Test.SingleBody.SingleBodyRollingTest);\n",
    "checkModel(MbsLite.Test.SingleBody.SingleBodyRollingTest);\n",
    "simulate\n",
    "    ( MbsLite.Test.SingleBody.SingleBodyRollingTest\n",
    "    , outputFormat = \"csv\"\n",
    "    , stopTime = 1\n",
    "    )"
   ]
  },
  {
   "cell_type": "code",
   "execution_count": null,
   "metadata": {},
   "outputs": [],
   "source": [
    "res := strtok(readFile(\"MbsLite.Test.SingleBody.SingleBodyRollingTest_res.csv\"), \"\\n\");\n",
    "// res[1]"
   ]
  },
  {
   "cell_type": "code",
   "execution_count": null,
   "metadata": {},
   "outputs": [],
   "source": [
    "strtok(readFile(\"MbsLite.Test.SingleBody.SingleBodyRollingTest.log\"), \"\\n\")"
   ]
  },
  {
   "cell_type": "code",
   "execution_count": null,
   "metadata": {
    "scrolled": true
   },
   "outputs": [],
   "source": [
    "getErrorString()"
   ]
  },
  {
   "cell_type": "markdown",
   "metadata": {},
   "source": [
    "### Omni-wheel without contacts and gravity"
   ]
  },
  {
   "cell_type": "code",
   "execution_count": null,
   "metadata": {
    "scrolled": true
   },
   "outputs": [],
   "source": [
    "loadModel(MbsLite);\n",
    "loadModel(MbsLite.Test.Omni.OmniWheelAtRestTest);\n",
    "instantiateModel(MbsLite.Test.Omni.OmniWheelAtRestTest);\n",
    "checkModel(MbsLite.Test.Omni.OmniWheelAtRestTest);\n",
    "simulate\n",
    "    ( MbsLite.Test.Omni.OmniWheelAtRestTest\n",
    "    , outputFormat = \"csv\"\n",
    "    , stopTime = 20\n",
    "    )"
   ]
  },
  {
   "cell_type": "code",
   "execution_count": null,
   "metadata": {},
   "outputs": [],
   "source": [
    "res := strtok(readFile(\"MbsLite.Test.Omni.OmniWheelAtRestTest_res.csv\"), \"\\n\");\n",
    "// res[1]"
   ]
  },
  {
   "cell_type": "code",
   "execution_count": null,
   "metadata": {
    "scrolled": true
   },
   "outputs": [],
   "source": [
    "strtok(readFile(\"MbsLite.Test.Omni.OmniWheelAtRestTest.log\"), \"\\n\")"
   ]
  },
  {
   "cell_type": "code",
   "execution_count": null,
   "metadata": {
    "scrolled": true
   },
   "outputs": [],
   "source": [
    "getErrorString()"
   ]
  },
  {
   "cell_type": "code",
   "execution_count": null,
   "metadata": {
    "scrolled": true
   },
   "outputs": [],
   "source": [
    "getMessagesString()"
   ]
  },
  {
   "cell_type": "markdown",
   "metadata": {},
   "source": [
    "### Omni-wheel on plane free"
   ]
  },
  {
   "cell_type": "code",
   "execution_count": null,
   "metadata": {
    "scrolled": true
   },
   "outputs": [],
   "source": [
    "loadModel(MbsLite);\n",
    "loadModel(MbsLite.Test.Omni.OmniWheelOnPlaneFreeTest);\n",
    "instantiateModel(MbsLite.Test.Omni.OmniWheelOnPlaneFreeTest);\n",
    "checkModel(MbsLite.Test.Omni.OmniWheelOnPlaneFreeTest);\n",
    "simulate\n",
    "    ( MbsLite.Test.Omni.OmniWheelOnPlaneFreeTest\n",
    "    , outputFormat = \"csv\"\n",
    "    , stopTime = 1\n",
    "    )"
   ]
  },
  {
   "cell_type": "code",
   "execution_count": null,
   "metadata": {},
   "outputs": [],
   "source": [
    "res := strtok(readFile(\"MbsLite.Test.Omni.OmniWheelOnPlaneFreeTest_res.csv\"), \"\\n\");\n",
    "// res[1]"
   ]
  },
  {
   "cell_type": "code",
   "execution_count": null,
   "metadata": {
    "scrolled": true
   },
   "outputs": [],
   "source": [
    "strtok(readFile(\"MbsLite.Test.Omni.OmniWheelOnPlaneFreeTest.log\"), \"\\n\")"
   ]
  },
  {
   "cell_type": "code",
   "execution_count": null,
   "metadata": {
    "scrolled": true
   },
   "outputs": [],
   "source": [
    "getErrorString()"
   ]
  },
  {
   "cell_type": "code",
   "execution_count": null,
   "metadata": {
    "scrolled": true
   },
   "outputs": [],
   "source": [
    "getMessagesString()"
   ]
  },
  {
   "cell_type": "markdown",
   "metadata": {},
   "source": [
    "### Vertical wheel"
   ]
  },
  {
   "cell_type": "code",
   "execution_count": null,
   "metadata": {
    "scrolled": true
   },
   "outputs": [],
   "source": [
    "loadModel(MbsLite);\n",
    "loadModel(MbsLite.Test.Omni.OmniWheelVerticalTest);\n",
    "instantiateModel(MbsLite.Test.Omni.OmniWheelVerticalTest);\n",
    "checkModel(MbsLite.Test.Omni.OmniWheelVerticalTest);\n",
    "simulate\n",
    "    ( MbsLite.Test.Omni.OmniWheelVerticalTest\n",
    "    , outputFormat = \"csv\"\n",
    "    , stopTime = 1\n",
    "    )"
   ]
  },
  {
   "cell_type": "code",
   "execution_count": null,
   "metadata": {},
   "outputs": [],
   "source": [
    "res := strtok(readFile(\"MbsLite.Test.Omni.OmniWheelVerticalTest_res.csv\"), \"\\n\");\n",
    "// res[1]"
   ]
  },
  {
   "cell_type": "code",
   "execution_count": null,
   "metadata": {},
   "outputs": [],
   "source": [
    "strtok(readFile(\"MbsLite.Test.Omni.OmniWheelVerticalTest.log\"), \"\\n\")"
   ]
  },
  {
   "cell_type": "code",
   "execution_count": null,
   "metadata": {
    "scrolled": true
   },
   "outputs": [],
   "source": [
    "getErrorString()"
   ]
  },
  {
   "cell_type": "code",
   "execution_count": null,
   "metadata": {
    "scrolled": true
   },
   "outputs": [],
   "source": [
    "getMessagesString()"
   ]
  },
  {
   "cell_type": "markdown",
   "metadata": {},
   "source": [
    "# Uber Debug"
   ]
  },
  {
   "cell_type": "code",
   "execution_count": null,
   "metadata": {},
   "outputs": [],
   "source": [
    "loadModel(MbsLite)"
   ]
  },
  {
   "cell_type": "code",
   "execution_count": null,
   "metadata": {},
   "outputs": [],
   "source": [
    "loadModel(MbsLite.Test.Omni.OmniVehicleTest)"
   ]
  },
  {
   "cell_type": "code",
   "execution_count": null,
   "metadata": {},
   "outputs": [],
   "source": [
    "checkModel(MbsLite.Test.Omni.OmniVehicleTest)"
   ]
  },
  {
   "cell_type": "code",
   "execution_count": null,
   "metadata": {
    "scrolled": true
   },
   "outputs": [],
   "source": [
    "instantiateModel(MbsLite.Test.Omni.OmniVehicleTest)"
   ]
  },
  {
   "cell_type": "code",
   "execution_count": null,
   "metadata": {},
   "outputs": [],
   "source": [
    "getErrorString()"
   ]
  },
  {
   "cell_type": "code",
   "execution_count": null,
   "metadata": {},
   "outputs": [],
   "source": []
  },
  {
   "cell_type": "code",
   "execution_count": null,
   "metadata": {},
   "outputs": [],
   "source": []
  },
  {
   "cell_type": "code",
   "execution_count": null,
   "metadata": {},
   "outputs": [],
   "source": [
    "res := simulate\n",
    "    ( MbsLite.Test.Constraints.ContactTest\n",
    "    , outputFormat = \"csv\"\n",
    "    );"
   ]
  },
  {
   "cell_type": "code",
   "execution_count": null,
   "metadata": {},
   "outputs": [],
   "source": [
    "res.messages"
   ]
  },
  {
   "cell_type": "code",
   "execution_count": null,
   "metadata": {},
   "outputs": [],
   "source": [
    "getErrorString()"
   ]
  },
  {
   "cell_type": "code",
   "execution_count": null,
   "metadata": {},
   "outputs": [],
   "source": [
    "getMessagesString()"
   ]
  },
  {
   "cell_type": "code",
   "execution_count": null,
   "metadata": {},
   "outputs": [],
   "source": [
    "res"
   ]
  },
  {
   "cell_type": "code",
   "execution_count": null,
   "metadata": {},
   "outputs": [],
   "source": []
  },
  {
   "cell_type": "code",
   "execution_count": null,
   "metadata": {},
   "outputs": [],
   "source": []
  },
  {
   "cell_type": "code",
   "execution_count": null,
   "metadata": {},
   "outputs": [],
   "source": []
  },
  {
   "cell_type": "code",
   "execution_count": null,
   "metadata": {},
   "outputs": [],
   "source": [
    "record Params\n",
    "    parameter Integer n;\n",
    "    parameter Real[n] items;\n",
    "end Params;"
   ]
  },
  {
   "cell_type": "code",
   "execution_count": null,
   "metadata": {
    "scrolled": true
   },
   "outputs": [],
   "source": [
    "record OmniVehicleParams\n",
    "    parameter Params params;\n",
    "    parameter Real[params.n] arr;\n",
    "end OmniVehicleParams;"
   ]
  },
  {
   "cell_type": "code",
   "execution_count": null,
   "metadata": {},
   "outputs": [],
   "source": [
    "function CalculateOmniVehicleParams\n",
    "    input Params params;\n",
    "    output OmniVehicleParams r;\n",
    "algorithm\n",
    "    r := OmniVehicleParams(params = params, arr = {i^2 for i in 1 : params.n});\n",
    "end CalculateOmniVehicleParams;"
   ]
  },
  {
   "cell_type": "code",
   "execution_count": null,
   "metadata": {},
   "outputs": [],
   "source": [
    "model Insane\n",
    "    parameter OmniVehicleParams ovp;\n",
    "    parameter Integer n = ovp.params.n;\n",
    "end Insane;"
   ]
  },
  {
   "cell_type": "code",
   "execution_count": null,
   "metadata": {},
   "outputs": [],
   "source": [
    "model Crazy\n",
    "    constant Integer n = 3;\n",
    "    constant Params params = Params(n = n, items = { (n - i)*1.0 for i in 1 : n });\n",
    "    constant OmniVehicleParams ovp = CalculateOmniVehicleParams(params = params);\n",
    "    Insane insane(ovp = ovp);\n",
    "end Crazy;"
   ]
  },
  {
   "cell_type": "code",
   "execution_count": null,
   "metadata": {},
   "outputs": [],
   "source": [
    "instantiateModel(Crazy)"
   ]
  },
  {
   "cell_type": "code",
   "execution_count": null,
   "metadata": {},
   "outputs": [],
   "source": [
    "Params(n = 3, items = { (3 - i)*1.0 for i in 1 : 3 })"
   ]
  },
  {
   "cell_type": "code",
   "execution_count": null,
   "metadata": {},
   "outputs": [],
   "source": [
    "CalculateOmniVehicleParams\n",
    "  ( params = Params(n = 3, items = { (3 - i)*1.0 for i in 1 : 3 })\n",
    "  )"
   ]
  },
  {
   "cell_type": "code",
   "execution_count": null,
   "metadata": {},
   "outputs": [],
   "source": [
    "model ReallyInsane = Insane(ovp = CalculateOmniVehicleParams\n",
    "  ( params = Params(n = 3, items = { (3 - i)*1.0 for i in 1 : 3 })\n",
    "  ));"
   ]
  },
  {
   "cell_type": "code",
   "execution_count": null,
   "metadata": {},
   "outputs": [],
   "source": [
    "instantiateModel(ReallyInsane)"
   ]
  },
  {
   "cell_type": "code",
   "execution_count": null,
   "metadata": {},
   "outputs": [],
   "source": [
    "getErrorString()"
   ]
  },
  {
   "cell_type": "code",
   "execution_count": null,
   "metadata": {},
   "outputs": [],
   "source": []
  },
  {
   "cell_type": "code",
   "execution_count": null,
   "metadata": {},
   "outputs": [],
   "source": []
  },
  {
   "cell_type": "code",
   "execution_count": null,
   "metadata": {},
   "outputs": [],
   "source": []
  },
  {
   "cell_type": "code",
   "execution_count": null,
   "metadata": {},
   "outputs": [],
   "source": [
    "loadModel(MbsLite)"
   ]
  },
  {
   "cell_type": "code",
   "execution_count": null,
   "metadata": {},
   "outputs": [],
   "source": [
    "model Test\n",
    "    constant MbsLite.Examples.OmniVehicle.OmniVehicleParams   ovp      = MbsLite.Test.Omni.TestParams.pmmAtRest;\n",
    "    constant MbsLite.Examples.OmniVehicle.Params              params   = MbsLite.Test.Omni.TestParams.pmm;\n",
    "end Test;"
   ]
  },
  {
   "cell_type": "code",
   "execution_count": null,
   "metadata": {
    "scrolled": true
   },
   "outputs": [],
   "source": [
    "instantiateModel(Test)"
   ]
  },
  {
   "cell_type": "code",
   "execution_count": null,
   "metadata": {},
   "outputs": [],
   "source": [
    "getErrorString()"
   ]
  },
  {
   "cell_type": "code",
   "execution_count": null,
   "metadata": {},
   "outputs": [],
   "source": []
  },
  {
   "cell_type": "code",
   "execution_count": null,
   "metadata": {},
   "outputs": [],
   "source": []
  },
  {
   "cell_type": "code",
   "execution_count": null,
   "metadata": {},
   "outputs": [],
   "source": []
  },
  {
   "cell_type": "code",
   "execution_count": null,
   "metadata": {},
   "outputs": [],
   "source": []
  },
  {
   "cell_type": "code",
   "execution_count": null,
   "metadata": {},
   "outputs": [],
   "source": []
  },
  {
   "cell_type": "code",
   "execution_count": null,
   "metadata": {},
   "outputs": [],
   "source": []
  },
  {
   "cell_type": "code",
   "execution_count": null,
   "metadata": {},
   "outputs": [],
   "source": [
    "record R1\n",
    "    parameter Real x;\n",
    "    parameter Real y;\n",
    "end R1;"
   ]
  },
  {
   "cell_type": "code",
   "execution_count": null,
   "metadata": {},
   "outputs": [],
   "source": [
    "function CreateR1\n",
    "    input Real x;\n",
    "    output R1 r1;\n",
    "protected\n",
    "    Real y;\n",
    "algorithm\n",
    "    y := 2 * x;\n",
    "    r1 := R1(x = x, y = y);\n",
    "end CreateR1;"
   ]
  },
  {
   "cell_type": "code",
   "execution_count": null,
   "metadata": {},
   "outputs": [],
   "source": [
    "record R2\n",
    "    parameter R1 r1;\n",
    "    parameter Real u;\n",
    "end R2;"
   ]
  },
  {
   "cell_type": "code",
   "execution_count": null,
   "metadata": {},
   "outputs": [],
   "source": [
    "function CreateR2\n",
    "    input R1 r1;\n",
    "    output R2 r2;\n",
    "protected\n",
    "    Real u;\n",
    "algorithm\n",
    "    u := 7 * r1.y;\n",
    "    r2 := R2(r1 = r1, u = u);\n",
    "end CreateR2;"
   ]
  },
  {
   "cell_type": "code",
   "execution_count": null,
   "metadata": {},
   "outputs": [],
   "source": [
    "r1 := CreateR1(x = 1)"
   ]
  },
  {
   "cell_type": "code",
   "execution_count": null,
   "metadata": {},
   "outputs": [],
   "source": [
    "r2 := CreateR2(r1 = r1)"
   ]
  },
  {
   "cell_type": "code",
   "execution_count": null,
   "metadata": {},
   "outputs": [],
   "source": [
    "model U\n",
    "    constant R1 r1 = CreateR1(x = 1);\n",
    "    constant R2 r2 = CreateR2(r1 = r1);\n",
    "end U;"
   ]
  },
  {
   "cell_type": "code",
   "execution_count": null,
   "metadata": {},
   "outputs": [],
   "source": [
    "model T\n",
    "    parameter R1 r1 = U.r1;\n",
    "    parameter R2 r2 = U.r2;\n",
    "end T;"
   ]
  },
  {
   "cell_type": "code",
   "execution_count": null,
   "metadata": {},
   "outputs": [],
   "source": [
    "instantiateModel(T)"
   ]
  },
  {
   "cell_type": "code",
   "execution_count": null,
   "metadata": {},
   "outputs": [],
   "source": []
  },
  {
   "cell_type": "code",
   "execution_count": null,
   "metadata": {},
   "outputs": [],
   "source": []
  },
  {
   "cell_type": "code",
   "execution_count": null,
   "metadata": {},
   "outputs": [],
   "source": []
  },
  {
   "cell_type": "code",
   "execution_count": null,
   "metadata": {},
   "outputs": [],
   "source": []
  },
  {
   "cell_type": "code",
   "execution_count": null,
   "metadata": {},
   "outputs": [],
   "source": [
    "loadModel(MbsLite)"
   ]
  },
  {
   "cell_type": "code",
   "execution_count": null,
   "metadata": {},
   "outputs": [],
   "source": [
    "MbsLite.Util.Quaternions.QRot(Modelica.Constants.pi/6, { 1, 0, 0 })"
   ]
  },
  {
   "cell_type": "code",
   "execution_count": null,
   "metadata": {},
   "outputs": [],
   "source": []
  },
  {
   "cell_type": "markdown",
   "metadata": {},
   "source": [
    "### Master algorithm"
   ]
  },
  {
   "cell_type": "code",
   "execution_count": 88,
   "metadata": {},
   "outputs": [
    {
     "data": {
      "text/plain": [
       "('CalculateOffset',)"
      ]
     },
     "metadata": {},
     "output_type": "display_data"
    }
   ],
   "source": [
    "function CalculateOffset\n",
    "    input  Integer    index;\n",
    "    input  Boolean[:] thingsHappened;\n",
    "    input  Real       currentOffset;\n",
    "    output Real       offset;\n",
    "protected\n",
    "    Boolean thingsHappenedAlready;\n",
    "algorithm\n",
    "    thingsHappenedAlready := false;\n",
    "    for i in 1 : index - 1 loop\n",
    "        if thingsHappened[i] then\n",
    "            thingsHappenedAlready := true;\n",
    "        end if;\n",
    "    end for;\n",
    "    if thingsHappenedAlready then\n",
    "        offset := currentOffset + index * 5e-1;\n",
    "    else\n",
    "        offset := currentOffset;\n",
    "    end if;\n",
    "end CalculateOffset;"
   ]
  },
  {
   "cell_type": "code",
   "execution_count": 96,
   "metadata": {},
   "outputs": [
    {
     "data": {
      "text/plain": [
       "('Slave',)"
      ]
     },
     "metadata": {},
     "output_type": "display_data"
    }
   ],
   "source": [
    "model Slave\n",
    "    parameter Integer N;\n",
    "    parameter Integer index;\n",
    "    parameter Real yMin;\n",
    "    parameter Real g;\n",
    "    Boolean theThingHappened;\n",
    "    Real y;\n",
    "    Real F;\n",
    "    Real v;\n",
    "    Real a;\n",
    "    Boolean[N] thingsHappened;\n",
    "    \n",
    "    Real offset(start = 0);\n",
    "algorithm\n",
    "    offset := CalculateOffset(index, thingsHappened, offset);\n",
    "equation\n",
    "    der(y) = v;\n",
    "    der(v) = a;\n",
    "    a = F;\n",
    "    \n",
    "    theThingHappened = y < yMin + offset;\n",
    "    \n",
    "    if theThingHappened then\n",
    "        a = 0;\n",
    "    else\n",
    "        F = -g;\n",
    "    end if;\n",
    "end Slave;"
   ]
  },
  {
   "cell_type": "code",
   "execution_count": 97,
   "metadata": {},
   "outputs": [
    {
     "data": {
      "text/plain": [
       "('Master',)"
      ]
     },
     "metadata": {},
     "output_type": "display_data"
    }
   ],
   "source": [
    "model Master\n",
    "    Slave slave1(N = 2, index = 1, yMin = -1, g = 5);\n",
    "    Slave slave2(N = 2, index = 2, yMin = -3, g = 10);\n",
    "    Boolean[2] thingsHappened;\n",
    "equation\n",
    "    thingsHappened =\n",
    "      { slave1.theThingHappened\n",
    "      , slave2.theThingHappened\n",
    "      };\n",
    "    slave1.thingsHappened = thingsHappened;\n",
    "    slave2.thingsHappened = thingsHappened;\n",
    "end Master;"
   ]
  },
  {
   "cell_type": "code",
   "execution_count": 98,
   "metadata": {},
   "outputs": [
    {
     "data": {
      "text/plain": [
       "function CalculateOffset\n",
       "  input Integer index;\n",
       "  input Boolean[:] thingsHappened;\n",
       "  input Real currentOffset;\n",
       "  output Real offset;\n",
       "  protected Boolean thingsHappenedAlready;\n",
       "algorithm\n",
       "  thingsHappenedAlready := false;\n",
       "  for i in 1:-1 + index loop\n",
       "    if thingsHappened[i] then\n",
       "      thingsHappenedAlready := true;\n",
       "    end if;\n",
       "  end for;\n",
       "  if thingsHappenedAlready then\n",
       "    offset := currentOffset + 0.5 * /*Real*/(index);\n",
       "  else\n",
       "    offset := currentOffset;\n",
       "  end if;\n",
       "end CalculateOffset;\n",
       "\n",
       "class Master\n",
       "  parameter Integer slave1.N = 2;\n",
       "  parameter Integer slave1.index = 1;\n",
       "  parameter Real slave1.yMin = -1.0;\n",
       "  parameter Real slave1.g = 5.0;\n",
       "  Boolean slave1.theThingHappened;\n",
       "  Real slave1.y;\n",
       "  Real slave1.F;\n",
       "  Real slave1.v;\n",
       "  Real slave1.a;\n",
       "  Boolean slave1.thingsHappened[1];\n",
       "  Boolean slave1.thingsHappened[2];\n",
       "  Real slave1.offset(start = 0.0);\n",
       "  parameter Integer slave2.N = 2;\n",
       "  parameter Integer slave2.index = 2;\n",
       "  parameter Real slave2.yMin = -3.0;\n",
       "  parameter Real slave2.g = 10.0;\n",
       "  Boolean slave2.theThingHappened;\n",
       "  Real slave2.y;\n",
       "  Real slave2.F;\n",
       "  Real slave2.v;\n",
       "  Real slave2.a;\n",
       "  Boolean slave2.thingsHappened[1];\n",
       "  Boolean slave2.thingsHappened[2];\n",
       "  Real slave2.offset(start = 0.0);\n",
       "  Boolean thingsHappened[1];\n",
       "  Boolean thingsHappened[2];\n",
       "equation\n",
       "  der(slave1.y) = slave1.v;\n",
       "  der(slave1.v) = slave1.a;\n",
       "  slave1.a = slave1.F;\n",
       "  slave1.theThingHappened = slave1.y < slave1.yMin + slave1.offset;\n",
       "  if slave1.theThingHappened then\n",
       "    slave1.a = 0.0;\n",
       "  else\n",
       "    slave1.F = -slave1.g;\n",
       "  end if;\n",
       "  der(slave2.y) = slave2.v;\n",
       "  der(slave2.v) = slave2.a;\n",
       "  slave2.a = slave2.F;\n",
       "  slave2.theThingHappened = slave2.y < slave2.yMin + slave2.offset;\n",
       "  if slave2.theThingHappened then\n",
       "    slave2.a = 0.0;\n",
       "  else\n",
       "    slave2.F = -slave2.g;\n",
       "  end if;\n",
       "  thingsHappened[1] = slave1.theThingHappened;\n",
       "  thingsHappened[2] = slave2.theThingHappened;\n",
       "  slave1.thingsHappened[1] = thingsHappened[1];\n",
       "  slave1.thingsHappened[2] = thingsHappened[2];\n",
       "  slave2.thingsHappened[1] = thingsHappened[1];\n",
       "  slave2.thingsHappened[2] = thingsHappened[2];\n",
       "algorithm\n",
       "  slave1.offset := CalculateOffset(slave1.index, {slave1.thingsHappened[1], slave1.thingsHappened[2]}, slave1.offset);\n",
       "algorithm\n",
       "  slave2.offset := CalculateOffset(slave2.index, {slave2.thingsHappened[1], slave2.thingsHappened[2]}, slave2.offset);\n",
       "end Master;\n"
      ]
     },
     "metadata": {},
     "output_type": "display_data"
    }
   ],
   "source": [
    "instantiateModel(Master)"
   ]
  },
  {
   "cell_type": "code",
   "execution_count": 99,
   "metadata": {},
   "outputs": [
    {
     "data": {
      "text/plain": [
       "{'timeTemplates': 0.08221549, 'simulationOptions': \"startTime = 0.0, stopTime = 1.0, numberOfIntervals = 500, tolerance = 1e-06, method = 'dassl', fileNamePrefix = 'Master', options = '', outputFormat = 'csv', variableFilter = '.*', cflags = '', simflags = ''\", 'messages': 'stdout            | info    | The initialization finished successfully without homotopy method.\\nstdout            | info    | The simulation finished successfully.\\n', 'timeSimulation': 0.1413697559999999, 'timeSimCode': 0.050236578, 'resultFile': '/home/vf/om/models/omni/tmp/Master_res.csv', 'timeTotal': 25.275871049, 'timeBackend': 0.055664002, 'timeFrontend': 2.365452886, 'timeCompile': 22.580407415}"
      ]
     },
     "metadata": {},
     "output_type": "display_data"
    }
   ],
   "source": [
    "res := simulate\n",
    "  ( Master\n",
    "  , outputFormat = \"csv\"\n",
    "  , stopTime = 1\n",
    "  )"
   ]
  },
  {
   "cell_type": "code",
   "execution_count": 100,
   "metadata": {},
   "outputs": [
    {
     "data": {
      "text/plain": [
       "\"\"\n"
      ]
     },
     "metadata": {},
     "output_type": "display_data"
    }
   ],
   "source": [
    "getErrorString()"
   ]
  },
  {
   "cell_type": "code",
   "execution_count": 101,
   "metadata": {},
   "outputs": [
    {
     "data": {
      "text/plain": [
       "\n"
      ]
     },
     "metadata": {},
     "output_type": "display_data"
    }
   ],
   "source": [
    "getMessagesString()"
   ]
  },
  {
   "cell_type": "code",
   "execution_count": 102,
   "metadata": {},
   "outputs": [
    {
     "data": {
      "text/plain": [
       "stdout            | info    | The initialization finished successfully without homotopy method.\n",
       "stdout            | info    | The simulation finished successfully.\n"
      ]
     },
     "metadata": {},
     "output_type": "display_data"
    }
   ],
   "source": [
    "res.messages"
   ]
  },
  {
   "cell_type": "code",
   "execution_count": null,
   "metadata": {},
   "outputs": [],
   "source": []
  }
 ],
 "metadata": {
  "kernelspec": {
   "display_name": "OpenModelica",
   "language": "OpenModelica",
   "name": "openmodelica"
  },
  "language_info": {
   "mimetype": "text/x-modelica",
   "name": "modelica",
   "version": "1.0"
  }
 },
 "nbformat": 4,
 "nbformat_minor": 2
}
