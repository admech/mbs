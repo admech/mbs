{
 "cells": [
  {
   "cell_type": "code",
   "execution_count": 1,
   "metadata": {},
   "outputs": [
    {
     "data": {
      "text/plain": [
       "('A',)"
      ]
     },
     "metadata": {},
     "output_type": "display_data"
    }
   ],
   "source": [
    "model A \"hello world\"\n",
    "    Real x(start = 1);\n",
    "equation\n",
    "    der(x) = -x;\n",
    "end A;"
   ]
  },
  {
   "cell_type": "code",
   "execution_count": 2,
   "metadata": {},
   "outputs": [
    {
     "data": {
      "text/plain": [
       "{'timeBackend': 0.095168625, 'timeSimCode': 0.167842787, 'messages': 'stdout            | info    | The initialization finished successfully without homotopy method.\\nstdout            | info    | The simulation finished successfully.\\n', 'timeTotal': 13.782870626, 'timeSimulation': 0.128033293, 'simulationOptions': \"startTime = 0.0, stopTime = 1.0, numberOfIntervals = 500, tolerance = 1e-06, method = 'dassl', fileNamePrefix = 'A', options = '', outputFormat = 'mat', variableFilter = '.*', cflags = '', simflags = ''\", 'timeTemplates': 0.051976833, 'timeFrontend': 0.02843029, 'timeCompile': 13.308659256, 'resultFile': '/home/vf/om/models/exp/helloworld-jupyter/A_res.mat'}"
      ]
     },
     "metadata": {},
     "output_type": "display_data"
    }
   ],
   "source": [
    "simulate(A)"
   ]
  },
  {
   "cell_type": "code",
   "execution_count": null,
   "metadata": {},
   "outputs": [],
   "source": []
  }
 ],
 "metadata": {
  "kernelspec": {
   "display_name": "OpenModelica",
   "language": "OpenModelica",
   "name": "openmodelica"
  },
  "language_info": {
   "mimetype": "text/x-modelica",
   "name": "modelica",
   "version": "1.0"
  }
 },
 "nbformat": 4,
 "nbformat_minor": 2
}
