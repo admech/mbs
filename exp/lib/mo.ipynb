{
 "cells": [
  {
   "cell_type": "code",
   "execution_count": 8,
   "metadata": {},
   "outputs": [
    {
     "data": {
      "text/plain": [
       "/home/vf/om/models/exp/lib/tmp"
      ]
     },
     "metadata": {},
     "output_type": "display_data"
    }
   ],
   "source": [
    "cd(\"tmp\")"
   ]
  },
  {
   "cell_type": "code",
   "execution_count": null,
   "metadata": {},
   "outputs": [],
   "source": [
    "loadModel(Modelica)"
   ]
  },
  {
   "cell_type": "code",
   "execution_count": 10,
   "metadata": {},
   "outputs": [
    {
     "data": {
      "text/plain": [
       "True"
      ]
     },
     "metadata": {},
     "output_type": "display_data"
    }
   ],
   "source": [
    "loadFile(\"/home/vf/om/models/exp/lib/Lib/package.mo\")"
   ]
  },
  {
   "cell_type": "code",
   "execution_count": 7,
   "metadata": {},
   "outputs": [
    {
     "data": {
      "text/plain": [
       "{'messages': 'stdout            | info    | The initialization finished successfully without homotopy method.\\nstdout            | info    | The simulation finished successfully.\\n', 'timeTotal': 21.345907638, 'timeCompile': 15.470528613, 'timeSimCode': 0.053480893, 'timeBackend': 0.761602797, 'resultFile': '/home/vf/om/models/exp/lib/Lib.Test_res.csv', 'timeTemplates': 0.07412325, 'simulationOptions': \"startTime = 0.0, stopTime = 1.0, numberOfIntervals = 500, tolerance = 1e-06, method = 'dassl', fileNamePrefix = 'Lib.Test', options = '', outputFormat = 'csv', variableFilter = '.*', cflags = '', simflags = ''\", 'timeSimulation': 0.105102314, 'timeFrontend': 4.478831548}"
      ]
     },
     "metadata": {},
     "output_type": "display_data"
    }
   ],
   "source": [
    "simulate(Lib.Test, outputFormat=\"csv\")"
   ]
  },
  {
   "cell_type": "code",
   "execution_count": 12,
   "metadata": {},
   "outputs": [
    {
     "data": {
      "text/plain": [
       "class Lib.Nested.Nest\n",
       "  parameter Real b = 2.0;\n",
       "  Real y(start = 1.0);\n",
       "equation\n",
       "  der(y) = y - b;\n",
       "end Lib.Nested.Nest;\n"
      ]
     },
     "metadata": {},
     "output_type": "display_data"
    }
   ],
   "source": [
    "instantiateModel(Lib.Nested.Nest)"
   ]
  },
  {
   "cell_type": "code",
   "execution_count": 14,
   "metadata": {},
   "outputs": [
    {
     "data": {
      "text/plain": [
       "{'messages': 'stdout            | info    | The initialization finished successfully without homotopy method.\\nstdout            | info    | The simulation finished successfully.\\n', 'timeTotal': 11.316120124, 'timeCompile': 10.166329561, 'timeSimCode': 0.138152099, 'timeBackend': 0.00770073, 'resultFile': '/home/vf/om/models/exp/lib/tmp/Lib.Nested.Nest_res.csv', 'timeTemplates': 0.015730136, 'simulationOptions': \"startTime = 0.0, stopTime = 1.0, numberOfIntervals = 500, tolerance = 1e-06, method = 'dassl', fileNamePrefix = 'Lib.Nested.Nest', options = '', outputFormat = 'csv', variableFilter = '.*', cflags = '', simflags = ''\", 'timeSimulation': 0.17304615, 'timeFrontend': 0.8145417859999999}"
      ]
     },
     "metadata": {},
     "output_type": "display_data"
    }
   ],
   "source": [
    "simulate(Lib.Nested.Nest, outputFormat=\"csv\")"
   ]
  },
  {
   "cell_type": "code",
   "execution_count": null,
   "metadata": {},
   "outputs": [],
   "source": []
  }
 ],
 "metadata": {
  "kernelspec": {
   "display_name": "OpenModelica",
   "language": "OpenModelica",
   "name": "openmodelica"
  },
  "language_info": {
   "mimetype": "text/x-modelica",
   "name": "modelica",
   "version": "1.0"
  }
 },
 "nbformat": 4,
 "nbformat_minor": 2
}
